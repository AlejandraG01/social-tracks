{
 "cells": [
  {
   "cell_type": "code",
   "execution_count": 6,
   "metadata": {
    "scrolled": true
   },
   "outputs": [
    {
     "data": {
      "text/html": [
       "\n",
       "        <div>\n",
       "            <p><b>SparkContext</b></p>\n",
       "\n",
       "            <p><a href=\"http://10.0.2.15:4040\">Spark UI</a></p>\n",
       "\n",
       "            <dl>\n",
       "              <dt>Version</dt>\n",
       "                <dd><code>v2.2.1</code></dd>\n",
       "              <dt>Master</dt>\n",
       "                <dd><code>local[*]</code></dd>\n",
       "              <dt>AppName</dt>\n",
       "                <dd><code>PySparkShell</code></dd>\n",
       "            </dl>\n",
       "        </div>\n",
       "        "
      ],
      "text/plain": [
       "<SparkContext master=local[*] appName=PySparkShell>"
      ]
     },
     "execution_count": 6,
     "metadata": {},
     "output_type": "execute_result"
    }
   ],
   "source": [
    "sc"
   ]
  },
  {
   "cell_type": "code",
   "execution_count": 7,
   "metadata": {
    "collapsed": true,
    "scrolled": true
   },
   "outputs": [],
   "source": [
    "import pandas as pd\n",
    "from pyspark.ml.evaluation import RegressionEvaluator\n",
    "from pyspark.ml.recommendation import ALS\n",
    "from pyspark.sql import Row\n",
    "from pyspark.sql.functions import *\n",
    "from pyspark.sql.types import *\n",
    "\n"
   ]
  },
  {
   "cell_type": "code",
   "execution_count": 8,
   "metadata": {
    "scrolled": true
   },
   "outputs": [
    {
     "data": {
      "text/plain": [
       "[Row(userId=1, movieId=2, rating=3.5, timestamp=1112486027),\n",
       " Row(userId=1, movieId=29, rating=3.5, timestamp=1112484676)]"
      ]
     },
     "execution_count": 8,
     "metadata": {},
     "output_type": "execute_result"
    }
   ],
   "source": [
    "#lines = spark.read.csv(\"hdfs:/user/data/ratings.csv\", header=\"true\",inferSchema=\"true\").rdd\n",
    "#lines = spark.read.csv(\"gs://dataset-rs/ml-20m/ratings.csv\", header=\"true\",inferSchema=\"true\").rdd\n",
    "lines = spark.read.csv(\"/home/aleja/Documentos/datasets/ml-20m/ratings.csv\", header=\"true\",inferSchema=\"true\").rdd\n",
    "\n",
    "lines.take(2)"
   ]
  },
  {
   "cell_type": "code",
   "execution_count": 9,
   "metadata": {
    "scrolled": true
   },
   "outputs": [
    {
     "data": {
      "text/plain": [
       "DataFrame[userId: bigint, movieId: bigint, rating: double, timestamp: bigint]"
      ]
     },
     "execution_count": 9,
     "metadata": {},
     "output_type": "execute_result"
    }
   ],
   "source": [
    "\n",
    "df_ratings = spark.createDataFrame(lines) \n",
    "\n",
    "df_ratings"
   ]
  },
  {
   "cell_type": "code",
   "execution_count": 10,
   "metadata": {},
   "outputs": [
    {
     "data": {
      "text/plain": [
       "4"
      ]
     },
     "execution_count": 10,
     "metadata": {},
     "output_type": "execute_result"
    }
   ],
   "source": [
    "df_ratings.rdd.getNumPartitions()"
   ]
  },
  {
   "cell_type": "code",
   "execution_count": 11,
   "metadata": {},
   "outputs": [
    {
     "data": {
      "text/plain": [
       "9998448"
      ]
     },
     "execution_count": 11,
     "metadata": {},
     "output_type": "execute_result"
    }
   ],
   "source": [
    "#newdf = ratings.limit(20000)\n",
    "ratings = df_ratings.sample(False,fraction=0.5, seed=1)\n",
    "ratings.select('userId').count()"
   ]
  },
  {
   "cell_type": "code",
   "execution_count": 12,
   "metadata": {},
   "outputs": [
    {
     "data": {
      "text/plain": [
       "1"
      ]
     },
     "execution_count": 12,
     "metadata": {},
     "output_type": "execute_result"
    }
   ],
   "source": [
    "ratings = ratings.repartition(1)\n",
    "ratings.rdd.getNumPartitions()"
   ]
  },
  {
   "cell_type": "code",
   "execution_count": 13,
   "metadata": {},
   "outputs": [
    {
     "data": {
      "text/plain": [
       "138493"
      ]
     },
     "execution_count": 13,
     "metadata": {},
     "output_type": "execute_result"
    }
   ],
   "source": [
    "ratings.select('userId').distinct().count()"
   ]
  },
  {
   "cell_type": "code",
   "execution_count": 14,
   "metadata": {},
   "outputs": [
    {
     "data": {
      "text/plain": [
       "24066"
      ]
     },
     "execution_count": 14,
     "metadata": {},
     "output_type": "execute_result"
    }
   ],
   "source": [
    "ratings.select('movieId').distinct().count()"
   ]
  },
  {
   "cell_type": "code",
   "execution_count": 15,
   "metadata": {
    "scrolled": true
   },
   "outputs": [
    {
     "name": "stdout",
     "output_type": "stream",
     "text": [
      "root\n",
      " |-- userId: long (nullable = true)\n",
      " |-- movieId: long (nullable = true)\n",
      " |-- rating: double (nullable = true)\n",
      " |-- timestamp: long (nullable = true)\n",
      "\n"
     ]
    }
   ],
   "source": [
    "(training, test) = ratings.randomSplit([0.8, 0.2])\n",
    "training.printSchema()\n"
   ]
  },
  {
   "cell_type": "code",
   "execution_count": 16,
   "metadata": {
    "scrolled": true
   },
   "outputs": [
    {
     "name": "stdout",
     "output_type": "stream",
     "text": [
      "+------+-------+------+----------+\n",
      "|userId|movieId|rating| timestamp|\n",
      "+------+-------+------+----------+\n",
      "|     1|      2|   3.5|1112486027|\n",
      "|     1|     32|   3.5|1112484819|\n",
      "+------+-------+------+----------+\n",
      "only showing top 2 rows\n",
      "\n"
     ]
    }
   ],
   "source": [
    "training.show(2)"
   ]
  },
  {
   "cell_type": "code",
   "execution_count": 17,
   "metadata": {
    "scrolled": true
   },
   "outputs": [
    {
     "name": "stdout",
     "output_type": "stream",
     "text": [
      "+------+-------+------+----------+\n",
      "|userId|movieId|rating| timestamp|\n",
      "+------+-------+------+----------+\n",
      "|     1|   4993|   5.0|1112484682|\n",
      "|     1|   7153|   5.0|1112484633|\n",
      "|     1|   8507|   5.0|1094786027|\n",
      "|     2|     62|   5.0| 974820598|\n",
      "|     2|     70|   5.0| 974820691|\n",
      "|     2|    480|   5.0| 974820720|\n",
      "|     2|    541|   5.0| 974821014|\n",
      "|     2|    589|   5.0| 974820658|\n",
      "|     2|    924|   5.0| 974821014|\n",
      "|     2|   1214|   5.0| 974821014|\n",
      "+------+-------+------+----------+\n",
      "only showing top 10 rows\n",
      "\n"
     ]
    }
   ],
   "source": [
    "training.filter(training['rating'] > 4).show(10)"
   ]
  },
  {
   "cell_type": "markdown",
   "metadata": {},
   "source": [
    "ALS\n",
    "-numBlocks is the number of blocks the users and items will be partitioned into in order to parallelize computation (defaults to 10).\n",
    "-rank is the number of latent factors in the model (defaults to 10).\n",
    "-maxIter is the maximum number of iterations to run (defaults to 10).\n",
    "-regParam specifies the regularization parameter in ALS (defaults to 1.0).\n",
    "-implicitPrefs specifies whether to use the explicit feedback ALS variant or one adapted for implicit feedback data (defaults to false which means using explicit feedback).\n",
    "-alpha is a parameter applicable to the implicit feedback variant of ALS that governs the baseline confidence in preference observations (defaults to 1.0).\n",
    "-nonnegative specifies whether or not to use nonnegative constraints for least squares (defaults to false).\n"
   ]
  },
  {
   "cell_type": "code",
   "execution_count": 18,
   "metadata": {
    "collapsed": true,
    "scrolled": true
   },
   "outputs": [],
   "source": [
    "als = ALS(maxIter=5, regParam=0.01, userCol=\"userId\", itemCol=\"movieId\", ratingCol=\"rating\",coldStartStrategy=\"drop\")\n"
   ]
  },
  {
   "cell_type": "code",
   "execution_count": 19,
   "metadata": {
    "scrolled": true
   },
   "outputs": [
    {
     "data": {
      "text/plain": [
       "10"
      ]
     },
     "execution_count": 19,
     "metadata": {},
     "output_type": "execute_result"
    }
   ],
   "source": [
    "model = als.fit(training)\n",
    "model.rank"
   ]
  },
  {
   "cell_type": "code",
   "execution_count": 20,
   "metadata": {
    "collapsed": true,
    "scrolled": true
   },
   "outputs": [],
   "source": [
    "#para usar despues\n",
    "predictions_Data= test.select(test.columns[:2])"
   ]
  },
  {
   "cell_type": "code",
   "execution_count": 21,
   "metadata": {
    "collapsed": true,
    "scrolled": true
   },
   "outputs": [],
   "source": [
    "predictions_Data = sorted(predictions_Data.collect(), key=lambda r:r[0])"
   ]
  },
  {
   "cell_type": "code",
   "execution_count": 22,
   "metadata": {
    "scrolled": true
   },
   "outputs": [
    {
     "data": {
      "text/plain": [
       "Row(userId=1, movieId=253)"
      ]
     },
     "execution_count": 22,
     "metadata": {},
     "output_type": "execute_result"
    }
   ],
   "source": [
    "predictions_Data[0]"
   ]
  },
  {
   "cell_type": "code",
   "execution_count": 23,
   "metadata": {
    "collapsed": true,
    "scrolled": true
   },
   "outputs": [],
   "source": [
    "predictions = model.transform(test)"
   ]
  },
  {
   "cell_type": "code",
   "execution_count": 24,
   "metadata": {
    "scrolled": true
   },
   "outputs": [
    {
     "name": "stdout",
     "output_type": "stream",
     "text": [
      "+------+-------+------+----------+----------+\n",
      "|userId|movieId|rating| timestamp|prediction|\n",
      "+------+-------+------+----------+----------+\n",
      "| 74757|    148|   3.5|1064853335| 3.1865687|\n",
      "| 87301|    148|   2.0| 974945135| 2.0974596|\n",
      "| 44979|    148|   3.0| 830778220| 3.8049493|\n",
      "| 81218|    148|   1.0| 833850593| 1.0988066|\n",
      "| 41389|    148|   3.0| 840444102| 3.1667418|\n",
      "| 86098|    148|   3.0| 842162037| 3.1746902|\n",
      "|110991|    148|   2.5|1207008368|   3.39181|\n",
      "|130531|    148|   1.0| 831284829|0.64112157|\n",
      "|122639|    148|   3.0| 835454413| 2.4494636|\n",
      "|107982|    148|   3.0|1146472014| 3.1706975|\n",
      "| 42767|    148|   2.0| 828638788| 1.4618912|\n",
      "| 72315|    148|   3.0| 852173782| 2.6381068|\n",
      "|  5814|    148|   3.0| 859547410|  3.331962|\n",
      "| 12539|    148|   3.0| 956789580| 3.1249228|\n",
      "|107346|    148|   3.0| 853421750|  2.705225|\n",
      "| 57653|    148|   4.0|1008641404| 3.0928473|\n",
      "| 11635|    148|   3.0| 834361463| 2.2119815|\n",
      "|  7318|    148|   4.0| 829770010| 3.3710506|\n",
      "| 74142|    148|   3.0| 982179803| 2.1694372|\n",
      "| 38724|    148|   3.0| 863705116| 3.3790956|\n",
      "+------+-------+------+----------+----------+\n",
      "only showing top 20 rows\n",
      "\n"
     ]
    }
   ],
   "source": [
    "predictions.show()"
   ]
  },
  {
   "cell_type": "code",
   "execution_count": 25,
   "metadata": {
    "scrolled": true
   },
   "outputs": [
    {
     "name": "stdout",
     "output_type": "stream",
     "text": [
      "Root-mean-square error = 0.8641321407684669\n"
     ]
    }
   ],
   "source": [
    "# Evaluate the model by computing the RMSE on the test data\n",
    "\n",
    "\n",
    "evaluator = RegressionEvaluator(metricName=\"rmse\", labelCol=\"rating\",predictionCol=\"prediction\")\n",
    "rmse = evaluator.evaluate(predictions.na.drop())\n",
    "print(\"Root-mean-square error = \" + str(rmse))"
   ]
  },
  {
   "cell_type": "code",
   "execution_count": 26,
   "metadata": {
    "scrolled": true
   },
   "outputs": [
    {
     "name": "stdout",
     "output_type": "stream",
     "text": [
      "+------+---------------------------------------------------------------------------------------------------------------------------------------------------------------------------------------------------+\n",
      "|userId|recommendations                                                                                                                                                                                    |\n",
      "+------+---------------------------------------------------------------------------------------------------------------------------------------------------------------------------------------------------+\n",
      "|148   |[[53853,13.008501], [32811,10.503595], [56779,10.057627], [57868,9.83757], [109953,9.833212], [103721,9.817218], [107910,9.77579], [100581,9.583071], [42602,9.350698], [69464,9.33087]]           |\n",
      "|463   |[[105084,10.110758], [73529,9.168722], [112907,9.099682], [100902,8.650026], [82051,8.576818], [87040,8.571697], [82055,8.529364], [57868,8.357774], [104583,8.319008], [79236,8.190803]]          |\n",
      "|471   |[[69858,11.622057], [82051,9.430077], [105084,9.376334], [109953,9.086613], [112907,8.438701], [53853,8.243735], [73529,8.240175], [87164,8.135822], [57868,8.076896], [74159,7.974836]]           |\n",
      "|496   |[[69858,11.796263], [105084,11.647018], [112907,10.482317], [73529,9.863859], [78192,9.3176155], [121370,9.3176155], [83457,9.3176155], [81443,9.049544], [117506,9.012075], [81671,8.973336]]     |\n",
      "|833   |[[69858,15.084713], [74159,13.861467], [87164,13.388752], [109953,13.124306], [82051,12.468808], [61913,12.1393795], [107910,10.976331], [3486,10.308353], [53853,10.283595], [105084,10.157583]]  |\n",
      "|1088  |[[88520,14.698027], [69858,13.173025], [124273,12.658981], [115467,12.315112], [105195,11.668524], [53853,11.548521], [115705,11.286976], [26719,11.206991], [27705,11.039832], [102007,11.030359]]|\n",
      "|1238  |[[105084,9.637497], [112907,8.673747], [73529,8.251031], [87164,7.9407005], [78192,7.7099977], [121370,7.7099977], [83457,7.7099977], [60737,7.542676], [117506,7.410055], [112501,7.347447]]      |\n",
      "|1342  |[[98595,16.439348], [5280,12.357803], [50970,12.209625], [68874,12.101963], [59680,11.887586], [95237,11.76607], [629,11.657888], [5467,10.812183], [63836,10.790734], [56580,10.709714]]          |\n",
      "|1580  |[[81443,21.762026], [1842,18.768795], [101218,17.651773], [6955,17.551258], [5467,17.44144], [6284,17.139923], [104583,17.07029], [53853,15.826943], [4379,15.566908], [6236,15.42077]]            |\n",
      "|1591  |[[104137,11.119881], [56693,10.876461], [82836,10.561508], [33245,10.2819605], [70804,9.996402], [105084,9.97862], [105130,9.963257], [103998,9.825848], [78054,9.765776], [40589,9.550163]]       |\n",
      "|1645  |[[105084,10.508643], [69858,9.810854], [73529,9.515583], [112907,9.457779], [82051,8.577084], [42984,8.531874], [82055,8.447779], [78192,8.406915], [121370,8.406915], [83457,8.406915]]           |\n",
      "|1829  |[[69858,12.257017], [105084,10.142005], [81443,10.123906], [82051,9.892421], [98595,9.775497], [115176,9.511453], [109953,9.50349], [73529,9.245058], [112907,9.127803], [25991,8.923268]]         |\n",
      "|1959  |[[105084,8.923516], [53853,8.881233], [83575,8.455703], [81671,8.395265], [69858,8.378025], [50589,8.33523], [109953,8.2127495], [93803,8.167222], [79475,8.036892], [87047,8.036892]]             |\n",
      "|2122  |[[636,16.33281], [88816,16.227825], [89939,14.56444], [72844,13.211959], [106102,12.676806], [98595,12.191663], [78742,12.030388], [91035,12.011265], [70366,11.891784], [86094,11.850738]]        |\n",
      "|2142  |[[33245,15.905391], [96255,15.738399], [86094,15.124938], [70804,14.958013], [56693,14.185975], [5402,14.08269], [91054,13.580518], [114082,13.283814], [75349,13.042455], [86237,12.962146]]      |\n",
      "|2366  |[[69858,17.16932], [82051,13.6251955], [74159,12.836945], [87164,11.80014], [9007,11.318591], [109953,11.109559], [105084,11.067837], [58895,10.994936], [53853,10.9221115], [115705,10.543391]]   |\n",
      "|2659  |[[96255,14.22866], [96030,13.514671], [60737,11.161339], [40828,10.056938], [56779,9.876518], [86237,9.6940155], [99673,9.671186], [90104,9.5542145], [72032,9.550949], [70804,9.486151]]          |\n",
      "|2866  |[[105084,9.669882], [73529,8.870425], [112907,8.702893], [81445,8.699121], [94222,8.665437], [100902,8.46188], [96255,8.308517], [109697,8.2003145], [49359,7.9362926], [82055,7.819533]]          |\n",
      "|3175  |[[81443,16.319027], [58324,15.986398], [82931,15.807184], [92262,14.932163], [8834,14.807619], [4556,13.78326], [25786,13.44966], [73089,13.37455], [26266,13.015621], [6733,12.991999]]           |\n",
      "|3749  |[[31524,15.07489], [27236,13.6543], [101296,12.795095], [34526,12.745602], [84137,12.55954], [73051,12.466055], [5467,12.190786], [88816,12.156973], [47907,12.136141], [98595,12.083089]]         |\n",
      "+------+---------------------------------------------------------------------------------------------------------------------------------------------------------------------------------------------------+\n",
      "only showing top 20 rows\n",
      "\n"
     ]
    }
   ],
   "source": [
    "# Generate top 10 movie recommendations for each user\n",
    "userRecs = model.recommendForAllUsers(10)\n",
    "userRecs.show(truncate=False)"
   ]
  },
  {
   "cell_type": "code",
   "execution_count": null,
   "metadata": {
    "collapsed": true,
    "scrolled": true
   },
   "outputs": [],
   "source": []
  },
  {
   "cell_type": "code",
   "execution_count": 27,
   "metadata": {
    "scrolled": true
   },
   "outputs": [
    {
     "name": "stdout",
     "output_type": "stream",
     "text": [
      "+-------+--------------------------------------------------------------------------------------------------------------------------------------------------------------------------------------------------+\n",
      "|movieId|recommendations                                                                                                                                                                                   |\n",
      "+-------+--------------------------------------------------------------------------------------------------------------------------------------------------------------------------------------------------+\n",
      "|1580   |[[38788,5.931761], [67233,5.89398], [97160,5.7156553], [111191,5.6878886], [36893,5.6826572], [69605,5.659505], [135200,5.6463013], [32498,5.641259], [111273,5.6393633], [4404,5.6339464]]       |\n",
      "|4900   |[[61007,11.748933], [1425,10.661896], [28169,10.044614], [18643,9.590103], [119956,9.202298], [107804,9.098656], [7591,8.981808], [137282,8.64775], [62488,8.455342], [16882,8.416983]]           |\n",
      "|5300   |[[95178,9.095412], [26910,8.5278425], [137104,8.362576], [117161,8.355472], [92720,8.3165455], [135122,8.12247], [44509,8.115777], [95139,8.032101], [24089,8.019506], [22226,8.006983]]          |\n",
      "|6620   |[[71301,8.548771], [94010,8.058107], [37994,7.9936805], [26243,7.8847766], [26910,7.8697686], [42217,7.72034], [19100,7.660701], [106798,7.6341453], [117161,7.628498], [88360,7.615602]]         |\n",
      "|7240   |[[105942,18.891281], [96799,17.73388], [28252,17.099602], [128087,16.911255], [61007,16.707308], [22298,16.026371], [25829,15.913166], [50505,15.272066], [6930,15.018867], [92720,15.0078535]]   |\n",
      "|7340   |[[61007,10.008228], [1229,8.250912], [95139,8.19287], [92720,8.028559], [101476,7.841314], [109607,7.794307], [72057,7.7697988], [56657,7.6326327], [25829,7.603307], [66182,7.5238447]]          |\n",
      "|7880   |[[137386,20.736776], [69228,18.336222], [9886,17.789583], [88569,17.670223], [57773,17.534946], [8237,17.484898], [26243,17.298426], [1425,17.272806], [55948,16.89595], [134556,16.445856]]      |\n",
      "|27760  |[[111824,8.687519], [81079,8.152276], [5200,8.024974], [79541,7.985768], [82382,7.7684207], [13834,7.721974], [75152,7.7203155], [118767,7.695019], [95139,7.678712], [80078,7.6687145]]          |\n",
      "|30970  |[[39626,14.00402], [110936,13.8818655], [54765,13.852099], [134819,13.801296], [124294,13.756857], [71301,13.557753], [45441,13.514556], [39520,13.441916], [70177,13.43483], [88502,13.316911]]  |\n",
      "|32460  |[[89881,10.410967], [128053,9.848121], [34048,9.534061], [125967,9.4615965], [33562,9.444994], [120997,9.34098], [26243,9.232695], [65900,9.109815], [95178,9.109274], [28169,9.095785]]          |\n",
      "|54190  |[[36269,8.675637], [97609,8.57675], [125967,8.390952], [5445,7.939253], [63465,7.823434], [23928,7.8175406], [9886,7.794076], [111361,7.742899], [51105,7.739373], [104838,7.676037]]             |\n",
      "|57370  |[[36269,12.4753475], [108974,12.040822], [65736,11.803791], [21010,11.790209], [98446,11.532037], [122287,11.51702], [106469,11.430045], [48057,11.358792], [26811,11.287885], [114742,11.264228]]|\n",
      "|74820  |[[43815,19.266077], [89066,17.519825], [70196,17.382591], [57546,16.644896], [117120,16.327682], [123082,16.096405], [11936,15.882994], [42201,15.639357], [105792,15.530286], [18643,15.490213]] |\n",
      "|79220  |[[124603,6.625287], [77582,6.55], [16194,6.5082016], [13331,6.495742], [27605,6.4524946], [55408,6.43458], [61631,6.281015], [37499,6.2609825], [104277,6.229132], [106531,6.2230434]]            |\n",
      "|83250  |[[136143,22.607883], [27605,21.56671], [28597,19.834364], [7004,19.682621], [551,19.424383], [99668,19.188437], [31835,19.033096], [100570,18.917255], [45226,18.748842], [2112,18.721722]]       |\n",
      "|109800 |[[112095,6.3348336], [43990,6.015972], [136340,5.991973], [95139,5.960478], [95639,5.8209558], [113817,5.814636], [121586,5.804596], [75470,5.688751], [97160,5.6342955], [3261,5.601348]]        |\n",
      "|471    |[[112095,7.5265045], [79561,7.0766296], [41076,6.879425], [70196,6.8137374], [3261,6.611396], [5625,6.5694203], [96615,6.5484476], [68907,6.394746], [37496,6.2714067], [137276,6.269291]]        |\n",
      "|1591   |[[70196,6.899439], [45226,6.552825], [109139,6.5218925], [31667,6.4643207], [85607,6.3821406], [91221,6.3430624], [21640,6.324792], [112795,6.2746887], [49753,6.163745], [56936,6.1204834]]      |\n",
      "|4101   |[[112095,22.892572], [97184,21.290386], [78034,20.667925], [76405,19.546139], [76846,19.1837], [121519,18.850372], [13331,18.548016], [50642,18.480352], [56450,18.393335], [61807,18.020493]]    |\n",
      "|47501  |[[125524,5.73923], [46067,5.6124525], [2624,5.5656104], [71537,5.510016], [7793,5.507743], [4404,5.482934], [78872,5.464835], [122551,5.4486914], [21948,5.443267], [93673,5.4417286]]            |\n",
      "+-------+--------------------------------------------------------------------------------------------------------------------------------------------------------------------------------------------------+\n",
      "only showing top 20 rows\n",
      "\n"
     ]
    }
   ],
   "source": [
    "# Generate top 10 user recommendations for each movie\n",
    "movieRecs = model.recommendForAllItems(10)\n",
    "movieRecs.show(truncate=False)"
   ]
  },
  {
   "cell_type": "code",
   "execution_count": 28,
   "metadata": {
    "scrolled": true
   },
   "outputs": [
    {
     "data": {
      "text/plain": [
       "DataFrame[movieId: bigint, title: string, genres: string]"
      ]
     },
     "execution_count": 28,
     "metadata": {},
     "output_type": "execute_result"
    }
   ],
   "source": [
    "movies_data = spark.read.csv(\"/home/aleja/Documentos/datasets/ml-20m/movies.csv\", header=\"true\",inferSchema=\"true\").rdd\n",
    "df_movies = spark.createDataFrame(movies_data)\n",
    "df_movies"
   ]
  },
  {
   "cell_type": "code",
   "execution_count": 29,
   "metadata": {},
   "outputs": [
    {
     "data": {
      "text/plain": [
       "27278"
      ]
     },
     "execution_count": 29,
     "metadata": {},
     "output_type": "execute_result"
    }
   ],
   "source": [
    "df_movies.select('movieId').count()"
   ]
  },
  {
   "cell_type": "code",
   "execution_count": 30,
   "metadata": {},
   "outputs": [
    {
     "data": {
      "text/plain": [
       "13710"
      ]
     },
     "execution_count": 30,
     "metadata": {},
     "output_type": "execute_result"
    }
   ],
   "source": [
    "movies = df_movies.sample(False,fraction=0.5, seed=1)\n",
    "movies.select('movieId').count()"
   ]
  },
  {
   "cell_type": "code",
   "execution_count": 31,
   "metadata": {
    "scrolled": true
   },
   "outputs": [
    {
     "name": "stdout",
     "output_type": "stream",
     "text": [
      "+-------+----------------------------------------------------+-------------------------------------------+\n",
      "|movieId|title                                               |genres                                     |\n",
      "+-------+----------------------------------------------------+-------------------------------------------+\n",
      "|1      |Toy Story (1995)                                    |Adventure|Animation|Children|Comedy|Fantasy|\n",
      "|3      |Grumpier Old Men (1995)                             |Comedy|Romance                             |\n",
      "|4      |Waiting to Exhale (1995)                            |Comedy|Drama|Romance                       |\n",
      "|7      |Sabrina (1995)                                      |Comedy|Romance                             |\n",
      "|9      |Sudden Death (1995)                                 |Action                                     |\n",
      "|12     |Dracula: Dead and Loving It (1995)                  |Comedy|Horror                              |\n",
      "|13     |Balto (1995)                                        |Adventure|Animation|Children               |\n",
      "|14     |Nixon (1995)                                        |Drama                                      |\n",
      "|15     |Cutthroat Island (1995)                             |Action|Adventure|Romance                   |\n",
      "|16     |Casino (1995)                                       |Crime|Drama                                |\n",
      "|20     |Money Train (1995)                                  |Action|Comedy|Crime|Drama|Thriller         |\n",
      "|22     |Copycat (1995)                                      |Crime|Drama|Horror|Mystery|Thriller        |\n",
      "|23     |Assassins (1995)                                    |Action|Crime|Thriller                      |\n",
      "|24     |Powder (1995)                                       |Drama|Sci-Fi                               |\n",
      "|26     |Othello (1995)                                      |Drama                                      |\n",
      "|28     |Persuasion (1995)                                   |Drama|Romance                              |\n",
      "|30     |Shanghai Triad (Yao a yao yao dao waipo qiao) (1995)|Crime|Drama                                |\n",
      "|31     |Dangerous Minds (1995)                              |Drama                                      |\n",
      "|34     |Babe (1995)                                         |Children|Drama                             |\n",
      "|35     |Carrington (1995)                                   |Drama|Romance                              |\n",
      "+-------+----------------------------------------------------+-------------------------------------------+\n",
      "only showing top 20 rows\n",
      "\n"
     ]
    }
   ],
   "source": [
    "movies.show(truncate=False)"
   ]
  },
  {
   "cell_type": "code",
   "execution_count": 32,
   "metadata": {},
   "outputs": [
    {
     "data": {
      "text/plain": [
       "1"
      ]
     },
     "execution_count": 32,
     "metadata": {},
     "output_type": "execute_result"
    }
   ],
   "source": [
    "movies = movies.repartition(1)\n",
    "movies.rdd.getNumPartitions()"
   ]
  },
  {
   "cell_type": "code",
   "execution_count": 33,
   "metadata": {
    "scrolled": true
   },
   "outputs": [
    {
     "name": "stdout",
     "output_type": "stream",
     "text": [
      "+-------+------+\n",
      "|movieId|userId|\n",
      "+-------+------+\n",
      "|   2529|   148|\n",
      "|    474|   148|\n",
      "|  45726|   148|\n",
      "|     29|   148|\n",
      "|  60756|   148|\n",
      "|   1950|   148|\n",
      "| 106002|   148|\n",
      "| 106100|   148|\n",
      "|    964|   148|\n",
      "|   2927|   148|\n",
      "|   3091|   148|\n",
      "|   1806|   148|\n",
      "|   1677|   148|\n",
      "|   3764|   148|\n",
      "|     26|   148|\n",
      "|   5385|   148|\n",
      "|  51709|   148|\n",
      "|  96829|   148|\n",
      "|  51418|   148|\n",
      "|   2453|   148|\n",
      "+-------+------+\n",
      "only showing top 20 rows\n",
      "\n"
     ]
    }
   ],
   "source": [
    "data = ratings.select(\"movieId\").distinct().withColumn(\"userId\", lit(148))\n",
    "data.show()\n"
   ]
  },
  {
   "cell_type": "code",
   "execution_count": 40,
   "metadata": {
    "scrolled": true
   },
   "outputs": [
    {
     "name": "stdout",
     "output_type": "stream",
     "text": [
      "+-------+------+\n",
      "|movieId|userId|\n",
      "+-------+------+\n",
      "|     17|   148|\n",
      "|     18|   148|\n",
      "|     39|   148|\n",
      "|     46|   148|\n",
      "|     86|   148|\n",
      "|    222|   148|\n",
      "|    224|   148|\n",
      "|    252|   148|\n",
      "|    342|   148|\n",
      "|    353|   148|\n",
      "|    356|   148|\n",
      "|    362|   148|\n",
      "|    468|   148|\n",
      "|    597|   148|\n",
      "|    708|   148|\n",
      "|    902|   148|\n",
      "|    914|   148|\n",
      "|    916|   148|\n",
      "|    933|   148|\n",
      "|   1057|   148|\n",
      "+-------+------+\n",
      "only showing top 20 rows\n",
      "\n"
     ]
    }
   ],
   "source": [
    "datamv = ratings.filter(ratings.userId == 148).select(\"movieId\", \"userId\")\n",
    "datamv.show()"
   ]
  },
  {
   "cell_type": "code",
   "execution_count": 41,
   "metadata": {},
   "outputs": [
    {
     "name": "stdout",
     "output_type": "stream",
     "text": [
      "+-------+----------+\n",
      "|movieId|prediction|\n",
      "+-------+----------+\n",
      "|  53853| 13.008501|\n",
      "|  32811| 10.503595|\n",
      "|  56779| 10.057627|\n",
      "|  57868|   9.83757|\n",
      "| 109953|  9.833212|\n",
      "+-------+----------+\n",
      "\n"
     ]
    }
   ],
   "source": [
    "data_pred = model.transform(data.subtract(datamv)).dropna().orderBy(\"prediction\",ascending=False).limit(5).select(\"movieId\", \"prediction\")\n",
    "data_pred.show()"
   ]
  },
  {
   "cell_type": "code",
   "execution_count": 42,
   "metadata": {},
   "outputs": [
    {
     "data": {
      "text/plain": [
       "DataFrame[movieId: bigint, prediction: float]"
      ]
     },
     "execution_count": 42,
     "metadata": {},
     "output_type": "execute_result"
    }
   ],
   "source": [
    "data_pred"
   ]
  },
  {
   "cell_type": "code",
   "execution_count": 43,
   "metadata": {},
   "outputs": [
    {
     "data": {
      "text/plain": [
       "DataFrame[movieId: bigint, title: string, genres: string]"
      ]
     },
     "execution_count": 43,
     "metadata": {},
     "output_type": "execute_result"
    }
   ],
   "source": [
    "movies"
   ]
  },
  {
   "cell_type": "code",
   "execution_count": 44,
   "metadata": {},
   "outputs": [
    {
     "ename": "Py4JJavaError",
     "evalue": "An error occurred while calling o468.showString.\n: java.util.concurrent.TimeoutException: Futures timed out after [300 seconds]\n\tat scala.concurrent.impl.Promise$DefaultPromise.ready(Promise.scala:219)\n\tat scala.concurrent.impl.Promise$DefaultPromise.result(Promise.scala:223)\n\tat org.apache.spark.util.ThreadUtils$.awaitResult(ThreadUtils.scala:201)\n\tat org.apache.spark.sql.execution.exchange.BroadcastExchangeExec.doExecuteBroadcast(BroadcastExchangeExec.scala:123)\n\tat org.apache.spark.sql.execution.InputAdapter.doExecuteBroadcast(WholeStageCodegenExec.scala:248)\n\tat org.apache.spark.sql.execution.SparkPlan$$anonfun$executeBroadcast$1.apply(SparkPlan.scala:127)\n\tat org.apache.spark.sql.execution.SparkPlan$$anonfun$executeBroadcast$1.apply(SparkPlan.scala:127)\n\tat org.apache.spark.sql.execution.SparkPlan$$anonfun$executeQuery$1.apply(SparkPlan.scala:138)\n\tat org.apache.spark.rdd.RDDOperationScope$.withScope(RDDOperationScope.scala:151)\n\tat org.apache.spark.sql.execution.SparkPlan.executeQuery(SparkPlan.scala:135)\n\tat org.apache.spark.sql.execution.SparkPlan.executeBroadcast(SparkPlan.scala:126)\n\tat org.apache.spark.sql.execution.joins.BroadcastHashJoinExec.prepareBroadcast(BroadcastHashJoinExec.scala:98)\n\tat org.apache.spark.sql.execution.joins.BroadcastHashJoinExec.codegenInner(BroadcastHashJoinExec.scala:197)\n\tat org.apache.spark.sql.execution.joins.BroadcastHashJoinExec.doConsume(BroadcastHashJoinExec.scala:82)\n\tat org.apache.spark.sql.execution.CodegenSupport$class.consume(WholeStageCodegenExec.scala:155)\n\tat org.apache.spark.sql.execution.InputAdapter.consume(WholeStageCodegenExec.scala:235)\n\tat org.apache.spark.sql.execution.InputAdapter.doProduce(WholeStageCodegenExec.scala:263)\n\tat org.apache.spark.sql.execution.CodegenSupport$$anonfun$produce$1.apply(WholeStageCodegenExec.scala:85)\n\tat org.apache.spark.sql.execution.CodegenSupport$$anonfun$produce$1.apply(WholeStageCodegenExec.scala:80)\n\tat org.apache.spark.sql.execution.SparkPlan$$anonfun$executeQuery$1.apply(SparkPlan.scala:138)\n\tat org.apache.spark.rdd.RDDOperationScope$.withScope(RDDOperationScope.scala:151)\n\tat org.apache.spark.sql.execution.SparkPlan.executeQuery(SparkPlan.scala:135)\n\tat org.apache.spark.sql.execution.CodegenSupport$class.produce(WholeStageCodegenExec.scala:80)\n\tat org.apache.spark.sql.execution.InputAdapter.produce(WholeStageCodegenExec.scala:235)\n\tat org.apache.spark.sql.execution.joins.BroadcastHashJoinExec.doProduce(BroadcastHashJoinExec.scala:77)\n\tat org.apache.spark.sql.execution.CodegenSupport$$anonfun$produce$1.apply(WholeStageCodegenExec.scala:85)\n\tat org.apache.spark.sql.execution.CodegenSupport$$anonfun$produce$1.apply(WholeStageCodegenExec.scala:80)\n\tat org.apache.spark.sql.execution.SparkPlan$$anonfun$executeQuery$1.apply(SparkPlan.scala:138)\n\tat org.apache.spark.rdd.RDDOperationScope$.withScope(RDDOperationScope.scala:151)\n\tat org.apache.spark.sql.execution.SparkPlan.executeQuery(SparkPlan.scala:135)\n\tat org.apache.spark.sql.execution.CodegenSupport$class.produce(WholeStageCodegenExec.scala:80)\n\tat org.apache.spark.sql.execution.joins.BroadcastHashJoinExec.produce(BroadcastHashJoinExec.scala:38)\n\tat org.apache.spark.sql.execution.WholeStageCodegenExec.doCodeGen(WholeStageCodegenExec.scala:331)\n\tat org.apache.spark.sql.execution.WholeStageCodegenExec.doExecute(WholeStageCodegenExec.scala:372)\n\tat org.apache.spark.sql.execution.SparkPlan$$anonfun$execute$1.apply(SparkPlan.scala:117)\n\tat org.apache.spark.sql.execution.SparkPlan$$anonfun$execute$1.apply(SparkPlan.scala:117)\n\tat org.apache.spark.sql.execution.SparkPlan$$anonfun$executeQuery$1.apply(SparkPlan.scala:138)\n\tat org.apache.spark.rdd.RDDOperationScope$.withScope(RDDOperationScope.scala:151)\n\tat org.apache.spark.sql.execution.SparkPlan.executeQuery(SparkPlan.scala:135)\n\tat org.apache.spark.sql.execution.SparkPlan.execute(SparkPlan.scala:116)\n\tat org.apache.spark.sql.execution.SparkPlan.getByteArrayRdd(SparkPlan.scala:228)\n\tat org.apache.spark.sql.execution.SparkPlan.executeTake(SparkPlan.scala:311)\n\tat org.apache.spark.sql.execution.CollectLimitExec.executeCollect(limit.scala:38)\n\tat org.apache.spark.sql.Dataset.org$apache$spark$sql$Dataset$$collectFromPlan(Dataset.scala:2861)\n\tat org.apache.spark.sql.Dataset$$anonfun$head$1.apply(Dataset.scala:2150)\n\tat org.apache.spark.sql.Dataset$$anonfun$head$1.apply(Dataset.scala:2150)\n\tat org.apache.spark.sql.Dataset$$anonfun$55.apply(Dataset.scala:2842)\n\tat org.apache.spark.sql.execution.SQLExecution$.withNewExecutionId(SQLExecution.scala:65)\n\tat org.apache.spark.sql.Dataset.withAction(Dataset.scala:2841)\n\tat org.apache.spark.sql.Dataset.head(Dataset.scala:2150)\n\tat org.apache.spark.sql.Dataset.take(Dataset.scala:2363)\n\tat org.apache.spark.sql.Dataset.showString(Dataset.scala:241)\n\tat sun.reflect.NativeMethodAccessorImpl.invoke0(Native Method)\n\tat sun.reflect.NativeMethodAccessorImpl.invoke(NativeMethodAccessorImpl.java:62)\n\tat sun.reflect.DelegatingMethodAccessorImpl.invoke(DelegatingMethodAccessorImpl.java:43)\n\tat java.lang.reflect.Method.invoke(Method.java:498)\n\tat py4j.reflection.MethodInvoker.invoke(MethodInvoker.java:244)\n\tat py4j.reflection.ReflectionEngine.invoke(ReflectionEngine.java:357)\n\tat py4j.Gateway.invoke(Gateway.java:280)\n\tat py4j.commands.AbstractCommand.invokeMethod(AbstractCommand.java:132)\n\tat py4j.commands.CallCommand.execute(CallCommand.java:79)\n\tat py4j.GatewayConnection.run(GatewayConnection.java:214)\n\tat java.lang.Thread.run(Thread.java:748)\n",
     "output_type": "error",
     "traceback": [
      "\u001b[0;31m---------------------------------------------------------------------------\u001b[0m",
      "\u001b[0;31mPy4JJavaError\u001b[0m                             Traceback (most recent call last)",
      "\u001b[0;32m<ipython-input-44-89152cf6ee94>\u001b[0m in \u001b[0;36m<module>\u001b[0;34m()\u001b[0m\n\u001b[1;32m      1\u001b[0m \u001b[0mrec_mv\u001b[0m \u001b[0;34m=\u001b[0m \u001b[0mdata_pred\u001b[0m\u001b[0;34m.\u001b[0m\u001b[0mjoin\u001b[0m\u001b[0;34m(\u001b[0m\u001b[0mmovies\u001b[0m\u001b[0;34m,\u001b[0m \u001b[0mdata_pred\u001b[0m\u001b[0;34m.\u001b[0m\u001b[0mmovieId\u001b[0m \u001b[0;34m==\u001b[0m \u001b[0mmovies\u001b[0m\u001b[0;34m.\u001b[0m\u001b[0mmovieId\u001b[0m\u001b[0;34m)\u001b[0m\u001b[0;34m\u001b[0m\u001b[0m\n\u001b[1;32m      2\u001b[0m \u001b[0;31m#select(data_pred.movieId, movies.title, data_pred.prediction)\u001b[0m\u001b[0;34m\u001b[0m\u001b[0;34m\u001b[0m\u001b[0m\n\u001b[0;32m----> 3\u001b[0;31m \u001b[0mrec_mv\u001b[0m\u001b[0;34m.\u001b[0m\u001b[0mshow\u001b[0m\u001b[0;34m(\u001b[0m\u001b[0;34m)\u001b[0m\u001b[0;34m\u001b[0m\u001b[0m\n\u001b[0m",
      "\u001b[0;32m/usr/local/spark/python/pyspark/sql/dataframe.py\u001b[0m in \u001b[0;36mshow\u001b[0;34m(self, n, truncate)\u001b[0m\n\u001b[1;32m    334\u001b[0m         \"\"\"\n\u001b[1;32m    335\u001b[0m         \u001b[0;32mif\u001b[0m \u001b[0misinstance\u001b[0m\u001b[0;34m(\u001b[0m\u001b[0mtruncate\u001b[0m\u001b[0;34m,\u001b[0m \u001b[0mbool\u001b[0m\u001b[0;34m)\u001b[0m \u001b[0;32mand\u001b[0m \u001b[0mtruncate\u001b[0m\u001b[0;34m:\u001b[0m\u001b[0;34m\u001b[0m\u001b[0m\n\u001b[0;32m--> 336\u001b[0;31m             \u001b[0mprint\u001b[0m\u001b[0;34m(\u001b[0m\u001b[0mself\u001b[0m\u001b[0;34m.\u001b[0m\u001b[0m_jdf\u001b[0m\u001b[0;34m.\u001b[0m\u001b[0mshowString\u001b[0m\u001b[0;34m(\u001b[0m\u001b[0mn\u001b[0m\u001b[0;34m,\u001b[0m \u001b[0;36m20\u001b[0m\u001b[0;34m)\u001b[0m\u001b[0;34m)\u001b[0m\u001b[0;34m\u001b[0m\u001b[0m\n\u001b[0m\u001b[1;32m    337\u001b[0m         \u001b[0;32melse\u001b[0m\u001b[0;34m:\u001b[0m\u001b[0;34m\u001b[0m\u001b[0m\n\u001b[1;32m    338\u001b[0m             \u001b[0mprint\u001b[0m\u001b[0;34m(\u001b[0m\u001b[0mself\u001b[0m\u001b[0;34m.\u001b[0m\u001b[0m_jdf\u001b[0m\u001b[0;34m.\u001b[0m\u001b[0mshowString\u001b[0m\u001b[0;34m(\u001b[0m\u001b[0mn\u001b[0m\u001b[0;34m,\u001b[0m \u001b[0mint\u001b[0m\u001b[0;34m(\u001b[0m\u001b[0mtruncate\u001b[0m\u001b[0;34m)\u001b[0m\u001b[0;34m)\u001b[0m\u001b[0;34m)\u001b[0m\u001b[0;34m\u001b[0m\u001b[0m\n",
      "\u001b[0;32m/usr/local/spark/python/lib/py4j-0.10.4-src.zip/py4j/java_gateway.py\u001b[0m in \u001b[0;36m__call__\u001b[0;34m(self, *args)\u001b[0m\n\u001b[1;32m   1131\u001b[0m         \u001b[0manswer\u001b[0m \u001b[0;34m=\u001b[0m \u001b[0mself\u001b[0m\u001b[0;34m.\u001b[0m\u001b[0mgateway_client\u001b[0m\u001b[0;34m.\u001b[0m\u001b[0msend_command\u001b[0m\u001b[0;34m(\u001b[0m\u001b[0mcommand\u001b[0m\u001b[0;34m)\u001b[0m\u001b[0;34m\u001b[0m\u001b[0m\n\u001b[1;32m   1132\u001b[0m         return_value = get_return_value(\n\u001b[0;32m-> 1133\u001b[0;31m             answer, self.gateway_client, self.target_id, self.name)\n\u001b[0m\u001b[1;32m   1134\u001b[0m \u001b[0;34m\u001b[0m\u001b[0m\n\u001b[1;32m   1135\u001b[0m         \u001b[0;32mfor\u001b[0m \u001b[0mtemp_arg\u001b[0m \u001b[0;32min\u001b[0m \u001b[0mtemp_args\u001b[0m\u001b[0;34m:\u001b[0m\u001b[0;34m\u001b[0m\u001b[0m\n",
      "\u001b[0;32m/usr/local/spark/python/pyspark/sql/utils.py\u001b[0m in \u001b[0;36mdeco\u001b[0;34m(*a, **kw)\u001b[0m\n\u001b[1;32m     61\u001b[0m     \u001b[0;32mdef\u001b[0m \u001b[0mdeco\u001b[0m\u001b[0;34m(\u001b[0m\u001b[0;34m*\u001b[0m\u001b[0ma\u001b[0m\u001b[0;34m,\u001b[0m \u001b[0;34m**\u001b[0m\u001b[0mkw\u001b[0m\u001b[0;34m)\u001b[0m\u001b[0;34m:\u001b[0m\u001b[0;34m\u001b[0m\u001b[0m\n\u001b[1;32m     62\u001b[0m         \u001b[0;32mtry\u001b[0m\u001b[0;34m:\u001b[0m\u001b[0;34m\u001b[0m\u001b[0m\n\u001b[0;32m---> 63\u001b[0;31m             \u001b[0;32mreturn\u001b[0m \u001b[0mf\u001b[0m\u001b[0;34m(\u001b[0m\u001b[0;34m*\u001b[0m\u001b[0ma\u001b[0m\u001b[0;34m,\u001b[0m \u001b[0;34m**\u001b[0m\u001b[0mkw\u001b[0m\u001b[0;34m)\u001b[0m\u001b[0;34m\u001b[0m\u001b[0m\n\u001b[0m\u001b[1;32m     64\u001b[0m         \u001b[0;32mexcept\u001b[0m \u001b[0mpy4j\u001b[0m\u001b[0;34m.\u001b[0m\u001b[0mprotocol\u001b[0m\u001b[0;34m.\u001b[0m\u001b[0mPy4JJavaError\u001b[0m \u001b[0;32mas\u001b[0m \u001b[0me\u001b[0m\u001b[0;34m:\u001b[0m\u001b[0;34m\u001b[0m\u001b[0m\n\u001b[1;32m     65\u001b[0m             \u001b[0ms\u001b[0m \u001b[0;34m=\u001b[0m \u001b[0me\u001b[0m\u001b[0;34m.\u001b[0m\u001b[0mjava_exception\u001b[0m\u001b[0;34m.\u001b[0m\u001b[0mtoString\u001b[0m\u001b[0;34m(\u001b[0m\u001b[0;34m)\u001b[0m\u001b[0;34m\u001b[0m\u001b[0m\n",
      "\u001b[0;32m/usr/local/spark/python/lib/py4j-0.10.4-src.zip/py4j/protocol.py\u001b[0m in \u001b[0;36mget_return_value\u001b[0;34m(answer, gateway_client, target_id, name)\u001b[0m\n\u001b[1;32m    317\u001b[0m                 raise Py4JJavaError(\n\u001b[1;32m    318\u001b[0m                     \u001b[0;34m\"An error occurred while calling {0}{1}{2}.\\n\"\u001b[0m\u001b[0;34m.\u001b[0m\u001b[0;34m\u001b[0m\u001b[0m\n\u001b[0;32m--> 319\u001b[0;31m                     format(target_id, \".\", name), value)\n\u001b[0m\u001b[1;32m    320\u001b[0m             \u001b[0;32melse\u001b[0m\u001b[0;34m:\u001b[0m\u001b[0;34m\u001b[0m\u001b[0m\n\u001b[1;32m    321\u001b[0m                 raise Py4JError(\n",
      "\u001b[0;31mPy4JJavaError\u001b[0m: An error occurred while calling o468.showString.\n: java.util.concurrent.TimeoutException: Futures timed out after [300 seconds]\n\tat scala.concurrent.impl.Promise$DefaultPromise.ready(Promise.scala:219)\n\tat scala.concurrent.impl.Promise$DefaultPromise.result(Promise.scala:223)\n\tat org.apache.spark.util.ThreadUtils$.awaitResult(ThreadUtils.scala:201)\n\tat org.apache.spark.sql.execution.exchange.BroadcastExchangeExec.doExecuteBroadcast(BroadcastExchangeExec.scala:123)\n\tat org.apache.spark.sql.execution.InputAdapter.doExecuteBroadcast(WholeStageCodegenExec.scala:248)\n\tat org.apache.spark.sql.execution.SparkPlan$$anonfun$executeBroadcast$1.apply(SparkPlan.scala:127)\n\tat org.apache.spark.sql.execution.SparkPlan$$anonfun$executeBroadcast$1.apply(SparkPlan.scala:127)\n\tat org.apache.spark.sql.execution.SparkPlan$$anonfun$executeQuery$1.apply(SparkPlan.scala:138)\n\tat org.apache.spark.rdd.RDDOperationScope$.withScope(RDDOperationScope.scala:151)\n\tat org.apache.spark.sql.execution.SparkPlan.executeQuery(SparkPlan.scala:135)\n\tat org.apache.spark.sql.execution.SparkPlan.executeBroadcast(SparkPlan.scala:126)\n\tat org.apache.spark.sql.execution.joins.BroadcastHashJoinExec.prepareBroadcast(BroadcastHashJoinExec.scala:98)\n\tat org.apache.spark.sql.execution.joins.BroadcastHashJoinExec.codegenInner(BroadcastHashJoinExec.scala:197)\n\tat org.apache.spark.sql.execution.joins.BroadcastHashJoinExec.doConsume(BroadcastHashJoinExec.scala:82)\n\tat org.apache.spark.sql.execution.CodegenSupport$class.consume(WholeStageCodegenExec.scala:155)\n\tat org.apache.spark.sql.execution.InputAdapter.consume(WholeStageCodegenExec.scala:235)\n\tat org.apache.spark.sql.execution.InputAdapter.doProduce(WholeStageCodegenExec.scala:263)\n\tat org.apache.spark.sql.execution.CodegenSupport$$anonfun$produce$1.apply(WholeStageCodegenExec.scala:85)\n\tat org.apache.spark.sql.execution.CodegenSupport$$anonfun$produce$1.apply(WholeStageCodegenExec.scala:80)\n\tat org.apache.spark.sql.execution.SparkPlan$$anonfun$executeQuery$1.apply(SparkPlan.scala:138)\n\tat org.apache.spark.rdd.RDDOperationScope$.withScope(RDDOperationScope.scala:151)\n\tat org.apache.spark.sql.execution.SparkPlan.executeQuery(SparkPlan.scala:135)\n\tat org.apache.spark.sql.execution.CodegenSupport$class.produce(WholeStageCodegenExec.scala:80)\n\tat org.apache.spark.sql.execution.InputAdapter.produce(WholeStageCodegenExec.scala:235)\n\tat org.apache.spark.sql.execution.joins.BroadcastHashJoinExec.doProduce(BroadcastHashJoinExec.scala:77)\n\tat org.apache.spark.sql.execution.CodegenSupport$$anonfun$produce$1.apply(WholeStageCodegenExec.scala:85)\n\tat org.apache.spark.sql.execution.CodegenSupport$$anonfun$produce$1.apply(WholeStageCodegenExec.scala:80)\n\tat org.apache.spark.sql.execution.SparkPlan$$anonfun$executeQuery$1.apply(SparkPlan.scala:138)\n\tat org.apache.spark.rdd.RDDOperationScope$.withScope(RDDOperationScope.scala:151)\n\tat org.apache.spark.sql.execution.SparkPlan.executeQuery(SparkPlan.scala:135)\n\tat org.apache.spark.sql.execution.CodegenSupport$class.produce(WholeStageCodegenExec.scala:80)\n\tat org.apache.spark.sql.execution.joins.BroadcastHashJoinExec.produce(BroadcastHashJoinExec.scala:38)\n\tat org.apache.spark.sql.execution.WholeStageCodegenExec.doCodeGen(WholeStageCodegenExec.scala:331)\n\tat org.apache.spark.sql.execution.WholeStageCodegenExec.doExecute(WholeStageCodegenExec.scala:372)\n\tat org.apache.spark.sql.execution.SparkPlan$$anonfun$execute$1.apply(SparkPlan.scala:117)\n\tat org.apache.spark.sql.execution.SparkPlan$$anonfun$execute$1.apply(SparkPlan.scala:117)\n\tat org.apache.spark.sql.execution.SparkPlan$$anonfun$executeQuery$1.apply(SparkPlan.scala:138)\n\tat org.apache.spark.rdd.RDDOperationScope$.withScope(RDDOperationScope.scala:151)\n\tat org.apache.spark.sql.execution.SparkPlan.executeQuery(SparkPlan.scala:135)\n\tat org.apache.spark.sql.execution.SparkPlan.execute(SparkPlan.scala:116)\n\tat org.apache.spark.sql.execution.SparkPlan.getByteArrayRdd(SparkPlan.scala:228)\n\tat org.apache.spark.sql.execution.SparkPlan.executeTake(SparkPlan.scala:311)\n\tat org.apache.spark.sql.execution.CollectLimitExec.executeCollect(limit.scala:38)\n\tat org.apache.spark.sql.Dataset.org$apache$spark$sql$Dataset$$collectFromPlan(Dataset.scala:2861)\n\tat org.apache.spark.sql.Dataset$$anonfun$head$1.apply(Dataset.scala:2150)\n\tat org.apache.spark.sql.Dataset$$anonfun$head$1.apply(Dataset.scala:2150)\n\tat org.apache.spark.sql.Dataset$$anonfun$55.apply(Dataset.scala:2842)\n\tat org.apache.spark.sql.execution.SQLExecution$.withNewExecutionId(SQLExecution.scala:65)\n\tat org.apache.spark.sql.Dataset.withAction(Dataset.scala:2841)\n\tat org.apache.spark.sql.Dataset.head(Dataset.scala:2150)\n\tat org.apache.spark.sql.Dataset.take(Dataset.scala:2363)\n\tat org.apache.spark.sql.Dataset.showString(Dataset.scala:241)\n\tat sun.reflect.NativeMethodAccessorImpl.invoke0(Native Method)\n\tat sun.reflect.NativeMethodAccessorImpl.invoke(NativeMethodAccessorImpl.java:62)\n\tat sun.reflect.DelegatingMethodAccessorImpl.invoke(DelegatingMethodAccessorImpl.java:43)\n\tat java.lang.reflect.Method.invoke(Method.java:498)\n\tat py4j.reflection.MethodInvoker.invoke(MethodInvoker.java:244)\n\tat py4j.reflection.ReflectionEngine.invoke(ReflectionEngine.java:357)\n\tat py4j.Gateway.invoke(Gateway.java:280)\n\tat py4j.commands.AbstractCommand.invokeMethod(AbstractCommand.java:132)\n\tat py4j.commands.CallCommand.execute(CallCommand.java:79)\n\tat py4j.GatewayConnection.run(GatewayConnection.java:214)\n\tat java.lang.Thread.run(Thread.java:748)\n"
     ]
    }
   ],
   "source": [
    "rec_mv = data_pred.join(movies, data_pred.movieId == movies.movieId)\n",
    "#select(data_pred.movieId, movies.title, data_pred.prediction)\n",
    "rec_mv.show()"
   ]
  },
  {
   "cell_type": "code",
   "execution_count": null,
   "metadata": {
    "collapsed": true,
    "scrolled": true
   },
   "outputs": [],
   "source": [
    "from pyspark.sql.functions import lit\n",
    "\n",
    "\n",
    "\n",
    "def recommendMovies(model, user, nbRecommendations):\n",
    "     # Create a Spark DataFrame with the specified user and all the movies listed in the ratings DataFrame\n",
    "    dataSet = ratings.select(\"movieId\").distinct().withColumn(\"userId\", lit(user))\n",
    "\n",
    "    # Create a Spark DataFrame with the movies that have already been rated by this user\n",
    "    moviesAlreadyRated = ratings.filter(ratings.userId == user).select(\"movieId\", \"userId\")\n",
    "\n",
    "    # Apply the recommender system to the data set without the already rated movies to predict ratings\n",
    "    predictions = model.transform(dataSet.subtract(moviesAlreadyRated)).dropna().orderBy(\"prediction\", ascending=False).limit(nbRecommendations).select(\"movieId\", \"prediction\")\n",
    "    \n",
    "    # Join with the movies DataFrame to get the movies titles and genres\n",
    "    recommendations = predictions.join(movies, predictions.movieId == movies.movieId).select(predictions.movieId, movies.title, movies.genres, predictions.prediction)\n",
    "\n",
    "    return recommendations.show(truncate=False)"
   ]
  },
  {
   "cell_type": "code",
   "execution_count": null,
   "metadata": {
    "scrolled": false
   },
   "outputs": [],
   "source": [
    "print (\"Recommendations for user 133:\")\n",
    "recommendMovies(model,148,10)"
   ]
  },
  {
   "cell_type": "markdown",
   "metadata": {},
   "source": [
    "Now we can use the various prediction functions on the model variable.\n",
    "\n",
    "*predict*: - Return a single floating point value\n",
    "*predictAll*: -Returns RDD of Rating Objects\n",
    "*recommendUsers*: -Returns a List of Ratings in Descending Order by Rating\n",
    "*recommendProducts*: -Returns a List of Ratings\n",
    "*recommendProductsForUsers*:-Returns RDD with(UserID, (RatingObj, RatingObj, …) ) where RatingObj is sorted descending by rating\n",
    "*recommendUsersforProducts*:-Returns RDD with(ProductID, (RatingObj, RatingObj, …) ) where RatingObj is sorted descending by rating\n"
   ]
  }
 ],
 "metadata": {
  "kernelspec": {
   "display_name": "Python 3",
   "language": "python",
   "name": "python3"
  },
  "language_info": {
   "codemirror_mode": {
    "name": "ipython",
    "version": 3
   },
   "file_extension": ".py",
   "mimetype": "text/x-python",
   "name": "python",
   "nbconvert_exporter": "python",
   "pygments_lexer": "ipython3",
   "version": "3.6.3"
  }
 },
 "nbformat": 4,
 "nbformat_minor": 2
}
