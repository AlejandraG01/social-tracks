{
 "cells": [
  {
   "cell_type": "code",
   "execution_count": 1,
   "metadata": {},
   "outputs": [
    {
     "data": {
      "text/html": [
       "\n",
       "        <div>\n",
       "            <p><b>SparkContext</b></p>\n",
       "\n",
       "            <p><a href=\"http://192.168.1.105:4040\">Spark UI</a></p>\n",
       "\n",
       "            <dl>\n",
       "              <dt>Version</dt>\n",
       "                <dd><code>v2.2.1</code></dd>\n",
       "              <dt>Master</dt>\n",
       "                <dd><code>local[*]</code></dd>\n",
       "              <dt>AppName</dt>\n",
       "                <dd><code>PySparkShell</code></dd>\n",
       "            </dl>\n",
       "        </div>\n",
       "        "
      ],
      "text/plain": [
       "<SparkContext master=local[*] appName=PySparkShell>"
      ]
     },
     "execution_count": 1,
     "metadata": {},
     "output_type": "execute_result"
    }
   ],
   "source": [
    "sc"
   ]
  },
  {
   "cell_type": "code",
   "execution_count": 2,
   "metadata": {
    "collapsed": true
   },
   "outputs": [],
   "source": [
    "#restore session notebook\n",
    "#import dill\n",
    "#dill.load_session(\"notebook_env.db\")"
   ]
  },
  {
   "cell_type": "code",
   "execution_count": 3,
   "metadata": {
    "collapsed": true
   },
   "outputs": [],
   "source": [
    "from pyspark.ml.evaluation import RegressionEvaluator\n",
    "from pyspark.ml.recommendation import ALS\n",
    "from pyspark.sql import Row\n",
    "from pyspark.sql.functions import *\n",
    "from pyspark.sql.types import *"
   ]
  },
  {
   "cell_type": "code",
   "execution_count": 4,
   "metadata": {
    "collapsed": true
   },
   "outputs": [],
   "source": [
    "%matplotlib inline\n",
    "import matplotlib.pyplot as plt\n",
    "import pandas as pd\n",
    "import numpy as np\n",
    "from time import time"
   ]
  },
  {
   "cell_type": "code",
   "execution_count": 5,
   "metadata": {},
   "outputs": [
    {
     "data": {
      "text/plain": [
       "[Row(_c0=0, artist_name='Kenny Rogers', name='fernandomaiscal', track_name='All I Ever Need Is You (feat. Dottie West)', track_playcount='110', new_userId='0', new_songId=90406, new_artistId=31083),\n",
       " Row(_c0=1, artist_name='Geraldo Azevedo', name='fernandomaiscal', track_name='Dia Branco', track_playcount='53', new_userId='0', new_songId=242791, new_artistId=2956)]"
      ]
     },
     "execution_count": 5,
     "metadata": {},
     "output_type": "execute_result"
    }
   ],
   "source": [
    "#lines = spark.read.csv(\"gs://dataset-rs/dataset-last.fm/dataset_lastfm.csv\", header=\"true\",inferSchema=\"true\").rdd\n",
    "lines = spark.read.csv(\"/home/aleja/Documentos/datasets/meu-lastfm/dataset_lastfm_v3_ConvertIds.csv\", header=\"true\",inferSchema=\"true\").rdd\n",
    "\n",
    "lines.take(2)"
   ]
  },
  {
   "cell_type": "code",
   "execution_count": 6,
   "metadata": {},
   "outputs": [
    {
     "data": {
      "text/plain": [
       "1677020"
      ]
     },
     "execution_count": 6,
     "metadata": {},
     "output_type": "execute_result"
    }
   ],
   "source": [
    "#Create dataframe\n",
    "ratings = spark.createDataFrame(lines) \n",
    "#ratings = ratings.withColumn(\"topTracks_playcount\", col(\"topTracks_playcount\").cast('int'))\n",
    "\n",
    "#50% Sample of data \n",
    "df_ratings = ratings.sample(False,fraction=0.5, seed=1)\n",
    "#Drop NaN data \n",
    "df_ratings = df_ratings.na.drop()\n",
    "df_ratings.select('new_userId').count()"
   ]
  },
  {
   "cell_type": "code",
   "execution_count": 7,
   "metadata": {},
   "outputs": [
    {
     "name": "stdout",
     "output_type": "stream",
     "text": [
      "+---+------------+---------------+--------------------+---------------+----------+----------+------------+\n",
      "|_c0| artist_name|           name|          track_name|track_playcount|new_userId|new_songId|new_artistId|\n",
      "+---+------------+---------------+--------------------+---------------+----------+----------+------------+\n",
      "|  0|Kenny Rogers|fernandomaiscal|All I Ever Need I...|            110|         0|     90406|       31083|\n",
      "|  2| John Lennon|fernandomaiscal|    Gimme Some Truth|             49|         0|     17860|       11512|\n",
      "|  3| David Bowie|fernandomaiscal|  Station to Station|             48|         0|    322953|       12565|\n",
      "|  6| David Bowie|fernandomaiscal|       Life on Mars?|             42|         0|    318742|       12565|\n",
      "|  8|Led Zeppelin|fernandomaiscal|Since I've Been L...|             40|         0|     96039|       34497|\n",
      "+---+------------+---------------+--------------------+---------------+----------+----------+------------+\n",
      "only showing top 5 rows\n",
      "\n"
     ]
    }
   ],
   "source": [
    "df_ratings.show(5)"
   ]
  },
  {
   "cell_type": "code",
   "execution_count": 8,
   "metadata": {
    "collapsed": true
   },
   "outputs": [],
   "source": [
    "#changes the names of rows\n",
    "df_ratings =  df_ratings.selectExpr(\"new_userId as userId\",\"name as name\", \"new_songId as songId\",\"track_name as track_name\",\"new_artistId as artistId\", \"artist_name as artist_name\",\"track_playcount as track_playcount\")\n"
   ]
  },
  {
   "cell_type": "code",
   "execution_count": 9,
   "metadata": {
    "collapsed": true
   },
   "outputs": [],
   "source": [
    "# transform the type of data\n",
    "df_ratings = df_ratings.withColumn(\"userId\", col(\"userId\").cast(\"int\"))\n",
    "df_ratings = df_ratings.withColumn(\"songId\", col(\"songId\").cast(\"int\"))\n",
    "df_ratings = df_ratings.withColumn(\"artistId\", col(\"artistId\").cast(\"int\"))\n",
    "df_ratings = df_ratings.withColumn(\"track_playcount\", col(\"track_playcount\").cast(\"int\"))"
   ]
  },
  {
   "cell_type": "code",
   "execution_count": 10,
   "metadata": {},
   "outputs": [
    {
     "name": "stdout",
     "output_type": "stream",
     "text": [
      "Total n. of users:  16054\n",
      "Total n. of artists:  33876\n",
      "Total n. of songs:  274431\n"
     ]
    }
   ],
   "source": [
    "## How many distinct users in data ?\n",
    "\n",
    "uniqueUsers = df_ratings.select('userId').distinct().count()\n",
    "print(\"Total n. of users: \", uniqueUsers)\n",
    "\n",
    "## How many distinct artists in data ?\n",
    "\n",
    "uniqueArtists  = df_ratings.select(\"artistId\").distinct().count()\n",
    "print(\"Total n. of artists: \", uniqueArtists)\n",
    "\n",
    "## How many distinct music in data ?\n",
    "\n",
    "uniqueSongs  = df_ratings.select(\"songId\").distinct().count()\n",
    "print(\"Total n. of songs: \", uniqueSongs)\n"
   ]
  },
  {
   "cell_type": "code",
   "execution_count": 11,
   "metadata": {},
   "outputs": [
    {
     "name": "stdout",
     "output_type": "stream",
     "text": [
      "Total enties with two or more plays: 1428544\n"
     ]
    },
    {
     "data": {
      "text/plain": [
       "DataFrame[userId: int, name: string, songId: int, track_name: string, artistId: int, artist_name: string, track_playcount: int]"
      ]
     },
     "execution_count": 11,
     "metadata": {},
     "output_type": "execute_result"
    }
   ],
   "source": [
    "#select users to play a song more than 10 times and less to 300 \n",
    "raw_plays_df_2more_plays = df_ratings.filter(df_ratings.track_playcount >= 10).distinct()\n",
    "\n",
    "tot_entries_2more = raw_plays_df_2more_plays.count()\n",
    "print('Total enties with two or more plays: {0}'.format(tot_entries_2more))\n",
    "\n",
    "raw_plays_df_2more_plays = raw_plays_df_2more_plays.filter(raw_plays_df_2more_plays.userId < (uniqueUsers)) \\\n",
    "                                                   .select('userId',\"name\", 'songId',\"track_name\",'artistId',\"artist_name\", 'track_playcount').orderBy('track_playcount',ascending=False) \n",
    "raw_plays_df_2more_plays.cache() \n"
   ]
  },
  {
   "cell_type": "code",
   "execution_count": 12,
   "metadata": {},
   "outputs": [
    {
     "data": {
      "text/plain": [
       "1385888"
      ]
     },
     "execution_count": 12,
     "metadata": {},
     "output_type": "execute_result"
    }
   ],
   "source": [
    "\n",
    "df_ratings_less100 = raw_plays_df_2more_plays.filter(raw_plays_df_2more_plays.track_playcount <= 300).distinct()\n",
    "df_ratings_less100.count()\n"
   ]
  },
  {
   "cell_type": "markdown",
   "metadata": {},
   "source": [
    "### create music data"
   ]
  },
  {
   "cell_type": "code",
   "execution_count": 13,
   "metadata": {},
   "outputs": [
    {
     "data": {
      "text/plain": [
       "DataFrame[songId: int, track_name: string, artistId: int, artist_name: string]"
      ]
     },
     "execution_count": 13,
     "metadata": {},
     "output_type": "execute_result"
    }
   ],
   "source": [
    "music_data =  df_ratings_less100.selectExpr(\"songId\",\"track_name\",\"artistId\",\"artist_name\")\n",
    "music_data"
   ]
  },
  {
   "cell_type": "code",
   "execution_count": 14,
   "metadata": {},
   "outputs": [
    {
     "name": "stdout",
     "output_type": "stream",
     "text": [
      "+------+------+---------------+\n",
      "|userId|songId|track_playcount|\n",
      "+------+------+---------------+\n",
      "|     0|  2000|             16|\n",
      "|     0|  2048|             22|\n",
      "|     0|  2745|             16|\n",
      "|     0|  3450|             23|\n",
      "|     0|  4927|             30|\n",
      "|     0|  9298|             23|\n",
      "|     0| 10458|             22|\n",
      "|     0| 11642|             23|\n",
      "|     0| 13482|             13|\n",
      "|     0| 13993|             26|\n",
      "+------+------+---------------+\n",
      "only showing top 10 rows\n",
      "\n"
     ]
    }
   ],
   "source": [
    "sub_rating_data = df_ratings_less100.select(\"userId\",\"songId\",\"track_playcount\")\n",
    "sub_rating_data = sub_rating_data.na.drop()\n",
    "sub_rating_data.orderBy(col('userId'),col('songId')).show(10)"
   ]
  },
  {
   "cell_type": "markdown",
   "metadata": {},
   "source": [
    "### Train and test data"
   ]
  },
  {
   "cell_type": "code",
   "execution_count": 15,
   "metadata": {
    "collapsed": true
   },
   "outputs": [],
   "source": [
    "(training, test) = sub_rating_data.randomSplit([0.8, 0.2])\n",
    "als = ALS(rank=15, maxIter=10, regParam=0.01, alpha=0.5, implicitPrefs=True, userCol=\"userId\", itemCol=\"songId\", ratingCol=\"track_playcount\", coldStartStrategy=\"drop\")\n",
    "model = als.fit(training)"
   ]
  },
  {
   "cell_type": "code",
   "execution_count": 16,
   "metadata": {},
   "outputs": [
    {
     "name": "stdout",
     "output_type": "stream",
     "text": [
      "root\n",
      " |-- userId: integer (nullable = true)\n",
      " |-- songId: integer (nullable = true)\n",
      " |-- track_playcount: integer (nullable = true)\n",
      " |-- prediction: float (nullable = true)\n",
      "\n",
      "+------+------+---------------+-----------+\n",
      "|userId|songId|track_playcount| prediction|\n",
      "+------+------+---------------+-----------+\n",
      "| 12054|   148|             66|0.046013635|\n",
      "|   701|   148|             35|0.009146986|\n",
      "|  8135|   471|             75|0.115864806|\n",
      "|  4078|   833|             21| 0.49627587|\n",
      "|  4126|   833|             78|  0.6293227|\n",
      "|  6732|   833|             52|  0.5320421|\n",
      "|  3885|   833|             70| 0.73477376|\n",
      "|  4669|   833|             85| 0.32634944|\n",
      "|  3814|   833|             10| 0.19078287|\n",
      "|  4561|   833|            100| 0.77257174|\n",
      "|  6779|   833|             57|  0.6971461|\n",
      "| 13442|   833|             88|  0.2924518|\n",
      "|  4808|   833|             33|  0.6063319|\n",
      "|  4578|   833|             73|  0.5835113|\n",
      "|  8749|   833|             45| 0.49052268|\n",
      "|  4406|   833|             85|  0.6813726|\n",
      "|  7695|   833|             44|  0.2547428|\n",
      "|  6674|   833|             24| 0.32422683|\n",
      "| 14789|   833|            138| 0.73114544|\n",
      "|  5609|  1238|            201|0.098250106|\n",
      "+------+------+---------------+-----------+\n",
      "only showing top 20 rows\n",
      "\n"
     ]
    }
   ],
   "source": [
    "##Predictions-  test model\n",
    "predictions = model.transform(test)\n",
    "predictions.printSchema()\n",
    "predictions.show()\n"
   ]
  },
  {
   "cell_type": "code",
   "execution_count": 17,
   "metadata": {
    "collapsed": true
   },
   "outputs": [],
   "source": [
    "#p1 =  predictions\n",
    "#t = p1.groupBy(\"new_userId\",\"new_songId\").count()\n",
    "#t.orderBy(\"new_userId\",\"count\", ascending=False).show()\n",
    "\n"
   ]
  },
  {
   "cell_type": "code",
   "execution_count": 18,
   "metadata": {},
   "outputs": [
    {
     "name": "stdout",
     "output_type": "stream",
     "text": [
      "Root-mean-square error = 80.04082692826245\n",
      "mae = 61.026013159053655\n"
     ]
    }
   ],
   "source": [
    "evaluator = RegressionEvaluator(labelCol=\"track_playcount\", predictionCol=\"prediction\")\n",
    "rmse = evaluator.evaluate(predictions.na.drop(), {evaluator.metricName :\"rmse\"})\n",
    "mae =  evaluator.evaluate(predictions.na.drop(), {evaluator.metricName :\"mae\"})\n",
    "print(\"Root-mean-square error = \" + str(rmse))\n",
    "print(\"mae = \" + str(mae))\n",
    "\n"
   ]
  },
  {
   "cell_type": "markdown",
   "metadata": {},
   "source": [
    "## Función para recomendación"
   ]
  },
  {
   "cell_type": "markdown",
   "metadata": {
    "collapsed": true
   },
   "source": [
    "### Recomendação personalizada para um Usuario"
   ]
  },
  {
   "cell_type": "code",
   "execution_count": 19,
   "metadata": {
    "collapsed": true
   },
   "outputs": [],
   "source": [
    "from pyspark.sql.functions import lit\n",
    "\n",
    "\n",
    "\n",
    "def recommendMusic(model, user, nbRecommendations):\n",
    "     # Create a Spark DataFrame with the specified user and all the songs ratings in DataFrame\n",
    "    dataSet = df_ratings_less100.select(\"songId\").distinct().withColumn(\"userId\", lit(user))\n",
    "\n",
    "    # Create a Spark DataFrame with the movies that have already been rated by this user\n",
    "    musicAlreadyRated = df_ratings_less100.filter(df_ratings_less100.userId == user).select(\"songId\", \"userId\")\n",
    "    #subtrama\n",
    "    #sub_musicAlreadyRated =  musicAlreadyRated.sample(False,fraction=0.5, seed=1)\n",
    "    #musicInclude = musicAlreadyRated.subtract(sub_musicAlreadyRated)\n",
    "    #musicInclude_2 = musicInclude.join(music_data, musicInclude.new_songId == music_data.new_songId).distinct().select(musicInclude.new_songId, music_data.topTracks_name, music_data.topTracks_artist_name)\n",
    "    #print (\"music rated that was include to predictions:\")\n",
    "    #musicInclude_2.show(50)\n",
    "    # Apply the recommender system to the data set without the already rated movies to predict ratings\n",
    "    predictions = model.transform(dataSet.subtract(musicAlreadyRated)).dropna().select(\"songId\", \"prediction\").orderBy(\"prediction\", ascending=False).limit(nbRecommendations)\n",
    "    \n",
    "    # Join with the ratings DataFrame to get the music titles and genres\n",
    "    recommendations = predictions.join(music_data, predictions.songId == music_data.songId).distinct().select(predictions.songId, music_data.track_name, music_data.artist_name, predictions.prediction).orderBy(\"prediction\", ascending=False)\n",
    "    recommendations.show(truncate=False)"
   ]
  },
  {
   "cell_type": "markdown",
   "metadata": {},
   "source": [
    "### musicas escutadas pelo usuario"
   ]
  },
  {
   "cell_type": "code",
   "execution_count": 20,
   "metadata": {
    "collapsed": true
   },
   "outputs": [],
   "source": [
    "### songs listened - user\n",
    "def songs_listened(userId, Nsongs):\n",
    "    musicAlreadyRated = df_ratings_less100.filter(df_ratings_less100.userId == userId).select(\"songId\", \"userId\",\"track_playcount\").distinct()\n",
    "    music_listened =  musicAlreadyRated.join(music_data, musicAlreadyRated.songId == music_data.songId).select(musicAlreadyRated.songId, music_data.track_name, music_data.artist_name,musicAlreadyRated.track_playcount).distinct()\n",
    "    music_listened.orderBy(\"track_playcount\",ascending=False).show(Nsongs)"
   ]
  },
  {
   "cell_type": "markdown",
   "metadata": {},
   "source": [
    "### Dado um item, probabilidade que um Usuario goste "
   ]
  },
  {
   "cell_type": "code",
   "execution_count": 21,
   "metadata": {
    "collapsed": true
   },
   "outputs": [],
   "source": [
    "def rankUserforItem(model, itemID, friendID):\n",
    "    x = df_ratings_less100.select(\"userId\").distinct().withColumn(\"songId\", lit(itemID))\n",
    "    #print (\"Os DADOS {}\" .format(x.show(truncate=False)))\n",
    "    \n",
    "    predictions = model.transform(x).dropna().select(\"userId\",\"songId\", \"prediction\").orderBy(\"prediction\", ascending=False)\n",
    "    \n",
    "    recommendations =  predictions.join(music_data, predictions.songId ==  music_data.songId).distinct().select(predictions.userId, predictions.songId, music_data.track_name, music_data.artist_name, predictions.prediction).orderBy(\"prediction\", ascending=False)\n",
    "    rankUser = recommendations.filter(recommendations.userId==friendID)\n",
    "    \n",
    "    rankUser.show()\n",
    "    \n",
    "    \n",
    "    \n",
    "    "
   ]
  },
  {
   "cell_type": "code",
   "execution_count": 22,
   "metadata": {},
   "outputs": [
    {
     "name": "stdout",
     "output_type": "stream",
     "text": [
      "list of songs listened by user 191:\n",
      "+------+--------------------+--------------------+---------------+\n",
      "|songId|          track_name|         artist_name|track_playcount|\n",
      "+------+--------------------+--------------------+---------------+\n",
      "|209206|       Don't Tell Me|       Avril Lavigne|            282|\n",
      "|238962|Give You What You...|       Avril Lavigne|            280|\n",
      "|351286|       We Can't Stop|         Miley Cyrus|            257|\n",
      "|218194|       Wrecking Ball|         Miley Cyrus|            243|\n",
      "|  9723|           I Will Be|       Avril Lavigne|            235|\n",
      "|393892|         Hello Kitty|       Avril Lavigne|            234|\n",
      "|339901|          I Love You|       Avril Lavigne|            233|\n",
      "|277261|      Fall to Pieces|       Avril Lavigne|            222|\n",
      "|163260|                 Hot|       Avril Lavigne|            213|\n",
      "|271399|         Losing Grip|       Avril Lavigne|            210|\n",
      "|184500|         Rock n Roll|       Avril Lavigne|            210|\n",
      "|240562|            Tomorrow|       Avril Lavigne|            202|\n",
      "| 94875|    When You're Gone|       Avril Lavigne|            197|\n",
      "|360439|          Not Enough|       Avril Lavigne|            195|\n",
      "| 93785|Here's to Never G...|       Avril Lavigne|            193|\n",
      "|116891|               Drive|         Miley Cyrus|            191|\n",
      "| 77209|    How Does It Feel|       Avril Lavigne|            182|\n",
      "|177516|              Mobile|       Avril Lavigne|            177|\n",
      "|103455|       What the Hell|       Avril Lavigne|            176|\n",
      "|173467|    He Said She Said|      Ashley Tisdale|            175|\n",
      "|173467|   He Said, She Said|      Ashley Tisdale|            175|\n",
      "|194545|       Nobody's Fool|       Avril Lavigne|            163|\n",
      "|216241|         Get Over It|       Avril Lavigne|            161|\n",
      "|129036|           Adore You|         Miley Cyrus|            160|\n",
      "|275081|             Goodbye|       Avril Lavigne|            159|\n",
      "|340964|                  17|       Avril Lavigne|            149|\n",
      "|307724|              Darlin|       Avril Lavigne|            146|\n",
      "|188862|  Maybe You're Right|         Miley Cyrus|            145|\n",
      "| 80142|          Girlfriend|       Avril Lavigne|            142|\n",
      "|151946|        Save the Day|        Selena Gomez|            140|\n",
      "|175987|           Slow Down|        Selena Gomez|            138|\n",
      "|395852|         #GETITRIGHT|         Miley Cyrus|            137|\n",
      "|308268|What Makes You Be...|       One Direction|            135|\n",
      "|222529|     Bitchin' Summer|       Avril Lavigne|            133|\n",
      "|396687|            My World|       Avril Lavigne|            130|\n",
      "| 18293|       Tell Me a Lie|       One Direction|            129|\n",
      "|178068| By the Grace of God|          Katy Perry|            128|\n",
      "|341456|                Push|       Avril Lavigne|            124|\n",
      "|236137|        Heart Attack|         Demi Lovato|            124|\n",
      "|112732|            Together|       Avril Lavigne|            122|\n",
      "|203514|                Roar|          Katy Perry|            120|\n",
      "|201613| Sippin' on Sunshine|       Avril Lavigne|            119|\n",
      "|331415|              4 Real|       Avril Lavigne|            117|\n",
      "|163054|          Work Bitch|      Britney Spears|            116|\n",
      "| 47207|              I Wish|       One Direction|            116|\n",
      "|157800|            Unwanted|       Avril Lavigne|            115|\n",
      "| 66075|      Stole My Heart|       One Direction|            115|\n",
      "|154505|      More Than This|       One Direction|            114|\n",
      "|294795|         Radioactive|     Imagine Dragons|            114|\n",
      "|215992|Feel So Close (Ra...|       Calvin Harris|            113|\n",
      "|305142|         Blank Space|        Taylor Swift|            113|\n",
      "|118221|          Black Star|       Avril Lavigne|            111|\n",
      "|167936|I Knew You Were T...|        Taylor Swift|            111|\n",
      "|167936|I Knew You Were T...|        Taylor Swift|            111|\n",
      "|349174|      Still into You|            Paramore|            110|\n",
      "|321669|          Contagious|       Avril Lavigne|            106|\n",
      "|270558|       I Know Places|        Taylor Swift|            104|\n",
      "| 84009|       Not Like That|      Ashley Tisdale|            103|\n",
      "|130996|Alice (extended v...|       Avril Lavigne|            102|\n",
      "|235556|                 Red|        Taylor Swift|            100|\n",
      "|281001|                Fall|       Justin Bieber|             98|\n",
      "| 97261|      Forget Forever|        Selena Gomez|             97|\n",
      "| 87485|Give Your Heart a...|         Demi Lovato|             95|\n",
      "|230293|            I'm Back|      Ashley Tisdale|             94|\n",
      "| 67641|                Stay|         Miley Cyrus|             91|\n",
      "| 95146| Where Have You Been|             Rihanna|             90|\n",
      "|204383|               Naked|       Avril Lavigne|             90|\n",
      "|143169|             Make Up|       Avril Lavigne|             89|\n",
      "|151146|       Little Things|       One Direction|             89|\n",
      "|225707|           Bad Blood|        Taylor Swift|             88|\n",
      "|141952|      Bad Reputation|       Avril Lavigne|             86|\n",
      "|230835|            Stranger|         Hilary Duff|             85|\n",
      "|360272|  One of Those Girls|       Avril Lavigne|             84|\n",
      "|335461|     Unconditionally|          Katy Perry|             83|\n",
      "|106023|               Style|        Taylor Swift|             83|\n",
      "|364506| I Don't Have to Try|       Avril Lavigne|             82|\n",
      "|117392|       Take Me Along|         Miley Cyrus|             79|\n",
      "|102077|        I Don't Give|       Avril Lavigne|             77|\n",
      "| 24742|       Another World|       One Direction|             75|\n",
      "|211451|            Fearless|        Taylor Swift|             75|\n",
      "| 93696|             Over It|      Ashley Tisdale|             74|\n",
      "| 93431| Welcome to New York|        Taylor Swift|             72|\n",
      "|139986|            My Blood|      Ellie Goulding|             72|\n",
      "| 92473|     Last First Kiss|       One Direction|             71|\n",
      "|268595|     Streets of Gold|               3OH!3|             71|\n",
      "|234239|             Believe|       Justin Bieber|             69|\n",
      "|147233|  You're Always Here|      Ashley Tisdale|             69|\n",
      "|248752|   It Was Always You|            Maroon 5|             68|\n",
      "|322665|              Me Voy|                 RBD|             67|\n",
      "| 66129|        Liberty Walk|         Miley Cyrus|             66|\n",
      "|385043|               Maria|       Justin Bieber|             66|\n",
      "|273948|           Donatella|           Lady Gaga|             66|\n",
      "|142138|         Unusual You|      Britney Spears|             66|\n",
      "|132774|          Undercover|        Selena Gomez|             66|\n",
      "|180279|        Esto Es Amor|             Belinda|             65|\n",
      "| 49848|               Alien|      Britney Spears|             64|\n",
      "| 69440|          Positivity|      Ashley Tisdale|             63|\n",
      "| 84252|           Tee Shirt|               Birdy|             61|\n",
      "| 84966|             Headset|       Avril Lavigne|             61|\n",
      "|106605|We Are Never Ever...|        Taylor Swift|             59|\n",
      "|274789|             Perfume|      Britney Spears|             59|\n",
      "| 63990|               Taken|       One Direction|             58|\n",
      "| 62322|    Die in Your Arms|       Justin Bieber|             57|\n",
      "|294888|           It's Time|     Imagine Dragons|             57|\n",
      "| 50529|You Ain't Seen No...|       Avril Lavigne|             57|\n",
      "|307201|          Be Alright|       Justin Bieber|             56|\n",
      "|267586|             Mirrors|   Justin Timberlake|             56|\n",
      "|267586|Mirrors (Radio Edit)|   Justin Timberlake|             56|\n",
      "|128848|              Strong|       One Direction|             56|\n",
      "|182311|Falling Into History|       Avril Lavigne|             56|\n",
      "| 58129|       If U Seek Amy|      Britney Spears|             55|\n",
      "|367213|      Hit the Lights|Selena Gomez & th...|             55|\n",
      "|195348|        Falling Down|       Avril Lavigne|             54|\n",
      "+------+--------------------+--------------------+---------------+\n",
      "\n"
     ]
    }
   ],
   "source": [
    "u=191\n",
    "print (\"list of songs listened by user {}:\" .format(u))\n",
    "\n",
    "songs_listened(u,500)"
   ]
  },
  {
   "cell_type": "code",
   "execution_count": 23,
   "metadata": {},
   "outputs": [
    {
     "name": "stdout",
     "output_type": "stream",
     "text": [
      "Recommendations for user 191:\n",
      "+------+-----------------------------+-------------+----------+\n",
      "|songId|track_name                   |artist_name  |prediction|\n",
      "+------+-----------------------------+-------------+----------+\n",
      "|115256|Wish You Were Here           |Avril Lavigne|1.0621458 |\n",
      "|26119 |Smile                        |Avril Lavigne|1.0516471 |\n",
      "|138724|Wildest Dreams               |Taylor Swift |1.0504868 |\n",
      "|372503|Complicated                  |Avril Lavigne|1.0440081 |\n",
      "|168119|Out of the Woods             |Taylor Swift |1.0168552 |\n",
      "|198203|All Too Well                 |Taylor Swift |1.0070193 |\n",
      "|76893 |Come & Get It                |Selena Gomez |1.0058436 |\n",
      "|344682|New Romantics                |Taylor Swift |1.0038327 |\n",
      "|5204  |All You Had to Do Was Stay   |Taylor Swift |1.0008509 |\n",
      "|268798|22                           |Taylor Swift |0.9994861 |\n",
      "|232801|Shake It Off                 |Taylor Swift |0.99816144|\n",
      "|348898|The Heart Wants What It Wants|Selena Gomez |0.9902732 |\n",
      "|3067  |Skyscraper                   |Demi Lovato  |0.9631846 |\n",
      "|70354 |The One That Got Away        |Katy Perry   |0.960024  |\n",
      "|122925|Can't Be Tamed               |Miley Cyrus  |0.95117015|\n",
      "|315601|Clean                        |Taylor Swift |0.9510421 |\n",
      "|247321|One Last Time                |Ariana Grande|0.95071757|\n",
      "|218875|Teenage Dream                |Katy Perry   |0.94211113|\n",
      "|104421|I'm with You                 |Avril Lavigne|0.94124407|\n",
      "|398115|You Belong with Me           |Taylor Swift |0.94051087|\n",
      "+------+-----------------------------+-------------+----------+\n",
      "only showing top 20 rows\n",
      "\n"
     ]
    }
   ],
   "source": [
    "u = 191\n",
    "print (\"Recommendations for user {}:\".format(u))\n",
    "recommendMusic(model,u,30)"
   ]
  },
  {
   "cell_type": "code",
   "execution_count": 24,
   "metadata": {},
   "outputs": [
    {
     "name": "stdout",
     "output_type": "stream",
     "text": [
      "Rank of User= 191 for item= 90242\n",
      "+------+------+----------+-----------+----------+\n",
      "|userId|songId|track_name|artist_name|prediction|\n",
      "+------+------+----------+-----------+----------+\n",
      "|   191| 90242|     Hello|Evanescence|0.17921805|\n",
      "+------+------+----------+-----------+----------+\n",
      "\n"
     ]
    }
   ],
   "source": [
    "i= 90242\n",
    "f=191\n",
    "\n",
    "print(\"Rank of User= {} for item= {}\" .format(f,i))\n",
    "rankUserforItem(model,i,f) "
   ]
  },
  {
   "cell_type": "code",
   "execution_count": 25,
   "metadata": {},
   "outputs": [
    {
     "name": "stdout",
     "output_type": "stream",
     "text": [
      "list of songs listened by user 14600:\n",
      "+------+--------------------+--------------------+---------------+\n",
      "|songId|          track_name|         artist_name|track_playcount|\n",
      "+------+--------------------+--------------------+---------------+\n",
      "|154307|         Boys Better|   The Dandy Warhols|             94|\n",
      "| 69647|        Kuolemajärvi|      Kotiteollisuus|             75|\n",
      "|308158|         Mummokeikka|       Vaasankatu SS|             63|\n",
      "|290417|      Happy Birthday|The Birthday Mass...|             44|\n",
      "|176554|     Vieraan sanomaa|      Kotiteollisuus|             44|\n",
      "|331711|           Video Kid|The Birthday Mass...|             43|\n",
      "|197645| Hyvää tulevaisuutta|      Kotiteollisuus|             37|\n",
      "|154675|                Over|The Birthday Mass...|             36|\n",
      "| 60353|                Syli|      Kotiteollisuus|             34|\n",
      "|264755|        Hesari Blues|       Vaasankatu SS|             33|\n",
      "|151673|        Kummitusjuna|      Kotiteollisuus|             33|\n",
      "| 61079|    Under the Stairs|The Birthday Mass...|             32|\n",
      "| 55179|      Satu peikoista|      Kotiteollisuus|             31|\n",
      "|305329|Not If You Were T...|The Brian Jonesto...|             31|\n",
      "| 86323|      I Smell of You|              Blanka|             31|\n",
      "|  8958|           Beautiful|          Crazy Town|             30|\n",
      "|219265|        What You Are|          Audioslave|             28|\n",
      "|266780|             Kaihola|      Kotiteollisuus|             28|\n",
      "|109221|            They Say|   Scars on Broadway|             27|\n",
      "| 23978|    Waste of My Time|          Crazy Town|             27|\n",
      "|200446|           Margerine|             Sadgasm|             26|\n",
      "|263826|  When Jokers Attack|The Brian Jonesto...|             26|\n",
      "|261316|                 Red|The Birthday Mass...|             26|\n",
      "|395574|          Unfamiliar|The Birthday Mass...|             25|\n",
      "|311413|         Let Me Stay|            The Fags|             25|\n",
      "|104081|             Outside|              Staind|             25|\n",
      "| 84869|       Looking Glass|The Birthday Mass...|             24|\n",
      "|383070|           Minä olen|      Kotiteollisuus|             23|\n",
      "|218281|             Crushed|The Brian Jonesto...|             23|\n",
      "|244516|             Weekend|The Birthday Mass...|             23|\n",
      "|255190|Walking With Stra...|The Birthday Mass...|             23|\n",
      "|321340|           Evergreen|The Brian Jonesto...|             23|\n",
      "|210182|     Perkeleen työtä|      Kotiteollisuus|             23|\n",
      "| 92938|           Goodnight|The Birthday Mass...|             23|\n",
      "| 56664|             Kylskåp|                Knut|             22|\n",
      "|286352|   Double T N' Tokyo|       Blood Command|             22|\n",
      "|234048|    Bring It on Down|               Oasis|             22|\n",
      "|139568|  Sense and Nonsense|            Adorable|             22|\n",
      "|258595|           Decorated|          Crazy Town|             22|\n",
      "|209839|Planes Over the S...|        Swervedriver|             22|\n",
      "|114492|          Arkunnaula|      Kotiteollisuus|             21|\n",
      "|324943|   Pohjanmaan kautta|      Kotiteollisuus|             21|\n",
      "|115104|              N.Y.T.|       Terveet Kädet|             21|\n",
      "|374085|For Those About T...|            Godflesh|             21|\n",
      "| 81881|               Black|The Birthday Mass...|             21|\n",
      "|131600|          Road Movie|            Adorable|             21|\n",
      "|225789|           Nevermind|The Birthday Mass...|             21|\n",
      "|169370|Deep in the Devil...|The Brian Jonesto...|             21|\n",
      "|169472|        What We Know|         Sonic Youth|             21|\n",
      "|276904|       Raskas kantaa|      Kotiteollisuus|             20|\n",
      "|106515|             Science|The Birthday Mass...|             20|\n",
      "|272941|Change (In the Ho...|            Deftones|             20|\n",
      "| 48688|           Njet njet|       Eppu Normaali|             20|\n",
      "|317071|Hulluutta ja humalaa|      Kotiteollisuus|             20|\n",
      "| 50803|             Stutter|            Elastica|             20|\n",
      "| 28859|    Pissaa ja paskaa|      Kotiteollisuus|             20|\n",
      "|226574|             Hang On|       The Sky Drops|             19|\n",
      "|203893|         Hells Bells|   The Dandy Warhols|             19|\n",
      "|394297|        Golden Frost|The Brian Jonesto...|             19|\n",
      "|368902|         8 Dead Boys|        Babyshambles|             19|\n",
      "|  2440|             Nimetön|                 CMX|             19|\n",
      "|156975|      Bleed American|     Jimmy Eat World|             19|\n",
      "|122847|      Banned in D.C.|          Bad Brains|             19|\n",
      "|332940|     Mä Haluun Kamaa|       Vaasankatu SS|             19|\n",
      "|319967|               Kevät|      Kotiteollisuus|             19|\n",
      "| 56814|             Feel It|The Brian Jonesto...|             19|\n",
      "|256451|Tukkapöllyjä Ja K...|       Kakka-hätä 77|             19|\n",
      "|250064|Kielletyn puun he...|      Kotiteollisuus|             19|\n",
      "|103859|Pirihuorasta Perh...|       Vaasankatu SS|             19|\n",
      "|138835|         Drama Queen|              Feline|             19|\n",
      "|305856|    Onnellinen perhe|      Kotiteollisuus|             18|\n",
      "|332146|  Tuntematon sotilas|       Terveet Kädet|             18|\n",
      "|322440|A song from under...|        Simple Minds|             18|\n",
      "|183924|       Työtön Työtön|       Kakka-hätä 77|             18|\n",
      "|329953|           Bad Habit|              Feline|             18|\n",
      "|332489|            Property|              Feline|             18|\n",
      "|110733|        Kaksin käsin|      Kotiteollisuus|             18|\n",
      "|149621|          Lovers End|The Birthday Mass...|             18|\n",
      "|176999|        The Go Go Go|       The Sky Drops|             18|\n",
      "|307763|Onnellisia kytken...|       Terveet Kädet|             18|\n",
      "|  5328|             Release|              Feline|             18|\n",
      "|105589|              Mother|              Feline|             18|\n",
      "|181536|   Not What It Seems|              Feline|             18|\n",
      "|120337|       Fantasy World|              Feline|             18|\n",
      "|222233|           Jos sanon|      Kotiteollisuus|             18|\n",
      "|134107|         Firestarter|     Jimmy Eat World|             18|\n",
      "|246353|      Sunshine Smile|            Adorable|             18|\n",
      "|207423|   Wasted White Boys|            W.A.S.P.|             18|\n",
      "| 75226|               Sorry|          Crazy Town|             18|\n",
      "|  9872|                  Go|    The Replacements|             18|\n",
      "|148654|     Musti sotakoira|      Kotiteollisuus|             18|\n",
      "|328601|          Promise Me|The Birthday Mass...|             18|\n",
      "|386440|        Green to Red|       The Sky Drops|             18|\n",
      "|171938|     Soul Courageous|       Paradise Lost|             18|\n",
      "|391737|    Sacred Trickster|         Sonic Youth|             17|\n",
      "|236970|      Sun In My Eyes|              Feline|             17|\n",
      "|281052|    Used To Know Her|         Veruca Salt|             17|\n",
      "|339343|       Shallow Grave|The Birthday Mass...|             17|\n",
      "|219877|         Crash Sight|            Adorable|             17|\n",
      "|100476|            Midnight|The Birthday Mass...|             17|\n",
      "|338150|    Skulls and Stars|          Crazy Town|             17|\n",
      "| 69695|   Good Morning Girl|The Brian Jonesto...|             17|\n",
      "| 10716|             Control|The Birthday Mass...|             17|\n",
      "|251756|            Sideways|The Birthday Mass...|             17|\n",
      "|175771|        Musta Jumala|       Terveet Kädet|             17|\n",
      "|196967|   Hard On For Jesus|   The Dandy Warhols|             17|\n",
      "|294748|              Odotus|            Apulanta|             17|\n",
      "|360759|     Shaman's Prayer|                 CMX|             17|\n",
      "| 60038|             Calling|The Birthday Mass...|             16|\n",
      "|177387|        A to Fade In|            Adorable|             16|\n",
      "|197273|       At the Movies|          Bad Brains|             16|\n",
      "|188902|              Alibis|The Birthday Mass...|             16|\n",
      "+------+--------------------+--------------------+---------------+\n",
      "\n"
     ]
    }
   ],
   "source": [
    "u = 14600\n",
    "print (\"list of songs listened by user {}:\" .format(u))\n",
    "\n",
    "songs_listened(u,1000)"
   ]
  },
  {
   "cell_type": "code",
   "execution_count": 26,
   "metadata": {},
   "outputs": [
    {
     "name": "stdout",
     "output_type": "stream",
     "text": [
      "Recommendations for user 14600:\n",
      "+------+-------------------------------+--------------+-----------+\n",
      "|songId|track_name                     |artist_name   |prediction |\n",
      "+------+-------------------------------+--------------+-----------+\n",
      "|95473 |The Bitter End                 |Placebo       |0.11987309 |\n",
      "|95473 |Bitter End                     |Placebo       |0.11987309 |\n",
      "|12456 |Song to Say Goodbye            |Placebo       |0.10068031 |\n",
      "|196783|Lullaby                        |The Cure      |0.09785267 |\n",
      "|130985|Wicked Game                    |Him           |0.097195685|\n",
      "|343743|This Picture                   |Placebo       |0.09571357 |\n",
      "|147624|Every You Every Me             |Placebo       |0.09450346 |\n",
      "|7072  |Teardrop                       |Massive Attack|0.0928891  |\n",
      "|264903|For What It's Worth            |Placebo       |0.09212646 |\n",
      "|102867|Nemo                           |Nightwish     |0.09131986 |\n",
      "|119678|Infra-Red                      |Placebo       |0.0899719  |\n",
      "|364045|Special Needs                  |Placebo       |0.08886013 |\n",
      "|353580|Never Let Me Down Again        |Depeche Mode  |0.08673504 |\n",
      "|231419|Because I Want You             |Placebo       |0.08585737 |\n",
      "|214265|Enjoy the Silence              |Depeche Mode  |0.08572076 |\n",
      "|206336|Sweet Dreams (Are Made of This)|Marilyn Manson|0.08520634 |\n",
      "|193694|Tainted Love                   |Marilyn Manson|0.08427581 |\n",
      "|198101|Special K                      |Placebo       |0.08344731 |\n",
      "|158193|mOBSCENE                       |Marilyn Manson|0.08311065 |\n",
      "|392499|Poison Girl                    |Him           |0.08241342 |\n",
      "+------+-------------------------------+--------------+-----------+\n",
      "only showing top 20 rows\n",
      "\n"
     ]
    }
   ],
   "source": [
    "print (\"Recommendations for user {}:\".format(u))\n",
    "recommendMusic(model,u,20)"
   ]
  },
  {
   "cell_type": "code",
   "execution_count": null,
   "metadata": {
    "collapsed": true
   },
   "outputs": [],
   "source": []
  },
  {
   "cell_type": "code",
   "execution_count": 27,
   "metadata": {
    "collapsed": true
   },
   "outputs": [],
   "source": [
    "#save notebook session \n",
    "#import dill\n",
    "#dill.dump_session(\"notebook_env.db\")"
   ]
  },
  {
   "cell_type": "code",
   "execution_count": null,
   "metadata": {
    "collapsed": true
   },
   "outputs": [],
   "source": []
  }
 ],
 "metadata": {
  "kernelspec": {
   "display_name": "Python 3",
   "language": "python",
   "name": "python3"
  },
  "language_info": {
   "codemirror_mode": {
    "name": "ipython",
    "version": 3
   },
   "file_extension": ".py",
   "mimetype": "text/x-python",
   "name": "python",
   "nbconvert_exporter": "python",
   "pygments_lexer": "ipython3",
   "version": "3.6.3"
  }
 },
 "nbformat": 4,
 "nbformat_minor": 2
}
