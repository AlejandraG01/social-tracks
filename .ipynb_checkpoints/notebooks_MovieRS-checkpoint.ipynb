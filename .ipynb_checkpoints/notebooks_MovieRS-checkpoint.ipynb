{
 "cells": [
  {
   "cell_type": "code",
   "execution_count": 1,
   "metadata": {
    "scrolled": true
   },
   "outputs": [
    {
     "data": {
      "text/html": [
       "\n",
       "        <div>\n",
       "            <p><b>SparkContext</b></p>\n",
       "\n",
       "            <p><a href=\"http://192.168.1.104:4040\">Spark UI</a></p>\n",
       "\n",
       "            <dl>\n",
       "              <dt>Version</dt>\n",
       "                <dd><code>v2.2.1</code></dd>\n",
       "              <dt>Master</dt>\n",
       "                <dd><code>local[*]</code></dd>\n",
       "              <dt>AppName</dt>\n",
       "                <dd><code>PySparkShell</code></dd>\n",
       "            </dl>\n",
       "        </div>\n",
       "        "
      ],
      "text/plain": [
       "<SparkContext master=local[*] appName=PySparkShell>"
      ]
     },
     "execution_count": 1,
     "metadata": {},
     "output_type": "execute_result"
    }
   ],
   "source": [
    "sc"
   ]
  },
  {
   "cell_type": "code",
   "execution_count": 10,
   "metadata": {
    "collapsed": true,
    "scrolled": true
   },
   "outputs": [],
   "source": [
    "import pandas as pd\n",
    "from pyspark.ml.evaluation import RegressionEvaluator\n",
    "from pyspark.ml.recommendation import ALS\n",
    "from pyspark.sql import Row\n",
    "from pyspark.sql.functions import *\n",
    "from pyspark.sql.types import *\n",
    "\n"
   ]
  },
  {
   "cell_type": "code",
   "execution_count": 1,
   "metadata": {
    "scrolled": true
   },
   "outputs": [
    {
     "data": {
      "text/plain": [
       "[Row(userId=1, movieId=2, rating=3.5, timestamp=1112486027),\n",
       " Row(userId=1, movieId=29, rating=3.5, timestamp=1112484676)]"
      ]
     },
     "execution_count": 1,
     "metadata": {},
     "output_type": "execute_result"
    }
   ],
   "source": [
    "#lines = spark.read.csv(\"hdfs:/user/data/ratings.csv\", header=\"true\",inferSchema=\"true\").rdd\n",
    "#lines = spark.read.csv(\"gs://dataset-rs/ml-20m/ratings.csv\", header=\"true\",inferSchema=\"true\").rdd\n",
    "lines = spark.read.csv(\"/home/aleja/Documentos/datasets/ml-20m/ratings.csv\", header=\"true\",inferSchema=\"true\").rdd\n",
    "\n",
    "lines.take(2)"
   ]
  },
  {
   "cell_type": "code",
   "execution_count": 2,
   "metadata": {
    "scrolled": true
   },
   "outputs": [
    {
     "data": {
      "text/plain": [
       "DataFrame[userId: bigint, movieId: bigint, rating: double, timestamp: bigint]"
      ]
     },
     "execution_count": 2,
     "metadata": {},
     "output_type": "execute_result"
    }
   ],
   "source": [
    "\n",
    "df_ratings = spark.createDataFrame(lines) \n",
    "\n",
    "df_ratings"
   ]
  },
  {
   "cell_type": "code",
   "execution_count": 3,
   "metadata": {},
   "outputs": [
    {
     "data": {
      "text/plain": [
       "4"
      ]
     },
     "execution_count": 3,
     "metadata": {},
     "output_type": "execute_result"
    }
   ],
   "source": [
    "df_ratings.rdd.getNumPartitions()"
   ]
  },
  {
   "cell_type": "code",
   "execution_count": 4,
   "metadata": {},
   "outputs": [
    {
     "data": {
      "text/plain": [
       "9998448"
      ]
     },
     "execution_count": 4,
     "metadata": {},
     "output_type": "execute_result"
    }
   ],
   "source": [
    "#newdf = ratings.limit(20000)\n",
    "ratings = df_ratings.sample(False,fraction=0.5, seed=1)\n",
    "ratings.select('userId').count()"
   ]
  },
  {
   "cell_type": "code",
   "execution_count": 5,
   "metadata": {},
   "outputs": [
    {
     "data": {
      "text/plain": [
       "1"
      ]
     },
     "execution_count": 5,
     "metadata": {},
     "output_type": "execute_result"
    }
   ],
   "source": [
    "ratings = ratings.repartition(1)\n",
    "ratings.rdd.getNumPartitions()"
   ]
  },
  {
   "cell_type": "code",
   "execution_count": 6,
   "metadata": {},
   "outputs": [
    {
     "data": {
      "text/plain": [
       "138493"
      ]
     },
     "execution_count": 6,
     "metadata": {},
     "output_type": "execute_result"
    }
   ],
   "source": [
    "ratings.select('userId').distinct().count()"
   ]
  },
  {
   "cell_type": "code",
   "execution_count": 7,
   "metadata": {},
   "outputs": [
    {
     "data": {
      "text/plain": [
       "24066"
      ]
     },
     "execution_count": 7,
     "metadata": {},
     "output_type": "execute_result"
    }
   ],
   "source": [
    "ratings.select('movieId').distinct().count()"
   ]
  },
  {
   "cell_type": "code",
   "execution_count": 8,
   "metadata": {
    "scrolled": true
   },
   "outputs": [
    {
     "name": "stdout",
     "output_type": "stream",
     "text": [
      "root\n",
      " |-- userId: long (nullable = true)\n",
      " |-- movieId: long (nullable = true)\n",
      " |-- rating: double (nullable = true)\n",
      " |-- timestamp: long (nullable = true)\n",
      "\n"
     ]
    }
   ],
   "source": [
    "(training, test) = ratings.randomSplit([0.8, 0.2])\n",
    "training.printSchema()\n"
   ]
  },
  {
   "cell_type": "code",
   "execution_count": 16,
   "metadata": {
    "scrolled": true
   },
   "outputs": [
    {
     "name": "stdout",
     "output_type": "stream",
     "text": [
      "+------+-------+------+----------+\n",
      "|userId|movieId|rating| timestamp|\n",
      "+------+-------+------+----------+\n",
      "|     1|      2|   3.5|1112486027|\n",
      "|     1|     32|   3.5|1112484819|\n",
      "+------+-------+------+----------+\n",
      "only showing top 2 rows\n",
      "\n"
     ]
    }
   ],
   "source": [
    "training.show(2)"
   ]
  },
  {
   "cell_type": "code",
   "execution_count": 17,
   "metadata": {
    "scrolled": true
   },
   "outputs": [
    {
     "name": "stdout",
     "output_type": "stream",
     "text": [
      "+------+-------+------+----------+\n",
      "|userId|movieId|rating| timestamp|\n",
      "+------+-------+------+----------+\n",
      "|     1|   4993|   5.0|1112484682|\n",
      "|     1|   7153|   5.0|1112484633|\n",
      "|     1|   8507|   5.0|1094786027|\n",
      "|     2|     62|   5.0| 974820598|\n",
      "|     2|     70|   5.0| 974820691|\n",
      "|     2|    480|   5.0| 974820720|\n",
      "|     2|    541|   5.0| 974821014|\n",
      "|     2|    589|   5.0| 974820658|\n",
      "|     2|    924|   5.0| 974821014|\n",
      "|     2|   1214|   5.0| 974821014|\n",
      "+------+-------+------+----------+\n",
      "only showing top 10 rows\n",
      "\n"
     ]
    }
   ],
   "source": [
    "training.filter(training['rating'] > 4).show(10)"
   ]
  },
  {
   "cell_type": "markdown",
   "metadata": {},
   "source": [
    "ALS\n",
    "-numBlocks is the number of blocks the users and items will be partitioned into in order to parallelize computation (defaults to 10).\n",
    "-rank is the number of latent factors in the model (defaults to 10).\n",
    "-maxIter is the maximum number of iterations to run (defaults to 10).\n",
    "-regParam specifies the regularization parameter in ALS (defaults to 1.0).\n",
    "-implicitPrefs specifies whether to use the explicit feedback ALS variant or one adapted for implicit feedback data (defaults to false which means using explicit feedback).\n",
    "-alpha is a parameter applicable to the implicit feedback variant of ALS that governs the baseline confidence in preference observations (defaults to 1.0).\n",
    "-nonnegative specifies whether or not to use nonnegative constraints for least squares (defaults to false).\n"
   ]
  },
  {
   "cell_type": "code",
   "execution_count": 11,
   "metadata": {
    "scrolled": true
   },
   "outputs": [],
   "source": [
    "als = ALS(maxIter=5, regParam=0.01, userCol=\"userId\", itemCol=\"movieId\", ratingCol=\"rating\",coldStartStrategy=\"drop\")\n"
   ]
  },
  {
   "cell_type": "code",
   "execution_count": 12,
   "metadata": {
    "scrolled": true
   },
   "outputs": [
    {
     "data": {
      "text/plain": [
       "10"
      ]
     },
     "execution_count": 12,
     "metadata": {},
     "output_type": "execute_result"
    }
   ],
   "source": [
    "model = als.fit(training)\n",
    "model.rank"
   ]
  },
  {
   "cell_type": "code",
   "execution_count": 20,
   "metadata": {
    "collapsed": true,
    "scrolled": true
   },
   "outputs": [],
   "source": [
    "#para usar despues\n",
    "predictions_Data= test.select(test.columns[:2])"
   ]
  },
  {
   "cell_type": "code",
   "execution_count": 21,
   "metadata": {
    "collapsed": true,
    "scrolled": true
   },
   "outputs": [],
   "source": [
    "predictions_Data = sorted(predictions_Data.collect(), key=lambda r:r[0])"
   ]
  },
  {
   "cell_type": "code",
   "execution_count": 22,
   "metadata": {
    "scrolled": true
   },
   "outputs": [
    {
     "data": {
      "text/plain": [
       "Row(userId=1, movieId=253)"
      ]
     },
     "execution_count": 22,
     "metadata": {},
     "output_type": "execute_result"
    }
   ],
   "source": [
    "predictions_Data[0]"
   ]
  },
  {
   "cell_type": "code",
   "execution_count": 13,
   "metadata": {
    "collapsed": true,
    "scrolled": true
   },
   "outputs": [],
   "source": [
    "predictions = model.transform(test)"
   ]
  },
  {
   "cell_type": "code",
   "execution_count": 14,
   "metadata": {
    "scrolled": true
   },
   "outputs": [
    {
     "name": "stdout",
     "output_type": "stream",
     "text": [
      "+------+-------+------+----------+----------+\n",
      "|userId|movieId|rating| timestamp|prediction|\n",
      "+------+-------+------+----------+----------+\n",
      "| 97435|    148|   4.0|1042483722| 2.8819597|\n",
      "| 88527|    148|   2.0| 965659724| 2.1215599|\n",
      "| 91782|    148|   3.0| 846406692| 2.7529137|\n",
      "| 36445|    148|   4.5|1419358555| 2.2832372|\n",
      "| 20344|    148|   2.0| 965940170| 3.0843344|\n",
      "| 68242|    148|   3.0|1047397251|  2.868523|\n",
      "|108141|    148|   3.0| 837773116| 2.3494816|\n",
      "| 28361|    148|   4.0| 828873686| 3.9624681|\n",
      "| 80886|    148|   2.0| 944246202| 3.1821542|\n",
      "|107802|    148|   3.0| 834487594| 3.0518832|\n",
      "| 22584|    148|   2.0| 835094487| 3.1753657|\n",
      "| 85166|    148|   3.0| 944274839| 2.9969263|\n",
      "|  5186|    148|   2.0| 962906606| 2.5781078|\n",
      "| 67698|    148|   3.0| 945124706| 3.4344025|\n",
      "|  5814|    148|   3.0| 859547410| 3.1405952|\n",
      "| 12539|    148|   3.0| 956789580|  3.057478|\n",
      "| 80952|    148|   3.0| 833159835|  2.866095|\n",
      "| 28478|    148|   5.0| 836529818|   4.15996|\n",
      "|136182|    148|   4.0| 963673787| 3.7784495|\n",
      "|137057|    148|   2.0| 954478151| 2.6912389|\n",
      "+------+-------+------+----------+----------+\n",
      "only showing top 20 rows\n",
      "\n"
     ]
    }
   ],
   "source": [
    "predictions.show()"
   ]
  },
  {
   "cell_type": "code",
   "execution_count": 15,
   "metadata": {
    "scrolled": true
   },
   "outputs": [
    {
     "name": "stdout",
     "output_type": "stream",
     "text": [
      "Root-mean-square error = 0.86619277371824\n"
     ]
    }
   ],
   "source": [
    "# Evaluate the model by computing the RMSE on the test data\n",
    "\n",
    "\n",
    "evaluator = RegressionEvaluator(metricName=\"rmse\", labelCol=\"rating\",predictionCol=\"prediction\")\n",
    "rmse = evaluator.evaluate(predictions.na.drop())\n",
    "print(\"Root-mean-square error = \" + str(rmse))"
   ]
  },
  {
   "cell_type": "code",
   "execution_count": 16,
   "metadata": {
    "scrolled": true
   },
   "outputs": [
    {
     "name": "stdout",
     "output_type": "stream",
     "text": [
      "+------+----------------------------------------------------------------------------------------------------------------------------------------------------------------------------------------------------+\n",
      "|userId|recommendations                                                                                                                                                                                     |\n",
      "+------+----------------------------------------------------------------------------------------------------------------------------------------------------------------------------------------------------+\n",
      "|148   |[[33110,10.416933], [82759,10.416395], [81443,10.244753], [103721,10.024731], [92122,9.99485], [65667,9.954976], [58898,9.8829], [97779,9.841513], [5280,9.768883], [52104,9.751188]]               |\n",
      "|463   |[[69858,10.931751], [94951,9.545645], [81443,9.342561], [82051,9.308655], [73529,9.19513], [87065,8.934564], [87040,8.456299], [101862,8.43072], [91632,8.430481], [62206,8.395147]]                |\n",
      "|471   |[[81443,10.777359], [55856,9.951478], [69858,9.607155], [8776,9.021355], [89939,8.999001], [94951,8.861221], [72850,8.811714], [3486,8.58026], [73529,8.202103], [82051,8.196097]]                  |\n",
      "|496   |[[117506,10.110241], [105084,10.110241], [73529,9.878935], [69858,9.287881], [115824,9.10364], [112907,9.099217], [109953,8.802758], [87065,8.745686], [72899,8.444642], [89732,8.409853]]          |\n",
      "|833   |[[69858,14.251717], [94951,12.428976], [109953,11.798634], [81443,10.827235], [96030,10.7830515], [8776,10.370539], [68273,10.058933], [115705,9.960418], [32719,9.913427], [2584,9.774193]]        |\n",
      "|1088  |[[69858,11.737578], [26966,11.385437], [124273,11.252233], [115824,11.119186], [115467,10.723748], [87608,10.576224], [107743,10.541986], [109953,10.353603], [58895,10.225395], [128320,10.186048]]|\n",
      "|1238  |[[4938,9.141119], [8621,9.086081], [25786,8.946788], [34411,8.880539], [37277,8.687345], [56779,8.626894], [31549,8.537185], [73529,8.474431], [109199,8.430389], [5953,8.411862]]                  |\n",
      "|1342  |[[105084,10.620157], [117506,10.620157], [73529,10.168198], [79333,10.010342], [112907,9.558141], [72899,9.34947], [109556,9.121473], [69858,8.988883], [71047,8.945092], [81975,8.912799]]         |\n",
      "|1580  |[[96255,19.786438], [81443,18.225285], [5371,17.3236], [6284,16.9068], [7413,16.302156], [82759,16.153759], [34330,15.792124], [79333,15.71064], [68874,15.629438], [94951,15.628957]]              |\n",
      "|1591  |[[8621,14.416822], [4938,14.014958], [31549,13.268634], [30742,12.845724], [32811,12.7447405], [89939,12.507138], [61707,12.386029], [48389,12.229456], [109199,12.122344], [3486,12.084784]]       |\n",
      "|1645  |[[107910,9.521102], [73529,9.15055], [96030,9.002411], [60336,8.546967], [87065,8.472803], [72032,8.448563], [69858,8.413477], [62206,8.331847], [79236,8.331847], [129401,8.246746]]               |\n",
      "|1829  |[[69858,12.733555], [94951,12.543845], [96030,9.404752], [91632,9.269573], [69509,9.236668], [54872,9.220467], [73529,9.217108], [80281,9.148807], [87065,8.916294], [84796,8.914801]]              |\n",
      "|1959  |[[8681,9.069016], [112689,8.519562], [68976,8.440761], [81443,8.423752], [46544,8.198116], [109556,8.049452], [69858,7.965602], [87164,7.855382], [8925,7.7639456], [71047,7.737114]]               |\n",
      "|2122  |[[3228,12.495537], [9019,11.839486], [5280,11.827746], [109199,11.476841], [42783,11.014403], [8687,10.670962], [96644,10.393967], [54519,10.360696], [86233,10.274216], [81631,10.167991]]         |\n",
      "|2142  |[[68273,13.549614], [82836,13.518226], [49513,13.199162], [56693,13.018203], [42602,12.885706], [69957,12.813855], [27911,12.611874], [8671,12.568542], [68874,12.421072], [70235,12.322305]]       |\n",
      "|2366  |[[69858,16.19648], [81443,15.52641], [94951,12.989448], [55856,12.012829], [82051,11.837736], [81568,11.823957], [26157,11.692488], [99047,11.5888195], [8776,11.460149], [109953,11.36068]]        |\n",
      "|2659  |[[96030,14.787125], [73152,13.586209], [109199,12.758503], [61931,11.718731], [91632,11.498997], [3228,11.200298], [86491,11.157991], [26809,11.126095], [70046,10.886601], [86495,10.79603]]       |\n",
      "|2866  |[[73529,8.690337], [120815,8.010758], [105084,7.970621], [117506,7.970621], [87608,7.904297], [82836,7.8026924], [26049,7.7624607], [79236,7.683902], [62206,7.683902], [87065,7.6376476]]          |\n",
      "|3175  |[[8671,13.136178], [26268,12.922995], [82759,12.882326], [4851,12.552772], [7878,12.289549], [68874,12.226207], [60311,11.858014], [58709,11.821336], [46912,11.764753], [113374,11.753976]]        |\n",
      "|3749  |[[8777,16.051868], [70366,14.6880045], [8478,13.893818], [70535,13.566895], [100538,13.385066], [70806,13.292995], [38656,13.074401], [85312,12.6596775], [7958,12.480345], [38881,12.299503]]      |\n",
      "+------+----------------------------------------------------------------------------------------------------------------------------------------------------------------------------------------------------+\n",
      "only showing top 20 rows\n",
      "\n"
     ]
    }
   ],
   "source": [
    "# Generate top 10 movie recommendations for each user\n",
    "userRecs = model.recommendForAllUsers(10)\n",
    "userRecs.show(truncate=False)"
   ]
  },
  {
   "cell_type": "code",
   "execution_count": null,
   "metadata": {
    "collapsed": true,
    "scrolled": true
   },
   "outputs": [],
   "source": []
  },
  {
   "cell_type": "code",
   "execution_count": 17,
   "metadata": {
    "scrolled": true
   },
   "outputs": [
    {
     "name": "stdout",
     "output_type": "stream",
     "text": [
      "+-------+---------------------------------------------------------------------------------------------------------------------------------------------------------------------------------------------------+\n",
      "|movieId|recommendations                                                                                                                                                                                    |\n",
      "+-------+---------------------------------------------------------------------------------------------------------------------------------------------------------------------------------------------------+\n",
      "|1580   |[[40343,6.001258], [70175,5.901202], [101476,5.80225], [96967,5.802183], [122237,5.7978315], [91209,5.787822], [67233,5.741064], [24590,5.7010384], [101259,5.6936216], [53993,5.6929655]]         |\n",
      "|4900   |[[39244,10.003544], [93965,8.550216], [24829,8.339062], [41266,8.324963], [6949,8.277994], [122237,8.192054], [61315,8.164588], [124294,8.164522], [90503,8.013707], [95369,7.9874]]               |\n",
      "|5300   |[[24829,8.338249], [73256,8.289987], [103735,8.288212], [101351,7.9842167], [51105,7.957838], [23658,7.9393606], [66703,7.934907], [89119,7.9340615], [83913,7.89352], [7019,7.8272243]]           |\n",
      "|6620   |[[22948,7.8180513], [77582,7.6187954], [71301,7.5354548], [104277,7.4874353], [109724,7.1765122], [53192,7.13022], [31358,7.1292853], [55922,7.105674], [52772,7.0096235], [10297,7.002537]]       |\n",
      "|7240   |[[101476,17.72497], [4273,14.723606], [70278,14.619724], [71017,14.541502], [51690,14.441772], [129517,13.805544], [4094,13.688981], [107227,13.517344], [28022,13.206895], [36378,13.183249]]     |\n",
      "|7340   |[[4273,10.096034], [122936,10.025044], [26910,9.526761], [102422,9.335872], [40450,9.3356495], [115447,9.250387], [6240,9.243796], [123753,9.023521], [51105,8.980888], [24829,8.874509]]          |\n",
      "|7880   |[[34521,18.860292], [57511,18.042326], [121240,17.470997], [12312,17.304127], [122254,17.283709], [43291,16.83089], [115298,16.646204], [64000,16.296759], [37306,16.205845], [133672,16.101969]]  |\n",
      "|27760  |[[40343,6.4772797], [67233,6.2225757], [24590,6.09338], [119351,6.067231], [111191,6.0645475], [137553,6.0610867], [76591,6.0154986], [18531,5.9911313], [104672,5.982978], [60202,5.9745803]]     |\n",
      "|30970  |[[70082,16.04275], [19616,15.638711], [45453,15.158953], [56145,14.805782], [92900,14.54897], [84871,14.43624], [67882,14.010741], [11726,13.812019], [66469,13.753075], [47093,13.675032]]        |\n",
      "|32460  |[[61007,8.112482], [22298,8.03365], [109724,7.745911], [26395,7.700799], [52873,7.644371], [53004,7.5338464], [120618,7.5299835], [33569,7.484493], [32537,7.4178534], [19673,7.3907185]]          |\n",
      "|54190  |[[39244,8.527702], [17816,8.214417], [51105,8.1859255], [97609,7.9303513], [109724,7.895831], [102695,7.7464533], [65900,7.664533], [80983,7.5134425], [40402,7.5037622], [93965,7.4080825]]       |\n",
      "|57370  |[[30874,14.238886], [42518,13.915691], [45086,12.582561], [76485,12.553029], [96152,12.268198], [109839,12.262685], [111473,12.131227], [80983,12.0222], [5280,11.947607], [52756,11.788107]]      |\n",
      "|74820  |[[123082,17.919764], [137093,16.88432], [120662,16.40403], [53973,15.13148], [92087,15.099152], [117009,14.845278], [101718,14.81482], [46839,14.711016], [98128,14.369475], [2763,14.34601]]      |\n",
      "|79220  |[[101476,5.7869844], [40343,5.746402], [67233,5.5214844], [111191,5.4872594], [24590,5.4794316], [32231,5.420493], [81473,5.416587], [44472,5.4029474], [104672,5.397852], [107236,5.3965464]]     |\n",
      "|83250  |[[121240,15.228294], [136143,14.78616], [63187,14.747152], [76846,14.181443], [103735,13.773725], [63122,13.693175], [133963,13.311536], [130403,13.275307], [103677,13.245605], [86495,13.235422]]|\n",
      "|109800 |[[46839,6.6189036], [72857,6.1491275], [2763,6.107458], [17070,6.0957866], [135924,6.091133], [20540,6.0881786], [50784,6.060283], [65884,5.9715014], [43990,5.970336], [21112,5.94176]]           |\n",
      "|471    |[[104277,7.879977], [81079,7.107666], [27325,6.673522], [46510,6.5302167], [34386,6.429346], [5445,6.412928], [71306,6.379405], [46027,6.3672886], [66433,6.342964], [65884,6.2930975]]            |\n",
      "|1591   |[[101476,7.0543375], [23065,6.5149026], [74727,6.464185], [6240,6.3561964], [2020,6.272046], [62832,6.1232862], [19132,6.0906987], [122237,6.087543], [716,6.0648985], [104367,6.04515]]           |\n",
      "|4101   |[[71017,14.997744], [73090,14.030602], [78217,14.015029], [20569,13.856689], [87913,13.845047], [30874,13.247822], [107804,13.09678], [81079,12.6304245], [68470,12.406076], [102695,12.283193]]   |\n",
      "|47501  |[[40343,6.299342], [67233,6.1724634], [137553,5.9228725], [51300,5.873304], [119351,5.8591566], [89187,5.857754], [124248,5.850401], [18531,5.831048], [24590,5.825388], [111191,5.8246183]]       |\n",
      "+-------+---------------------------------------------------------------------------------------------------------------------------------------------------------------------------------------------------+\n",
      "only showing top 20 rows\n",
      "\n"
     ]
    }
   ],
   "source": [
    "# Generate top 10 user recommendations for each movie\n",
    "movieRecs = model.recommendForAllItems(10)\n",
    "movieRecs.show(truncate=False)"
   ]
  },
  {
   "cell_type": "code",
   "execution_count": 18,
   "metadata": {
    "scrolled": true
   },
   "outputs": [
    {
     "data": {
      "text/plain": [
       "DataFrame[movieId: bigint, title: string, genres: string]"
      ]
     },
     "execution_count": 18,
     "metadata": {},
     "output_type": "execute_result"
    }
   ],
   "source": [
    "movies_data = spark.read.csv(\"/home/aleja/Documentos/datasets/ml-20m/movies.csv\", header=\"true\",inferSchema=\"true\").rdd\n",
    "df_movies = spark.createDataFrame(movies_data)\n",
    "df_movies"
   ]
  },
  {
   "cell_type": "code",
   "execution_count": 19,
   "metadata": {},
   "outputs": [
    {
     "data": {
      "text/plain": [
       "27278"
      ]
     },
     "execution_count": 19,
     "metadata": {},
     "output_type": "execute_result"
    }
   ],
   "source": [
    "df_movies.select('movieId').count()"
   ]
  },
  {
   "cell_type": "code",
   "execution_count": 20,
   "metadata": {},
   "outputs": [
    {
     "data": {
      "text/plain": [
       "13710"
      ]
     },
     "execution_count": 20,
     "metadata": {},
     "output_type": "execute_result"
    }
   ],
   "source": [
    "movies = df_movies.sample(False,fraction=0.5, seed=1)\n",
    "movies.select('movieId').count()"
   ]
  },
  {
   "cell_type": "code",
   "execution_count": 21,
   "metadata": {
    "scrolled": true
   },
   "outputs": [
    {
     "name": "stdout",
     "output_type": "stream",
     "text": [
      "+-------+----------------------------------------------------+-------------------------------------------+\n",
      "|movieId|title                                               |genres                                     |\n",
      "+-------+----------------------------------------------------+-------------------------------------------+\n",
      "|1      |Toy Story (1995)                                    |Adventure|Animation|Children|Comedy|Fantasy|\n",
      "|3      |Grumpier Old Men (1995)                             |Comedy|Romance                             |\n",
      "|4      |Waiting to Exhale (1995)                            |Comedy|Drama|Romance                       |\n",
      "|7      |Sabrina (1995)                                      |Comedy|Romance                             |\n",
      "|9      |Sudden Death (1995)                                 |Action                                     |\n",
      "|12     |Dracula: Dead and Loving It (1995)                  |Comedy|Horror                              |\n",
      "|13     |Balto (1995)                                        |Adventure|Animation|Children               |\n",
      "|14     |Nixon (1995)                                        |Drama                                      |\n",
      "|15     |Cutthroat Island (1995)                             |Action|Adventure|Romance                   |\n",
      "|16     |Casino (1995)                                       |Crime|Drama                                |\n",
      "|20     |Money Train (1995)                                  |Action|Comedy|Crime|Drama|Thriller         |\n",
      "|22     |Copycat (1995)                                      |Crime|Drama|Horror|Mystery|Thriller        |\n",
      "|23     |Assassins (1995)                                    |Action|Crime|Thriller                      |\n",
      "|24     |Powder (1995)                                       |Drama|Sci-Fi                               |\n",
      "|26     |Othello (1995)                                      |Drama                                      |\n",
      "|28     |Persuasion (1995)                                   |Drama|Romance                              |\n",
      "|30     |Shanghai Triad (Yao a yao yao dao waipo qiao) (1995)|Crime|Drama                                |\n",
      "|31     |Dangerous Minds (1995)                              |Drama                                      |\n",
      "|34     |Babe (1995)                                         |Children|Drama                             |\n",
      "|35     |Carrington (1995)                                   |Drama|Romance                              |\n",
      "+-------+----------------------------------------------------+-------------------------------------------+\n",
      "only showing top 20 rows\n",
      "\n"
     ]
    }
   ],
   "source": [
    "movies.show(truncate=False)"
   ]
  },
  {
   "cell_type": "code",
   "execution_count": 22,
   "metadata": {},
   "outputs": [
    {
     "data": {
      "text/plain": [
       "1"
      ]
     },
     "execution_count": 22,
     "metadata": {},
     "output_type": "execute_result"
    }
   ],
   "source": [
    "movies = movies.repartition(1)\n",
    "movies.rdd.getNumPartitions()"
   ]
  },
  {
   "cell_type": "code",
   "execution_count": 23,
   "metadata": {
    "scrolled": true
   },
   "outputs": [
    {
     "name": "stdout",
     "output_type": "stream",
     "text": [
      "+-------+------+\n",
      "|movieId|userId|\n",
      "+-------+------+\n",
      "|   2529|   148|\n",
      "|    474|   148|\n",
      "|  45726|   148|\n",
      "|     29|   148|\n",
      "|  60756|   148|\n",
      "|   1950|   148|\n",
      "| 106002|   148|\n",
      "| 106100|   148|\n",
      "|    964|   148|\n",
      "|   2927|   148|\n",
      "|   3091|   148|\n",
      "|   1806|   148|\n",
      "|   1677|   148|\n",
      "|   3764|   148|\n",
      "|     26|   148|\n",
      "|   5385|   148|\n",
      "|  51709|   148|\n",
      "|  96829|   148|\n",
      "|  51418|   148|\n",
      "|   2453|   148|\n",
      "+-------+------+\n",
      "only showing top 20 rows\n",
      "\n"
     ]
    }
   ],
   "source": [
    "data = ratings.select(\"movieId\").distinct().withColumn(\"userId\", lit(148))\n",
    "data.show()\n"
   ]
  },
  {
   "cell_type": "code",
   "execution_count": 24,
   "metadata": {
    "scrolled": true
   },
   "outputs": [
    {
     "name": "stdout",
     "output_type": "stream",
     "text": [
      "+-------+------+\n",
      "|movieId|userId|\n",
      "+-------+------+\n",
      "|     17|   148|\n",
      "|     18|   148|\n",
      "|     39|   148|\n",
      "|     46|   148|\n",
      "|     86|   148|\n",
      "|    222|   148|\n",
      "|    224|   148|\n",
      "|    252|   148|\n",
      "|    342|   148|\n",
      "|    353|   148|\n",
      "|    356|   148|\n",
      "|    362|   148|\n",
      "|    468|   148|\n",
      "|    597|   148|\n",
      "|    708|   148|\n",
      "|    902|   148|\n",
      "|    914|   148|\n",
      "|    916|   148|\n",
      "|    933|   148|\n",
      "|   1057|   148|\n",
      "+-------+------+\n",
      "only showing top 20 rows\n",
      "\n"
     ]
    }
   ],
   "source": [
    "datamv = ratings.filter(ratings.userId == 148).select(\"movieId\", \"userId\")\n",
    "datamv.show()"
   ]
  },
  {
   "cell_type": "code",
   "execution_count": 25,
   "metadata": {},
   "outputs": [
    {
     "name": "stdout",
     "output_type": "stream",
     "text": [
      "+-------+----------+\n",
      "|movieId|prediction|\n",
      "+-------+----------+\n",
      "|  33110| 10.416933|\n",
      "|  82759| 10.416395|\n",
      "|  81443| 10.244753|\n",
      "| 103721| 10.024731|\n",
      "|  92122|   9.99485|\n",
      "+-------+----------+\n",
      "\n"
     ]
    }
   ],
   "source": [
    "data_pred = model.transform(data.subtract(datamv)).dropna().orderBy(\"prediction\",ascending=False).limit(5).select(\"movieId\", \"prediction\")\n",
    "data_pred.show()"
   ]
  },
  {
   "cell_type": "code",
   "execution_count": 26,
   "metadata": {},
   "outputs": [
    {
     "data": {
      "text/plain": [
       "DataFrame[movieId: bigint, prediction: float]"
      ]
     },
     "execution_count": 26,
     "metadata": {},
     "output_type": "execute_result"
    }
   ],
   "source": [
    "data_pred"
   ]
  },
  {
   "cell_type": "code",
   "execution_count": 27,
   "metadata": {},
   "outputs": [
    {
     "data": {
      "text/plain": [
       "DataFrame[movieId: bigint, title: string, genres: string]"
      ]
     },
     "execution_count": 27,
     "metadata": {},
     "output_type": "execute_result"
    }
   ],
   "source": [
    "movies"
   ]
  },
  {
   "cell_type": "code",
   "execution_count": 28,
   "metadata": {},
   "outputs": [
    {
     "name": "stdout",
     "output_type": "stream",
     "text": [
      "+-------+----------+-------+--------------------+------------+\n",
      "|movieId|prediction|movieId|               title|      genres|\n",
      "+-------+----------+-------+--------------------+------------+\n",
      "|  81443| 10.244753|  81443|Counsellor at Law...|       Drama|\n",
      "| 103721| 10.024731| 103721|         Love (2011)|Drama|Sci-Fi|\n",
      "+-------+----------+-------+--------------------+------------+\n",
      "\n"
     ]
    }
   ],
   "source": [
    "rec_mv = data_pred.join(movies, data_pred.movieId == movies.movieId)\n",
    "#select(data_pred.movieId, movies.title, data_pred.prediction)\n",
    "rec_mv.show()"
   ]
  },
  {
   "cell_type": "code",
   "execution_count": 29,
   "metadata": {
    "collapsed": true,
    "scrolled": true
   },
   "outputs": [],
   "source": [
    "from pyspark.sql.functions import lit\n",
    "\n",
    "\n",
    "\n",
    "def recommendMovies(model, user, nbRecommendations):\n",
    "     # Create a Spark DataFrame with the specified user and all the movies listed in the ratings DataFrame\n",
    "    dataSet = ratings.select(\"movieId\").distinct().withColumn(\"userId\", lit(user))\n",
    "\n",
    "    # Create a Spark DataFrame with the movies that have already been rated by this user\n",
    "    moviesAlreadyRated = ratings.filter(ratings.userId == user).select(\"movieId\", \"userId\")\n",
    "\n",
    "    # Apply the recommender system to the data set without the already rated movies to predict ratings\n",
    "    predictions = model.transform(dataSet.subtract(moviesAlreadyRated)).dropna().orderBy(\"prediction\", ascending=False).limit(nbRecommendations).select(\"movieId\", \"prediction\")\n",
    "    \n",
    "    # Join with the movies DataFrame to get the movies titles and genres\n",
    "    recommendations = predictions.join(movies, predictions.movieId == movies.movieId).select(predictions.movieId, movies.title, movies.genres, predictions.prediction)\n",
    "\n",
    "    recommendations.show(truncate=False)"
   ]
  },
  {
   "cell_type": "code",
   "execution_count": 30,
   "metadata": {
    "scrolled": false
   },
   "outputs": [
    {
     "name": "stdout",
     "output_type": "stream",
     "text": [
      "Recommendations for user 148:\n",
      "+-------+------------------------------+------------------------------------------+----------+\n",
      "|movieId|title                         |genres                                    |prediction|\n",
      "+-------+------------------------------+------------------------------------------+----------+\n",
      "|5280   |Salmonberries (1991)          |Drama                                     |9.768883  |\n",
      "|58898  |Aerial, The (La antena) (2007)|Adventure|Fantasy|Film-Noir|Mystery|Sci-Fi|9.8829    |\n",
      "|81443  |Counsellor at Law (1933)      |Drama                                     |10.244753 |\n",
      "|103721 |Love (2011)                   |Drama|Sci-Fi                              |10.024731 |\n",
      "+-------+------------------------------+------------------------------------------+----------+\n",
      "\n"
     ]
    }
   ],
   "source": [
    "print (\"Recommendations for user 148:\")\n",
    "recommendMovies(model,148,10)"
   ]
  },
  {
   "cell_type": "markdown",
   "metadata": {},
   "source": [
    "Now we can use the various prediction functions on the model variable.\n",
    "\n",
    "*predict*: - Return a single floating point value\n",
    "*predictAll*: -Returns RDD of Rating Objects\n",
    "*recommendUsers*: -Returns a List of Ratings in Descending Order by Rating\n",
    "*recommendProducts*: -Returns a List of Ratings\n",
    "*recommendProductsForUsers*:-Returns RDD with(UserID, (RatingObj, RatingObj, …) ) where RatingObj is sorted descending by rating\n",
    "*recommendUsersforProducts*:-Returns RDD with(ProductID, (RatingObj, RatingObj, …) ) where RatingObj is sorted descending by rating\n"
   ]
  }
 ],
 "metadata": {
  "kernelspec": {
   "display_name": "Python 3",
   "language": "python",
   "name": "python3"
  },
  "language_info": {
   "codemirror_mode": {
    "name": "ipython",
    "version": 3
   },
   "file_extension": ".py",
   "mimetype": "text/x-python",
   "name": "python",
   "nbconvert_exporter": "python",
   "pygments_lexer": "ipython3",
   "version": "3.6.3"
  }
 },
 "nbformat": 4,
 "nbformat_minor": 2
}
