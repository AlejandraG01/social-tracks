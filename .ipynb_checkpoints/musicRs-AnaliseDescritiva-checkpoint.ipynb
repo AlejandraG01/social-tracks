{
 "cells": [
  {
   "cell_type": "code",
   "execution_count": 1,
   "metadata": {},
   "outputs": [
    {
     "data": {
      "text/html": [
       "\n",
       "        <div>\n",
       "            <p><b>SparkContext</b></p>\n",
       "\n",
       "            <p><a href=\"http://192.168.88.126:4040\">Spark UI</a></p>\n",
       "\n",
       "            <dl>\n",
       "              <dt>Version</dt>\n",
       "                <dd><code>v2.2.1</code></dd>\n",
       "              <dt>Master</dt>\n",
       "                <dd><code>local[*]</code></dd>\n",
       "              <dt>AppName</dt>\n",
       "                <dd><code>PySparkShell</code></dd>\n",
       "            </dl>\n",
       "        </div>\n",
       "        "
      ],
      "text/plain": [
       "<SparkContext master=local[*] appName=PySparkShell>"
      ]
     },
     "execution_count": 1,
     "metadata": {},
     "output_type": "execute_result"
    }
   ],
   "source": [
    "sc"
   ]
  },
  {
   "cell_type": "code",
   "execution_count": 2,
   "metadata": {
    "collapsed": true
   },
   "outputs": [],
   "source": [
    "#restore session notebook\n",
    "#import dill\n",
    "#dill.load_session(\"notebook_env.db\")"
   ]
  },
  {
   "cell_type": "code",
   "execution_count": 3,
   "metadata": {
    "collapsed": true
   },
   "outputs": [],
   "source": [
    "from pyspark.ml.evaluation import RegressionEvaluator\n",
    "from pyspark.ml.recommendation import ALS\n",
    "from pyspark.sql import Row\n",
    "from pyspark.sql.functions import *\n",
    "from pyspark.sql.types import *"
   ]
  },
  {
   "cell_type": "code",
   "execution_count": 4,
   "metadata": {
    "collapsed": true
   },
   "outputs": [],
   "source": [
    "%matplotlib inline\n",
    "import matplotlib.pyplot as plt\n",
    "import pandas as pd\n",
    "import numpy as np\n",
    "from time import time"
   ]
  },
  {
   "cell_type": "code",
   "execution_count": 5,
   "metadata": {},
   "outputs": [
    {
     "data": {
      "text/plain": [
       "[Row(_c0=0, artist_name='Kenny Rogers', name='fernandomaiscal', track_name='All I Ever Need Is You (feat. Dottie West)', track_playcount='110', new_userId='0', new_songId=90406, new_artistId=31083),\n",
       " Row(_c0=1, artist_name='Geraldo Azevedo', name='fernandomaiscal', track_name='Dia Branco', track_playcount='53', new_userId='0', new_songId=242791, new_artistId=2956)]"
      ]
     },
     "execution_count": 5,
     "metadata": {},
     "output_type": "execute_result"
    }
   ],
   "source": [
    "#lines = spark.read.csv(\"gs://dataset-rs/dataset-last.fm/dataset_lastfm.csv\", header=\"true\",inferSchema=\"true\").rdd\n",
    "lines = spark.read.csv(\"/home/aleja/Documentos/datasets/meu-lastfm/dataset_lastfm_v3_ConvertIds.csv\", header=\"true\",inferSchema=\"true\").rdd\n",
    "\n",
    "lines.take(2)"
   ]
  },
  {
   "cell_type": "code",
   "execution_count": 6,
   "metadata": {},
   "outputs": [
    {
     "data": {
      "text/plain": [
       "1677020"
      ]
     },
     "execution_count": 6,
     "metadata": {},
     "output_type": "execute_result"
    }
   ],
   "source": [
    "#Create dataframe\n",
    "ratings = spark.createDataFrame(lines) \n",
    "#ratings = ratings.withColumn(\"topTracks_playcount\", col(\"topTracks_playcount\").cast('int'))\n",
    "\n",
    "#50% Sample of data \n",
    "df_ratings = ratings.sample(False,fraction=0.5, seed=1)\n",
    "#Drop NaN data \n",
    "df_ratings = df_ratings.na.drop()\n",
    "df_ratings.select('new_userId').count()"
   ]
  },
  {
   "cell_type": "code",
   "execution_count": 7,
   "metadata": {},
   "outputs": [
    {
     "name": "stdout",
     "output_type": "stream",
     "text": [
      "+---+------------+---------------+--------------------+---------------+----------+----------+------------+\n",
      "|_c0| artist_name|           name|          track_name|track_playcount|new_userId|new_songId|new_artistId|\n",
      "+---+------------+---------------+--------------------+---------------+----------+----------+------------+\n",
      "|  0|Kenny Rogers|fernandomaiscal|All I Ever Need I...|            110|         0|     90406|       31083|\n",
      "|  2| John Lennon|fernandomaiscal|    Gimme Some Truth|             49|         0|     17860|       11512|\n",
      "|  3| David Bowie|fernandomaiscal|  Station to Station|             48|         0|    322953|       12565|\n",
      "|  6| David Bowie|fernandomaiscal|       Life on Mars?|             42|         0|    318742|       12565|\n",
      "|  8|Led Zeppelin|fernandomaiscal|Since I've Been L...|             40|         0|     96039|       34497|\n",
      "+---+------------+---------------+--------------------+---------------+----------+----------+------------+\n",
      "only showing top 5 rows\n",
      "\n"
     ]
    }
   ],
   "source": [
    "df_ratings.show(5)"
   ]
  },
  {
   "cell_type": "code",
   "execution_count": 8,
   "metadata": {},
   "outputs": [
    {
     "name": "stdout",
     "output_type": "stream",
     "text": [
      "root\n",
      " |-- userId: string (nullable = true)\n",
      " |-- name: string (nullable = true)\n",
      " |-- songId: long (nullable = true)\n",
      " |-- track_name: string (nullable = true)\n",
      " |-- artistId: long (nullable = true)\n",
      " |-- artist_name: string (nullable = true)\n",
      " |-- track_playcount: string (nullable = true)\n",
      "\n"
     ]
    }
   ],
   "source": [
    "#changes the names of rows\n",
    "df_ratings =  df_ratings.selectExpr(\"new_userId as userId\",\"name as name\", \"new_songId as songId\",\"track_name as track_name\",\"new_artistId as artistId\", \"artist_name as artist_name\",\"track_playcount as track_playcount\")\n",
    "df_ratings.printSchema()\n"
   ]
  },
  {
   "cell_type": "code",
   "execution_count": 9,
   "metadata": {},
   "outputs": [
    {
     "name": "stdout",
     "output_type": "stream",
     "text": [
      "+------+---------------+------+--------------------+--------+------------+---------------+\n",
      "|userId|           name|songId|          track_name|artistId| artist_name|track_playcount|\n",
      "+------+---------------+------+--------------------+--------+------------+---------------+\n",
      "|     0|fernandomaiscal| 90406|All I Ever Need I...|   31083|Kenny Rogers|            110|\n",
      "|     0|fernandomaiscal| 17860|    Gimme Some Truth|   11512| John Lennon|             49|\n",
      "|     0|fernandomaiscal|322953|  Station to Station|   12565| David Bowie|             48|\n",
      "|     0|fernandomaiscal|318742|       Life on Mars?|   12565| David Bowie|             42|\n",
      "|     0|fernandomaiscal| 96039|Since I've Been L...|   34497|Led Zeppelin|             40|\n",
      "+------+---------------+------+--------------------+--------+------------+---------------+\n",
      "only showing top 5 rows\n",
      "\n"
     ]
    }
   ],
   "source": [
    "df_ratings.show(5)"
   ]
  },
  {
   "cell_type": "code",
   "execution_count": 10,
   "metadata": {
    "collapsed": true
   },
   "outputs": [],
   "source": [
    "df_ratings = df_ratings.withColumn(\"userId\", col(\"userId\").cast(\"int\"))\n",
    "df_ratings = df_ratings.withColumn(\"songId\", col(\"songId\").cast(\"int\"))\n",
    "df_ratings = df_ratings.withColumn(\"artistId\", col(\"artistId\").cast(\"int\"))\n",
    "df_ratings = df_ratings.withColumn(\"track_playcount\", col(\"track_playcount\").cast(\"int\"))"
   ]
  },
  {
   "cell_type": "code",
   "execution_count": 11,
   "metadata": {},
   "outputs": [
    {
     "name": "stdout",
     "output_type": "stream",
     "text": [
      "root\n",
      " |-- userId: integer (nullable = true)\n",
      " |-- name: string (nullable = true)\n",
      " |-- songId: integer (nullable = true)\n",
      " |-- track_name: string (nullable = true)\n",
      " |-- artistId: integer (nullable = true)\n",
      " |-- artist_name: string (nullable = true)\n",
      " |-- track_playcount: integer (nullable = true)\n",
      "\n"
     ]
    }
   ],
   "source": [
    "df_ratings.printSchema()"
   ]
  },
  {
   "cell_type": "code",
   "execution_count": 12,
   "metadata": {},
   "outputs": [
    {
     "name": "stdout",
     "output_type": "stream",
     "text": [
      "+------+---------------+------+--------------------+--------+------------+---------------+\n",
      "|userId|           name|songId|          track_name|artistId| artist_name|track_playcount|\n",
      "+------+---------------+------+--------------------+--------+------------+---------------+\n",
      "|     0|fernandomaiscal| 90406|All I Ever Need I...|   31083|Kenny Rogers|            110|\n",
      "|     0|fernandomaiscal| 17860|    Gimme Some Truth|   11512| John Lennon|             49|\n",
      "|     0|fernandomaiscal|322953|  Station to Station|   12565| David Bowie|             48|\n",
      "|     0|fernandomaiscal|318742|       Life on Mars?|   12565| David Bowie|             42|\n",
      "|     0|fernandomaiscal| 96039|Since I've Been L...|   34497|Led Zeppelin|             40|\n",
      "+------+---------------+------+--------------------+--------+------------+---------------+\n",
      "only showing top 5 rows\n",
      "\n"
     ]
    }
   ],
   "source": [
    "df_ratings.show(5)"
   ]
  },
  {
   "cell_type": "code",
   "execution_count": 13,
   "metadata": {},
   "outputs": [
    {
     "name": "stdout",
     "output_type": "stream",
     "text": [
      "Total n. of users:  16054\n",
      "Total n. of artists:  33876\n",
      "Total n. of songs:  274431\n"
     ]
    }
   ],
   "source": [
    "## How many distinct users in data ?\n",
    "\n",
    "uniqueUsers = df_ratings.select('userId').distinct().count()\n",
    "print(\"Total n. of users: \", uniqueUsers)\n",
    "\n",
    "## How many distinct artists in data ?\n",
    "\n",
    "uniqueArtists  = df_ratings.select(\"artistId\").distinct().count()\n",
    "print(\"Total n. of artists: \", uniqueArtists)\n",
    "\n",
    "## How many distinct music in data ?\n",
    "\n",
    "uniqueSongs  = df_ratings.select(\"songId\").distinct().count()\n",
    "print(\"Total n. of songs: \", uniqueSongs)\n"
   ]
  },
  {
   "cell_type": "code",
   "execution_count": 14,
   "metadata": {},
   "outputs": [
    {
     "name": "stdout",
     "output_type": "stream",
     "text": [
      "Total enties with two or more plays: 1428544\n"
     ]
    },
    {
     "data": {
      "text/plain": [
       "DataFrame[userId: int, name: string, songId: int, track_name: string, artistId: int, artist_name: string, track_playcount: int]"
      ]
     },
     "execution_count": 14,
     "metadata": {},
     "output_type": "execute_result"
    }
   ],
   "source": [
    "raw_plays_df_2more_plays = df_ratings.filter(df_ratings.track_playcount >= 10).distinct()\n",
    "\n",
    "tot_entries_2more = raw_plays_df_2more_plays.count()\n",
    "print('Total enties with two or more plays: {0}'.format(tot_entries_2more))\n",
    "\n",
    "raw_plays_df_2more_plays = raw_plays_df_2more_plays.filter(raw_plays_df_2more_plays.userId < (uniqueUsers)) \\\n",
    "                                                   .select('userId',\"name\", 'songId',\"track_name\",'artistId',\"artist_name\", 'track_playcount').orderBy('track_playcount',ascending=False) \n",
    "raw_plays_df_2more_plays.cache() \n"
   ]
  },
  {
   "cell_type": "code",
   "execution_count": 15,
   "metadata": {},
   "outputs": [
    {
     "data": {
      "image/png": "[encoded data removed]",
      "text/plain": [
       "<matplotlib.figure.Figure at 0x7f81cea11a20>"
      ]
     },
     "metadata": {},
     "output_type": "display_data"
    }
   ],
   "source": [
    "#from spark_notebook_helpers import prepareSubplot, np, plt, cm\n",
    "import matplotlib.pyplot as plt\n",
    "from matplotlib.ticker import MaxNLocator\n",
    "from collections import namedtuple\n",
    "\n",
    "total_entries = raw_plays_df_2more_plays.count()\n",
    "\n",
    "number_listens = []\n",
    "for i in range(300):\n",
    "    number_listens.append(float(raw_plays_df_2more_plays.filter(raw_plays_df_2more_plays.track_playcount == i+2).count())/total_entries*100)\n",
    "\n",
    "# bar plot\n",
    "#bar_width = 0.7\n",
    "\n",
    "#fig, ax = prepareSubplot(np.arange(1, 10, 1), np.arange(0, 60, 5))\n",
    "#plt.bar(np.linspace(2,11,10), number_listens, width=bar_width, color=cmap(0))\n",
    "#plt.xticks(np.linspace(2,11,10) + bar_width/2.0, np.linspace(2,11,10))\n",
    "#plt.xlabel('Number of Plays')\n",
    "#plt.ylabel('%')\n",
    "#plt.title('Percentage Number of Plays of Songs')\n",
    "#display(fig)\n",
    "\n",
    "\n",
    "y = number_listens\n",
    "N = len(y)\n",
    "x = np.linspace(2,301,300)\n",
    "bar_width = 0.7\n",
    "index = np.arange(N)\n",
    "\n",
    "\n",
    "fig, ax = plt.subplots()\n",
    "rects1 = ax.bar(x,y,bar_width,color='b', label='listen')\n",
    "\n",
    "fig.tight_layout()\n",
    "plt.show()"
   ]
  },
  {
   "cell_type": "code",
   "execution_count": 16,
   "metadata": {},
   "outputs": [
    {
     "name": "stdout",
     "output_type": "stream",
     "text": [
      "+------+---------------+------+--------------------+--------+--------------------+---------------+\n",
      "|userId|           name|songId|          track_name|artistId|         artist_name|track_playcount|\n",
      "+------+---------------+------+--------------------+--------+--------------------+---------------+\n",
      "|  4826|      Piotr3004|228858|      Break You Hard|   29699|       Natalia Kills|            300|\n",
      "|   706| AdrianoBublitz|106158|Rock You Like a H...|   31078|           Scorpions|            300|\n",
      "|  3801|         sirheo|365918|      Blue Afternoon|     509|    Leighton Meester|            300|\n",
      "|  4447|      merveiles|294733|Go Easy Little Do...|    3801|     Brooke Waggoner|            300|\n",
      "| 15191| unleashth3bats|254759|Go to Hell, for H...|    1052|Bring Me the Horizon|            300|\n",
      "|  4954|        hi_lali|220385|                 505|   27158|      Arctic Monkeys|            300|\n",
      "| 13649|      LeoPBecca|146930| Sembrando El Terror|   15512|   Banda de Turistas|            300|\n",
      "|  4206|OuTRaGeOuS_ErGa|327480|  Stronger Than Ever|   27939|  Christina Aguilera|            300|\n",
      "|  9284|          yanrd|256325|      A Song for You|     443|     Whitney Houston|            300|\n",
      "| 13649|      LeoPBecca| 26650|  Little French Song|   41087|         Carla Bruni|            300|\n",
      "|   499|    Daikiraishi|117286|                DiCe|   12925|              176BIZ|            300|\n",
      "| 13934|         Mufrad|106429| Angels/Losing/Sleep|   18254|      Our Lady Peace|            300|\n",
      "|   580|   Viniciusdf18| 92362|2 Minutes to Midn...|   32262|         Iron Maiden|            300|\n",
      "| 13128|         jadore| 22242|    Bored in the USA|    3385|   Father John Misty|            300|\n",
      "| 14790|HenriqueJackson|376690|     Behind the Mask|   39762|     Michael Jackson|            300|\n",
      "| 10843|MiguelAlejandrx|203514|                Roar|    2656|          Katy Perry|            300|\n",
      "|  2798|      sorayarts|182568| Spirit of the Night|   38583|           Tesla Boy|            300|\n",
      "|  8560|        floydcb|  9298|                Time|   20211|          Pink Floyd|            300|\n",
      "|   657|         X_FISH|363626|Ain't No Rest for...|   28287|   Cage the Elephant|            300|\n",
      "|  1415|     juliendu48|146723|               Magic|   32550|            Coldplay|            300|\n",
      "+------+---------------+------+--------------------+--------+--------------------+---------------+\n",
      "only showing top 20 rows\n",
      "\n"
     ]
    }
   ],
   "source": [
    "\n",
    "df_ratings_less100 = raw_plays_df_2more_plays.filter(raw_plays_df_2more_plays.track_playcount <= 300).distinct()\n",
    "df_ratings_less100.show()"
   ]
  },
  {
   "cell_type": "code",
   "execution_count": 17,
   "metadata": {},
   "outputs": [
    {
     "data": {
      "text/plain": [
       "1385888"
      ]
     },
     "execution_count": 17,
     "metadata": {},
     "output_type": "execute_result"
    }
   ],
   "source": [
    "df_ratings_less100.count()"
   ]
  },
  {
   "cell_type": "code",
   "execution_count": 18,
   "metadata": {},
   "outputs": [
    {
     "name": "stdout",
     "output_type": "stream",
     "text": [
      "Total n. of songs:  238263\n"
     ]
    }
   ],
   "source": [
    "## How many distinct music in data ?\n",
    "\n",
    "uniqueSongs  = df_ratings_less100.select(\"songId\").distinct().count()\n",
    "print(\"Total n. of songs: \", uniqueSongs)"
   ]
  },
  {
   "cell_type": "markdown",
   "metadata": {},
   "source": [
    "### TOTAL PLAY COUNT OF EACH TOP_TRACK"
   ]
  },
  {
   "cell_type": "code",
   "execution_count": 19,
   "metadata": {},
   "outputs": [
    {
     "name": "stdout",
     "output_type": "stream",
     "text": [
      "+--------------------+--------------+----------------+\n",
      "|          track_name|   artist_name|sum(Total_count)|\n",
      "+--------------------+--------------+----------------+\n",
      "|    Do I Wanna Know?|Arctic Monkeys|           95295|\n",
      "|           R U Mine?|Arctic Monkeys|           88676|\n",
      "|         Born to Die|  Lana Del Rey|           79839|\n",
      "|Fluorescent Adole...|Arctic Monkeys|           71564|\n",
      "|          Blue Jeans|  Lana Del Rey|           68159|\n",
      "|         Video Games|  Lana Del Rey|           63214|\n",
      "|                 505|Arctic Monkeys|           62100|\n",
      "|  Summertime Sadness|  Lana Del Rey|           61754|\n",
      "|    Crying Lightning|Arctic Monkeys|           59111|\n",
      "|          West Coast|  Lana Del Rey|           55522|\n",
      "+--------------------+--------------+----------------+\n",
      "only showing top 10 rows\n",
      "\n"
     ]
    }
   ],
   "source": [
    "song_play1 = df_ratings_less100.selectExpr(\"track_name\",\"track_playcount as Total_count\",\"artist_name\").groupBy(col('track_name'),col('artist_name')).sum(\"Total_count\")\n",
    "song_play1.orderBy(\"sum(Total_count)\",ascending=False).show(10)"
   ]
  },
  {
   "cell_type": "code",
   "execution_count": 20,
   "metadata": {},
   "outputs": [
    {
     "data": {
      "text/plain": [
       "[Row(userId=10817, sum(track_playcount)=12470),\n",
       " Row(userId=7880, sum(track_playcount)=8543),\n",
       " Row(userId=14832, sum(track_playcount)=19711),\n",
       " Row(userId=7554, sum(track_playcount)=16476),\n",
       " Row(userId=1342, sum(track_playcount)=17840)]"
      ]
     },
     "execution_count": 20,
     "metadata": {},
     "output_type": "execute_result"
    }
   ],
   "source": [
    "#How many times each user has played a song?\n",
    "# Compute user activity\n",
    "# We are interested in how many playcounts each user has scored.\n",
    "\n",
    "userActivity =  df_ratings_less100.groupBy(\"userId\").sum(\"track_playcount\").collect()\n",
    "userActivity[0:5]"
   ]
  },
  {
   "cell_type": "code",
   "execution_count": 21,
   "metadata": {},
   "outputs": [
    {
     "name": "stdout",
     "output_type": "stream",
     "text": [
      "[    0     1     2 ..., 15149 15150 15151]\n"
     ]
    },
    {
     "data": {
      "image/png": "[encoded data removed]",
      "text/plain": [
       "<matplotlib.figure.Figure at 0x7f819d0c42b0>"
      ]
     },
     "metadata": {},
     "output_type": "display_data"
    }
   ],
   "source": [
    "## Plot CDF (or ECDF) of number of play counts per User ID.\n",
    "pdf = pd.DataFrame(data=userActivity)\n",
    "##sort the playcounts of each user has scored\n",
    "Y=np.sort( pdf[1] )\n",
    "##scale of ylabel\n",
    "yvals=np.arange(len(Y))/float(len(Y))\n",
    "\n",
    "print(np.arange(len(Y)))\n",
    "\n",
    "plt.plot( Y, yvals )\n",
    "plt.xlabel('Play Counts')\n",
    "plt.xlim(0,20000)   # We shrink the window \n",
    "plt.ylabel('ECDF')\n",
    "plt.grid(True,which=\"both\",ls=\"-\")\n",
    "plt.title('ECDF of number of play counts per User ID')\n",
    "plt.show()"
   ]
  },
  {
   "cell_type": "code",
   "execution_count": 22,
   "metadata": {},
   "outputs": [
    {
     "name": "stdout",
     "output_type": "stream",
     "text": [
      "3.0 percent of the users has less than:  61  play counts\n",
      "10.0 percent of the users has less than:  428  play counts\n",
      "25.0 percent of the users has less than:  1823  play counts\n",
      "50.0 percent of the users has less than:  4330  play counts\n",
      "75.0 percent of the users has less than:  8094  play counts\n",
      "90.0 percent of the users has less than:  12563  play counts\n"
     ]
    }
   ],
   "source": [
    "# Additional relevant code\n",
    "percentiles = [0.03, 0.10, 0.25, 0.50, 0.75, 0.90]\n",
    "for p in percentiles:\n",
    "    i = np.where(yvals<=p)[0][-1]    \n",
    "    print(str(p*100),\"percent of the users has less than: \",Y[i],\" play counts\")"
   ]
  },
  {
   "cell_type": "code",
   "execution_count": 23,
   "metadata": {},
   "outputs": [
    {
     "name": "stdout",
     "output_type": "stream",
     "text": [
      "[     0      1      2 ..., 238260 238261 238262]\n"
     ]
    },
    {
     "data": {
      "image/png": "[encoded data removed]",
      "text/plain": [
       "<matplotlib.figure.Figure at 0x7f819d0dbd30>"
      ]
     },
     "metadata": {},
     "output_type": "display_data"
    }
   ],
   "source": [
    "# Compute music popularity\n",
    "# We are interested in how many playcounts per music\n",
    "# ATTENTION! Grouping by artistID may be problematic, as stated above.\n",
    "\n",
    "musicPopularity = df_ratings_less100.groupby(\"songId\").sum(\"track_playcount\").collect()\n",
    "#transform dataframe pandas\n",
    "pdf = pd.DataFrame(data=musicPopularity)\n",
    "Y=np.sort( pdf[1] )\n",
    "yvals=np.arange(len(Y))/float(len(Y))\n",
    "\n",
    "print(np.arange(len(Y)))\n",
    "\n",
    "plt.plot( Y, yvals )\n",
    "plt.xlabel('Play Counts')\n",
    "plt.xlim(0,2000)\n",
    "plt.ylabel('ECDF')\n",
    "plt.grid(True,which=\"both\",ls=\"-\")\n",
    "plt.title('ECDF of number of play counts per music ID')\n",
    "plt.show()"
   ]
  },
  {
   "cell_type": "code",
   "execution_count": 24,
   "metadata": {},
   "outputs": [
    {
     "name": "stdout",
     "output_type": "stream",
     "text": [
      "3.0 percent of the music has less than:  12  playcount \n",
      "10.0 percent of the music has less than:  18  playcount \n",
      "25.0 percent of the music has less than:  34  playcount \n",
      "50.0 percent of the music has less than:  79  playcount \n",
      "75.0 percent of the music has less than:  207  playcount \n",
      "90.0 percent of the music has less than:  594  playcount \n",
      "95.0 percent of the music has less than:  1267  playcount \n"
     ]
    }
   ],
   "source": [
    "# Additional relevant code\n",
    "percentiles = [0.03, 0.10, 0.25, 0.50, 0.75, 0.90, 0.95]\n",
    "for p in percentiles:\n",
    "    i = np.where(yvals<=p)[0][-1]    \n",
    "    print(str(p*100),\"percent of the music has less than: \",Y[i],\" playcount \")"
   ]
  },
  {
   "cell_type": "markdown",
   "metadata": {},
   "source": [
    "### Total count of  a song listened by users"
   ]
  },
  {
   "cell_type": "code",
   "execution_count": 25,
   "metadata": {},
   "outputs": [
    {
     "name": "stdout",
     "output_type": "stream",
     "text": [
      "+--------------------+-----------------+-----+\n",
      "|          track_name|      artist_name|count|\n",
      "+--------------------+-----------------+-----+\n",
      "|    Do I Wanna Know?|   Arctic Monkeys| 1411|\n",
      "|           R U Mine?|   Arctic Monkeys| 1254|\n",
      "|Fluorescent Adole...|   Arctic Monkeys| 1064|\n",
      "|         Born to Die|     Lana Del Rey| 1059|\n",
      "|          Blue Jeans|     Lana Del Rey|  915|\n",
      "|         Video Games|     Lana Del Rey|  870|\n",
      "|  Summertime Sadness|     Lana Del Rey|  865|\n",
      "|                 505|   Arctic Monkeys|  859|\n",
      "|      Mr. Brightside|      The Killers|  816|\n",
      "|I Bet You Look Go...|   Arctic Monkeys|  812|\n",
      "|Why'd You Only Ca...|   Arctic Monkeys|  809|\n",
      "|    Crying Lightning|   Arctic Monkeys|  806|\n",
      "|  You Only Live Once|      The Strokes|  782|\n",
      "|     Pumped Up Kicks|Foster the People|  780|\n",
      "|              Royals|            Lorde|  758|\n",
      "|            Arabella|   Arctic Monkeys|  757|\n",
      "|           Mardy Bum|   Arctic Monkeys|  745|\n",
      "|     National Anthem|     Lana Del Rey|  729|\n",
      "|        Teddy Picker|   Arctic Monkeys|  717|\n",
      "|            Reptilia|      The Strokes|  714|\n",
      "+--------------------+-----------------+-----+\n",
      "only showing top 20 rows\n",
      "\n"
     ]
    }
   ],
   "source": [
    "song_play =df_ratings_less100.groupBy(\"track_name\", \"artist_name\").count()\n",
    "song_play.orderBy(\"count\", ascending=False).show()"
   ]
  },
  {
   "cell_type": "code",
   "execution_count": null,
   "metadata": {
    "collapsed": true
   },
   "outputs": [],
   "source": []
  },
  {
   "cell_type": "code",
   "execution_count": 26,
   "metadata": {},
   "outputs": [
    {
     "data": {
      "text/plain": [
       "1385888"
      ]
     },
     "execution_count": 26,
     "metadata": {},
     "output_type": "execute_result"
    }
   ],
   "source": [
    "grouped_sum0 = song_play.selectExpr('count')\n",
    "grouped_sum0 = grouped_sum0.groupBy().sum().collect()[0][0]\n",
    "grouped_sum0"
   ]
  },
  {
   "cell_type": "code",
   "execution_count": 27,
   "metadata": {},
   "outputs": [
    {
     "name": "stdout",
     "output_type": "stream",
     "text": [
      "+--------------------+-----------------+-----+--------------------+\n",
      "|          track_name|      artist_name|count|          porcentage|\n",
      "+--------------------+-----------------+-----+--------------------+\n",
      "|    Do I Wanna Know?|   Arctic Monkeys| 1411| 0.10181197903438084|\n",
      "|           R U Mine?|   Arctic Monkeys| 1254| 0.09048350227435406|\n",
      "|Fluorescent Adole...|   Arctic Monkeys| 1064| 0.07677388071763375|\n",
      "|         Born to Die|     Lana Del Rey| 1059| 0.07641310120298321|\n",
      "|          Blue Jeans|     Lana Del Rey|  915| 0.06602265118104782|\n",
      "|         Video Games|     Lana Del Rey|  870|   0.062775635549193|\n",
      "|  Summertime Sadness|     Lana Del Rey|  865| 0.06241485603454247|\n",
      "|                 505|   Arctic Monkeys|  859| 0.06198192061696183|\n",
      "|      Mr. Brightside|      The Killers|  816|0.058879216790967234|\n",
      "|I Bet You Look Go...|   Arctic Monkeys|  812| 0.05859059317924681|\n",
      "|Why'd You Only Ca...|   Arctic Monkeys|  809|0.058374125470456485|\n",
      "|    Crying Lightning|   Arctic Monkeys|  806| 0.05815765776166616|\n",
      "|  You Only Live Once|      The Strokes|  782|  0.0564259160913436|\n",
      "|     Pumped Up Kicks|Foster the People|  780|0.056281604285483386|\n",
      "|              Royals|            Lorde|  758|0.054694174421021036|\n",
      "|            Arabella|   Arctic Monkeys|  757|0.054622018518090926|\n",
      "|           Mardy Bum|   Arctic Monkeys|  745| 0.05375614768292964|\n",
      "|     National Anthem|     Lana Del Rey|  729| 0.05260165323604793|\n",
      "|        Teddy Picker|   Arctic Monkeys|  717| 0.05173578240088665|\n",
      "|            Reptilia|      The Strokes|  714| 0.05151931469209633|\n",
      "+--------------------+-----------------+-----+--------------------+\n",
      "only showing top 20 rows\n",
      "\n"
     ]
    }
   ],
   "source": [
    "y = song_play.withColumn(\"porcentage\", (song_play['count']/grouped_sum0)*100)\n",
    "#song_play.selectExpr((song_play['count'] / grouped_sum0)*100)\n",
    "y.orderBy(\"count\", ascending=False).show()"
   ]
  },
  {
   "cell_type": "code",
   "execution_count": null,
   "metadata": {
    "collapsed": true
   },
   "outputs": [],
   "source": []
  },
  {
   "cell_type": "code",
   "execution_count": 42,
   "metadata": {
    "collapsed": true
   },
   "outputs": [],
   "source": [
    "#save notebook session \n",
    "#import dill\n",
    "#dill.dump_session(\"notebook_env.db\")"
   ]
  },
  {
   "cell_type": "code",
   "execution_count": null,
   "metadata": {
    "collapsed": true
   },
   "outputs": [],
   "source": []
  }
 ],
 "metadata": {
  "kernelspec": {
   "display_name": "Python 3",
   "language": "python",
   "name": "python3"
  },
  "language_info": {
   "codemirror_mode": {
    "name": "ipython",
    "version": 3
   },
   "file_extension": ".py",
   "mimetype": "text/x-python",
   "name": "python",
   "nbconvert_exporter": "python",
   "pygments_lexer": "ipython3",
   "version": "3.6.3"
  }
 },
 "nbformat": 4,
 "nbformat_minor": 2
}
