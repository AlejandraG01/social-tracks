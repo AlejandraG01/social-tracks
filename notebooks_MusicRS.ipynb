{
 "cells": [
  {
   "cell_type": "code",
   "execution_count": 4,
   "metadata": {},
   "outputs": [
    {
     "data": {
      "text/html": [
       "\n",
       "        <div>\n",
       "            <p><b>SparkContext</b></p>\n",
       "\n",
       "            <p><a href=\"http://192.168.1.105:4040\">Spark UI</a></p>\n",
       "\n",
       "            <dl>\n",
       "              <dt>Version</dt>\n",
       "                <dd><code>v2.2.1</code></dd>\n",
       "              <dt>Master</dt>\n",
       "                <dd><code>local[*]</code></dd>\n",
       "              <dt>AppName</dt>\n",
       "                <dd><code>PySparkShell</code></dd>\n",
       "            </dl>\n",
       "        </div>\n",
       "        "
      ],
      "text/plain": [
       "<SparkContext master=local[*] appName=PySparkShell>"
      ]
     },
     "execution_count": 4,
     "metadata": {},
     "output_type": "execute_result"
    }
   ],
   "source": [
    "sc"
   ]
  },
  {
   "cell_type": "code",
   "execution_count": 5,
   "metadata": {
    "collapsed": true
   },
   "outputs": [],
   "source": [
    "from pyspark.ml.evaluation import RegressionEvaluator\n",
    "from pyspark.ml.recommendation import ALS\n",
    "from pyspark.sql import Row\n",
    "from pyspark.sql.functions import *\n",
    "from pyspark.sql.types import *\n",
    "\n",
    "\n"
   ]
  },
  {
   "cell_type": "code",
   "execution_count": 24,
   "metadata": {
    "collapsed": true
   },
   "outputs": [],
   "source": [
    "%matplotlib inline\n",
    "import matplotlib.pyplot as plt\n",
    "import pandas as pd\n",
    "import numpy as np\n",
    "from time import time"
   ]
  },
  {
   "cell_type": "code",
   "execution_count": 6,
   "metadata": {
    "scrolled": true
   },
   "outputs": [
    {
     "data": {
      "text/plain": [
       "[Row(_c0=0, _id='5afe3eaf5030e62c08fc9860', name='fernandomaiscal', topTracks_artist_mbid='c3d14b41-a48d-488f-bfed-ce0597bb0b1f', topTracks_artist_name='Kenny Rogers', topTracks_mbid='3a3a8a18-32a4-41f5-a443-61cc28a23c0a', topTracks_name='All I Ever Need Is You (feat. Dottie West)', topTracks_playcount='110', new_userId='0', new_songId=51749, new_artistId=19278),\n",
       " Row(_c0=1, _id='5afe3eaf5030e62c08fc9860', name='fernandomaiscal', topTracks_artist_mbid='145a7738-d7fb-4041-9da6-1c26790f899d', topTracks_artist_name='Geraldo Azevedo', topTracks_mbid='9c41b5e4-0bba-40b7-bcf4-f2b70c4f61c7', topTracks_name='Dia Branco', topTracks_playcount='53', new_userId='0', new_songId=138893, new_artistId=1799)]"
      ]
     },
     "execution_count": 6,
     "metadata": {},
     "output_type": "execute_result"
    }
   ],
   "source": [
    "#lines = spark.read.csv(\"gs://dataset-rs/dataset-last.fm/dataset_lastfm.csv\", header=\"true\",inferSchema=\"true\").rdd\n",
    "lines = spark.read.csv(\"/home/aleja/Documentos/datasets/meu-lastfm/lastFM_v2.csv\", header=\"true\",inferSchema=\"true\").rdd\n",
    "\n",
    "lines.take(2)"
   ]
  },
  {
   "cell_type": "code",
   "execution_count": 7,
   "metadata": {},
   "outputs": [
    {
     "data": {
      "text/plain": [
       "DataFrame[_c0: bigint, _id: string, name: string, topTracks_artist_mbid: string, topTracks_artist_name: string, topTracks_mbid: string, topTracks_name: string, topTracks_playcount: int, new_userId: string, new_songId: bigint, new_artistId: bigint]"
      ]
     },
     "execution_count": 7,
     "metadata": {},
     "output_type": "execute_result"
    }
   ],
   "source": [
    "#Create dataframe\n",
    "ratings = spark.createDataFrame(lines) \n",
    "ratings = ratings.withColumn(\"topTracks_playcount\", col(\"topTracks_playcount\").cast('int'))\n",
    "\n",
    "ratings"
   ]
  },
  {
   "cell_type": "code",
   "execution_count": 8,
   "metadata": {},
   "outputs": [
    {
     "data": {
      "text/plain": [
       "650664"
      ]
     },
     "execution_count": 8,
     "metadata": {},
     "output_type": "execute_result"
    }
   ],
   "source": [
    "#50% Sample of data \n",
    "df_ratings = ratings.sample(False,fraction=0.5, seed=1)\n",
    "df_ratings.select('_Id').count()"
   ]
  },
  {
   "cell_type": "code",
   "execution_count": 9,
   "metadata": {},
   "outputs": [
    {
     "data": {
      "text/plain": [
       "6401"
      ]
     },
     "execution_count": 9,
     "metadata": {},
     "output_type": "execute_result"
    }
   ],
   "source": [
    "#Drop NaN data \n",
    "df_ratings = df_ratings.na.drop()\n"
   ]
  },
  {
   "cell_type": "code",
   "execution_count": 10,
   "metadata": {},
   "outputs": [
    {
     "name": "stdout",
     "output_type": "stream",
     "text": [
      "+---+--------------------+---------------+---------------------+---------------------+--------------------+--------------------+-------------------+----------+----------+------------+\n",
      "|_c0|                 _id|           name|topTracks_artist_mbid|topTracks_artist_name|      topTracks_mbid|      topTracks_name|topTracks_playcount|new_userId|new_songId|new_artistId|\n",
      "+---+--------------------+---------------+---------------------+---------------------+--------------------+--------------------+-------------------+----------+----------+------------+\n",
      "|  0|5afe3eaf5030e62c0...|fernandomaiscal| c3d14b41-a48d-488...|         Kenny Rogers|3a3a8a18-32a4-41f...|All I Ever Need I...|                110|         0|     51749|       19278|\n",
      "|  2|5afe3eaf5030e62c0...|fernandomaiscal| 4d5447d7-c61c-412...|          John Lennon|0b9928a1-d751-49d...|    Gimme Some Truth|                 49|         0|     10120|        7137|\n",
      "|  3|5afe3eaf5030e62c0...|fernandomaiscal| 5441c29d-3602-489...|          David Bowie|cf55cf5d-8d01-494...|  Station to Station|                 48|         0|    184589|        7790|\n",
      "|  6|5afe3eaf5030e62c0...|fernandomaiscal| 5441c29d-3602-489...|          David Bowie|cc9bd602-c83c-4ab...|       Life on Mars?|                 42|         0|    182193|        7790|\n",
      "|  8|5afe3eaf5030e62c0...|fernandomaiscal| d6e0e274-8e19-44c...|         Led Zeppelin|3dd24d0e-4c49-48e...|Since I've Been L...|                 40|         0|     55025|       21427|\n",
      "+---+--------------------+---------------+---------------------+---------------------+--------------------+--------------------+-------------------+----------+----------+------------+\n",
      "only showing top 5 rows\n",
      "\n"
     ]
    }
   ],
   "source": [
    "df_ratings.show(5)"
   ]
  },
  {
   "cell_type": "code",
   "execution_count": 11,
   "metadata": {},
   "outputs": [
    {
     "name": "stdout",
     "output_type": "stream",
     "text": [
      "root\n",
      " |-- _c0: long (nullable = true)\n",
      " |-- _id: string (nullable = true)\n",
      " |-- name: string (nullable = true)\n",
      " |-- topTracks_artist_mbid: string (nullable = true)\n",
      " |-- topTracks_artist_name: string (nullable = true)\n",
      " |-- topTracks_mbid: string (nullable = true)\n",
      " |-- topTracks_name: string (nullable = true)\n",
      " |-- topTracks_playcount: integer (nullable = true)\n",
      " |-- new_userId: string (nullable = true)\n",
      " |-- new_songId: long (nullable = true)\n",
      " |-- new_artistId: long (nullable = true)\n",
      "\n"
     ]
    }
   ],
   "source": [
    "df_ratings.printSchema()"
   ]
  },
  {
   "cell_type": "code",
   "execution_count": 12,
   "metadata": {
    "collapsed": true
   },
   "outputs": [],
   "source": [
    "df_ratings = df_ratings.withColumn(\"new_userId\", col(\"new_userId\").cast(\"int\"))\n",
    "df_ratings = df_ratings.withColumn(\"new_songId\", col(\"new_songId\").cast(\"int\"))\n",
    "df_ratings = df_ratings.withColumn(\"new_artistId\", col(\"new_artistId\").cast(\"int\"))\n",
    "\n",
    "\n"
   ]
  },
  {
   "cell_type": "markdown",
   "metadata": {},
   "source": [
    "## change ids from strings to integers\n"
   ]
  },
  {
   "cell_type": "code",
   "execution_count": null,
   "metadata": {
    "collapsed": true
   },
   "outputs": [],
   "source": [
    "#userId_change = df_ratings.select('_Id').distinct().select('_Id', monotonically_increasing_id().alias('new_userId'))\n",
    "#songId_change = df_ratings.select('topTracks_mbid').distinct().select('topTracks_mbid', monotonically_increasing_id().alias('new_songId'))\n",
    "#artistId_change = df_ratings.select('topTracks_artist_mbid').distinct().select('topTracks_artist_mbid', monotonically_increasing_id().alias('new_artistId'))\n"
   ]
  },
  {
   "cell_type": "code",
   "execution_count": null,
   "metadata": {
    "collapsed": true
   },
   "outputs": [],
   "source": [
    "#userId_change.orderBy('new_userID').show(100, truncate=False)"
   ]
  },
  {
   "cell_type": "code",
   "execution_count": null,
   "metadata": {
    "collapsed": true
   },
   "outputs": [],
   "source": [
    "#songId_change.orderBy('new_songId').show(1000, truncate=False)"
   ]
  },
  {
   "cell_type": "code",
   "execution_count": null,
   "metadata": {
    "collapsed": true
   },
   "outputs": [],
   "source": [
    "# join dataframes\n",
    "#df_ratings_with_int_ids = df_ratings.join(userId_change, '_Id').join(songId_change, 'topTracks_mbid').join(artistId_change, 'topTracks_artist_mbid')\n",
    "#df_ratings_with_int_ids"
   ]
  },
  {
   "cell_type": "code",
   "execution_count": null,
   "metadata": {
    "collapsed": true
   },
   "outputs": [],
   "source": [
    "#df_ratings_with_int_ids = df_ratings_with_int_ids.withColumn(\"new_userId\", col(\"new_userId\").cast(\"decimal.Decimal\"))\n",
    "#df_ratings_with_int_ids = df_ratings_with_int_ids.withColumn(\"new_songId\", col(\"new_songId\").cast(\"decimal.Decimal\"))\n",
    "#df_ratings_with_int_ids = df_ratings_with_int_ids.withColumn(\"new_artistId\", col(\"new_artistId\").cast(\"decimal.Decimal\"))\n",
    "\n",
    "\n",
    "\n"
   ]
  },
  {
   "cell_type": "code",
   "execution_count": null,
   "metadata": {
    "collapsed": true
   },
   "outputs": [],
   "source": [
    "#df_ratings_with_int_ids.selectExpr('new_userId','new_songId','topTracks_name','topTracks_playcount').orderBy(col('new_userId'),col('new_songId')).show(100)"
   ]
  },
  {
   "cell_type": "markdown",
   "metadata": {},
   "source": [
    "### TOTAL PLAY COUNT OF EACH TOP_TRACK"
   ]
  },
  {
   "cell_type": "code",
   "execution_count": 13,
   "metadata": {},
   "outputs": [
    {
     "name": "stdout",
     "output_type": "stream",
     "text": [
      "+----------------+---------------------+----------------+\n",
      "|  topTracks_name|topTracks_artist_name|sum(Total_count)|\n",
      "+----------------+---------------------+----------------+\n",
      "|       Interlude|                 Muse|          162964|\n",
      "|    Come to Dust|     Boards of Canada|          104691|\n",
      "|        Skyliner|     Boards of Canada|          101510|\n",
      "|       Na Batida|               Anitta|           63529|\n",
      "|   Born This Way|            Lady Gaga|           59191|\n",
      "| Left Side Drive|     Boards of Canada|           58479|\n",
      "|Do I Wanna Know?|       Arctic Monkeys|           58262|\n",
      "|Amo Bishop Roden|     Boards of Canada|           57984|\n",
      "|     Born to Die|         Lana Del Rey|           57096|\n",
      "|        Applause|            Lady Gaga|           48835|\n",
      "+----------------+---------------------+----------------+\n",
      "only showing top 10 rows\n",
      "\n"
     ]
    }
   ],
   "source": [
    "song_play1 = df_ratings.selectExpr(\"topTracks_name\",\"topTracks_playcount as Total_count\",\"topTracks_artist_name\").groupBy(col('topTracks_name'),col('topTracks_artist_name')).sum(\"Total_count\")\n",
    "song_play1.orderBy(\"sum(Total_count)\",ascending=False).show(10)"
   ]
  },
  {
   "cell_type": "code",
   "execution_count": 14,
   "metadata": {},
   "outputs": [
    {
     "data": {
      "text/plain": [
       "DataFrame[topTracks_name: string, topTracks_artist_name: string, sum(Total_count): bigint]"
      ]
     },
     "execution_count": 14,
     "metadata": {},
     "output_type": "execute_result"
    }
   ],
   "source": [
    "song_play1"
   ]
  },
  {
   "cell_type": "code",
   "execution_count": 46,
   "metadata": {},
   "outputs": [
    {
     "name": "stdout",
     "output_type": "stream",
     "text": [
      "Total n. of users:  6401\n",
      "Total n. of artists:  20859\n",
      "Total n. of songs:  152853\n"
     ]
    }
   ],
   "source": [
    "## How many distinct users in data ?\n",
    "\n",
    "uniqueUsers = df_ratings.select('new_userId').distinct().count()\n",
    "print(\"Total n. of users: \", uniqueUsers)\n",
    "\n",
    "## How many distinct artists in data ?\n",
    "\n",
    "uniqueArtists  = df_ratings.select(\"new_artistId\").distinct().count()\n",
    "print(\"Total n. of artists: \", uniqueArtists)\n",
    "\n",
    "## How many distinct music in data ?\n",
    "\n",
    "uniqueSongs  = df_ratings.select(\"new_songId\").distinct().count()\n",
    "print(\"Total n. of songs: \", uniqueSongs)\n",
    "\n",
    "\n"
   ]
  },
  {
   "cell_type": "code",
   "execution_count": 23,
   "metadata": {},
   "outputs": [
    {
     "data": {
      "text/plain": [
       "[Row(new_userId=148, sum(topTracks_playcount)=14129),\n",
       " Row(new_userId=463, sum(topTracks_playcount)=5348),\n",
       " Row(new_userId=471, sum(topTracks_playcount)=2754),\n",
       " Row(new_userId=496, sum(topTracks_playcount)=670),\n",
       " Row(new_userId=833, sum(topTracks_playcount)=1169)]"
      ]
     },
     "execution_count": 23,
     "metadata": {},
     "output_type": "execute_result"
    }
   ],
   "source": [
    "#How many times each user has played a song?\n",
    "# Compute user activity\n",
    "# We are interested in how many playcounts each user has scored.\n",
    "\n",
    "userActivity =  df_ratings.groupBy(\"new_userId\").sum(\"topTracks_playcount\").collect()\n",
    "userActivity[0:5]"
   ]
  },
  {
   "cell_type": "code",
   "execution_count": 43,
   "metadata": {},
   "outputs": [
    {
     "name": "stdout",
     "output_type": "stream",
     "text": [
      "[   0    1    2 ..., 6398 6399 6400]\n"
     ]
    },
    {
     "data": {
      "image/png": "[encoded data removed]",
      "text/plain": [
       "<matplotlib.figure.Figure at 0x7f4ec728c898>"
      ]
     },
     "metadata": {},
     "output_type": "display_data"
    }
   ],
   "source": [
    "## Plot CDF (or ECDF) of number of play counts per User ID.\n",
    "pdf = pd.DataFrame(data=userActivity)\n",
    "Y=np.sort( pdf[1] )\n",
    "yvals=np.arange(len(Y))/float(len(Y))\n",
    "\n",
    "print(np.arange(len(Y)))\n",
    "\n",
    "plt.plot( Y, yvals )\n",
    "plt.xlabel('Play Counts')\n",
    "plt.xlim(0,30000)   # We shrink the window \n",
    "plt.ylabel('ECDF')\n",
    "plt.grid(True,which=\"both\",ls=\"-\")\n",
    "plt.title('ECDF of number of play counts per User ID')\n",
    "plt.show()\n"
   ]
  },
  {
   "cell_type": "code",
   "execution_count": 32,
   "metadata": {},
   "outputs": [
    {
     "name": "stdout",
     "output_type": "stream",
     "text": [
      "3.0 percent of the users has less than:  96  play counts\n",
      "10.0 percent of the users has less than:  431  play counts\n",
      "25.0 percent of the users has less than:  1592  play counts\n",
      "50.0 percent of the users has less than:  4229  play counts\n",
      "75.0 percent of the users has less than:  8852  play counts\n",
      "90.0 percent of the users has less than:  16327  play counts\n"
     ]
    }
   ],
   "source": [
    "# Additional relevant code\n",
    "percentiles = [0.03, 0.10, 0.25, 0.50, 0.75, 0.90]\n",
    "for p in percentiles:\n",
    "    i = np.where(yvals<=p)[0][-1]    \n",
    "    print(str(p*100),\"percent of the users has less than: \",Y[i],\" play counts\")"
   ]
  },
  {
   "cell_type": "code",
   "execution_count": 38,
   "metadata": {},
   "outputs": [
    {
     "name": "stdout",
     "output_type": "stream",
     "text": [
      "[    0     1     2 ..., 20856 20857 20858]\n"
     ]
    },
    {
     "data": {
      "image/png": "[encoded data removed]",
      "text/plain": [
       "<matplotlib.figure.Figure at 0x7f4e8c2dd9b0>"
      ]
     },
     "metadata": {},
     "output_type": "display_data"
    }
   ],
   "source": [
    "# Compute artist popularity\n",
    "# We are interested in how many playcounts per artist\n",
    "# ATTENTION! Grouping by artistID may be problematic, as stated above.\n",
    "\n",
    "artistPopularity = df_ratings.groupby(\"new_artistId\").sum(\"topTracks_playcount\").collect()\n",
    "\n",
    "pdf = pd.DataFrame(data=artistPopularity)\n",
    "Y=np.sort( pdf[1] )\n",
    "yvals=np.arange(len(Y))/float(len(Y))\n",
    "\n",
    "print(np.arange(len(Y)))\n",
    "\n",
    "plt.plot( Y, yvals )\n",
    "plt.xlabel('Play Counts')\n",
    "plt.xlim(0,2000)\n",
    "plt.ylabel('ECDF')\n",
    "plt.grid(True,which=\"both\",ls=\"-\")\n",
    "plt.title('ECDF of number of play counts per Artist ID')\n",
    "plt.show()"
   ]
  },
  {
   "cell_type": "code",
   "execution_count": 40,
   "metadata": {},
   "outputs": [
    {
     "name": "stdout",
     "output_type": "stream",
     "text": [
      "[     0      1      2 ..., 152850 152851 152852]\n"
     ]
    },
    {
     "data": {
      "image/png": "[encoded data removed]",
      "text/plain": [
       "<matplotlib.figure.Figure at 0x7f4e96177940>"
      ]
     },
     "metadata": {},
     "output_type": "display_data"
    }
   ],
   "source": [
    "# Compute music popularity\n",
    "# We are interested in how many playcounts per music\n",
    "# ATTENTION! Grouping by artistID may be problematic, as stated above.\n",
    "\n",
    "musicPopularity = df_ratings.groupby(\"new_songId\").sum(\"topTracks_playcount\").collect()\n",
    "\n",
    "pdf = pd.DataFrame(data=musicPopularity)\n",
    "Y=np.sort( pdf[1] )\n",
    "yvals=np.arange(len(Y))/float(len(Y))\n",
    "\n",
    "print(np.arange(len(Y)))\n",
    "\n",
    "plt.plot( Y, yvals )\n",
    "plt.xlabel('Play Counts')\n",
    "plt.xlim(0,1000)\n",
    "plt.ylabel('ECDF')\n",
    "plt.grid(True,which=\"both\",ls=\"-\")\n",
    "plt.title('ECDF of number of play counts per music ID')\n",
    "plt.show()"
   ]
  },
  {
   "cell_type": "code",
   "execution_count": 45,
   "metadata": {},
   "outputs": [
    {
     "name": "stdout",
     "output_type": "stream",
     "text": [
      "3.0 percent of the music has less than:  96  playcount \n",
      "10.0 percent of the music has less than:  431  playcount \n",
      "25.0 percent of the music has less than:  1592  playcount \n",
      "50.0 percent of the music has less than:  4229  playcount \n",
      "75.0 percent of the music has less than:  8852  playcount \n",
      "90.0 percent of the music has less than:  16327  playcount \n",
      "95.0 percent of the music has less than:  24752  playcount \n"
     ]
    }
   ],
   "source": [
    "# Additional relevant code\n",
    "percentiles = [0.03, 0.10, 0.25, 0.50, 0.75, 0.90, 0.95]\n",
    "for p in percentiles:\n",
    "    i = np.where(yvals<=p)[0][-1]    \n",
    "    print(str(p*100),\"percent of the music has less than: \",Y[i],\" playcount \")"
   ]
  },
  {
   "cell_type": "markdown",
   "metadata": {},
   "source": [
    "### Total count of  a song listened by users"
   ]
  },
  {
   "cell_type": "code",
   "execution_count": 15,
   "metadata": {},
   "outputs": [
    {
     "name": "stdout",
     "output_type": "stream",
     "text": [
      "+--------------------+---------------------+-----+\n",
      "|      topTracks_name|topTracks_artist_name|count|\n",
      "+--------------------+---------------------+-----+\n",
      "|    Do I Wanna Know?|       Arctic Monkeys|  689|\n",
      "|           R U Mine?|       Arctic Monkeys|  606|\n",
      "|         Born to Die|         Lana Del Rey|  553|\n",
      "|          Blue Jeans|         Lana Del Rey|  495|\n",
      "|Fluorescent Adole...|       Arctic Monkeys|  495|\n",
      "|         Video Games|         Lana Del Rey|  480|\n",
      "|  Summertime Sadness|         Lana Del Rey|  455|\n",
      "|     Pumped Up Kicks|    Foster the People|  398|\n",
      "|              Royals|                Lorde|  397|\n",
      "|            Arabella|       Arctic Monkeys|  396|\n",
      "|I Bet You Look Go...|       Arctic Monkeys|  395|\n",
      "|                 505|       Arctic Monkeys|  384|\n",
      "|          West Coast|         Lana Del Rey|  375|\n",
      "|Why'd You Only Ca...|       Arctic Monkeys|  363|\n",
      "|     National Anthem|         Lana Del Rey|  361|\n",
      "|                Team|                Lorde|  354|\n",
      "|      Mr. Brightside|          The Killers|  343|\n",
      "|        Teddy Picker|       Arctic Monkeys|  338|\n",
      "|    Off to the Races|         Lana Del Rey|  334|\n",
      "|       Dark Paradise|         Lana Del Rey|  330|\n",
      "+--------------------+---------------------+-----+\n",
      "only showing top 20 rows\n",
      "\n"
     ]
    }
   ],
   "source": [
    "song_play =df_ratings.groupBy(\"topTracks_name\", \"topTracks_artist_name\").count()\n",
    "song_play.orderBy(\"count\", ascending=False).show()"
   ]
  },
  {
   "cell_type": "code",
   "execution_count": 16,
   "metadata": {},
   "outputs": [
    {
     "name": "stdout",
     "output_type": "stream",
     "text": [
      "+-------+------------------+------------------+-------------------+\n",
      "|summary|        new_songId|      new_artistId|topTracks_playcount|\n",
      "+-------+------------------+------------------+-------------------+\n",
      "|  count|            569948|            569948|             569948|\n",
      "|   mean|114083.84465775825|13585.331646044902|  82.92412465698625|\n",
      "| stddev| 65769.97457067823| 7549.767056224133|  407.8531211469318|\n",
      "|    min|                 0|                 0|                  1|\n",
      "|    max|            227463|             26552|             161760|\n",
      "+-------+------------------+------------------+-------------------+\n",
      "\n"
     ]
    }
   ],
   "source": [
    "df_ratings.selectExpr(\"new_songId\", \"new_artistId\",'topTracks_playcount').distinct().describe().show()"
   ]
  },
  {
   "cell_type": "code",
   "execution_count": 14,
   "metadata": {},
   "outputs": [
    {
     "data": {
      "text/plain": [
       "650661"
      ]
     },
     "execution_count": 14,
     "metadata": {},
     "output_type": "execute_result"
    }
   ],
   "source": [
    "grouped_sum0 = song_play.selectExpr('count')\n",
    "grouped_sum0 = grouped_sum0.groupBy().sum().collect()[0][0]\n",
    "grouped_sum0\n"
   ]
  },
  {
   "cell_type": "code",
   "execution_count": null,
   "metadata": {
    "collapsed": true
   },
   "outputs": [],
   "source": [
    "y = song_play.withColumn(\"porcentage\", (song_play['count']/grouped_sum0)*100)\n",
    "#song_play.selectExpr((song_play['count'] / grouped_sum0)*100)\n",
    "y.orderBy(\"count\", ascending=False).show()\n"
   ]
  },
  {
   "cell_type": "code",
   "execution_count": null,
   "metadata": {
    "collapsed": true
   },
   "outputs": [],
   "source": [
    "music_data =  df_ratings.selectExpr(\"new_songId\",\"topTracks_name\",\"new_artistId\",\"topTracks_artist_name\")\n",
    "music_data"
   ]
  },
  {
   "cell_type": "markdown",
   "metadata": {},
   "source": [
    "### Split the dataset Training and test data"
   ]
  },
  {
   "cell_type": "code",
   "execution_count": 57,
   "metadata": {},
   "outputs": [
    {
     "name": "stdout",
     "output_type": "stream",
     "text": [
      "+----------+----------+-------------------+\n",
      "|new_userId|new_songId|topTracks_playcount|\n",
      "+----------+----------+-------------------+\n",
      "|         0|      1140|                 16|\n",
      "|         0|      1165|                 22|\n",
      "|         0|      1566|                 16|\n",
      "|         0|      1972|                 23|\n",
      "|         0|      2798|                 30|\n",
      "|         0|      5271|                 23|\n",
      "|         0|      5916|                 22|\n",
      "|         0|      6594|                 23|\n",
      "|         0|      7632|                 13|\n",
      "|         0|      7926|                 26|\n",
      "+----------+----------+-------------------+\n",
      "only showing top 10 rows\n",
      "\n"
     ]
    }
   ],
   "source": [
    "#sub_rating_data = df_ratings_with_int_ids.select(\"new_userId\",\"new_songId\",\"topTracks_playcount\")\n",
    "sub_rating_data = df_ratings.select(\"new_userId\",\"new_songId\",\"topTracks_playcount\")\n",
    "sub_rating_data\n",
    "sub_rating_data.orderBy(col('new_userId'),col('new_songId')).show(10)\n"
   ]
  },
  {
   "cell_type": "code",
   "execution_count": 50,
   "metadata": {},
   "outputs": [
    {
     "name": "stdout",
     "output_type": "stream",
     "text": [
      "root\n",
      " |-- new_userId: integer (nullable = true)\n",
      " |-- new_songId: integer (nullable = true)\n",
      " |-- topTracks_playcount: integer (nullable = true)\n",
      "\n"
     ]
    }
   ],
   "source": [
    "(training, test) = sub_rating_data.randomSplit([0.8, 0.2])\n",
    "training.printSchema()"
   ]
  },
  {
   "cell_type": "code",
   "execution_count": 47,
   "metadata": {
    "collapsed": true
   },
   "outputs": [],
   "source": [
    "#training.orderBy(col('new_userId'),col('new_songId')).show(10)"
   ]
  },
  {
   "cell_type": "code",
   "execution_count": 48,
   "metadata": {
    "collapsed": true
   },
   "outputs": [],
   "source": [
    "#test.orderBy(col('new_userId'),col('new_songId')).show(10)"
   ]
  },
  {
   "cell_type": "markdown",
   "metadata": {},
   "source": [
    "### Treinando ALS"
   ]
  },
  {
   "cell_type": "code",
   "execution_count": 68,
   "metadata": {
    "collapsed": true
   },
   "outputs": [],
   "source": [
    "als = ALS(rank=10, maxIter=10, regParam=0.01, alpha=0.5, implicitPrefs=True, userCol=\"new_userId\", itemCol=\"new_songId\", ratingCol=\"topTracks_playcount\", coldStartStrategy=\"drop\")\n",
    "model = als.fit(training)\n"
   ]
  },
  {
   "cell_type": "code",
   "execution_count": 69,
   "metadata": {
    "collapsed": true
   },
   "outputs": [],
   "source": [
    "##Predictions-  test model\n",
    "predictions = model.transform(test)\n",
    "#predictions.show(10)\n"
   ]
  },
  {
   "cell_type": "markdown",
   "metadata": {},
   "source": [
    "### Acuracia do modelo"
   ]
  },
  {
   "cell_type": "code",
   "execution_count": 74,
   "metadata": {},
   "outputs": [
    {
     "name": "stdout",
     "output_type": "stream",
     "text": [
      "Root-mean-square error = 355.5357067922846\n"
     ]
    }
   ],
   "source": [
    "evaluator = RegressionEvaluator(labelCol=\"topTracks_playcount\", predictionCol=\"prediction\")\n",
    "rmse = evaluator.evaluate(predictions.na.drop(), {evaluator.metricName :\"rmse\"})\n",
    "mae =  evaluator.evaluate(predictions.na.drop(), {evaluator.metricName :\"mae\"})\n",
    "print(\"Root-mean-square error = \" + str(rmse))\n",
    "\n"
   ]
  },
  {
   "cell_type": "code",
   "execution_count": null,
   "metadata": {
    "collapsed": true
   },
   "outputs": [],
   "source": []
  },
  {
   "cell_type": "code",
   "execution_count": null,
   "metadata": {},
   "outputs": [],
   "source": []
  },
  {
   "cell_type": "markdown",
   "metadata": {},
   "source": [
    "## funcion para mejorar la Acuracia del modelo"
   ]
  },
  {
   "cell_type": "code",
   "execution_count": null,
   "metadata": {
    "collapsed": true
   },
   "outputs": [],
   "source": [
    "#performance \n",
    "\n",
    "def kfoldALS(data, k=3, userCol=\"new_userId\", itemCol=\"new_songId\", ratingCol=\"topTracks_playcount\", metricName=\"rmse\",labelCol=\"topTracks_playcount\"):\n",
    "    evaluations = []\n",
    "    weights = [1.0] * k\n",
    "    splits = data.randomSplit(weights)\n",
    "    for i in range(0, k):  \n",
    "        testingSet = splits[i]\n",
    "        trainingSet = spark.createDataFrame(sc.emptyRDD(), data.schema)\n",
    "        for j in range(0, k):\n",
    "            if i == j:\n",
    "                continue\n",
    "            else:\n",
    "                trainingSet = trainingSet.union(splits[j])\n",
    "        als = ALS(userCol=userCol, itemCol=itemCol, ratingCol=ratingCol)\n",
    "        model = als.fit(trainingSet)\n",
    "        predictions = model.transform(testingSet)\n",
    "        evaluator = RegressionEvaluator(metricName=metricName, labelCol=labelCol, predictionCol=\"prediction\")\n",
    "        evaluation = evaluator.evaluate(predictions.na.drop())\n",
    "        print (\"Loop \" + str(i+1) + \": \" + metricName + \" = \" + str(evaluation))\n",
    "        evaluations.append(evaluation)\n",
    "    return sum(evaluations)/float(len(evaluations))"
   ]
  },
  {
   "cell_type": "code",
   "execution_count": null,
   "metadata": {
    "collapsed": true
   },
   "outputs": [],
   "source": [
    "print (\"RMSE = \" + str(kfoldALS(sub_rating_data, k=2)))"
   ]
  },
  {
   "cell_type": "code",
   "execution_count": null,
   "metadata": {
    "collapsed": true
   },
   "outputs": [],
   "source": []
  },
  {
   "cell_type": "markdown",
   "metadata": {},
   "source": [
    "## Función para recomendación"
   ]
  },
  {
   "cell_type": "code",
   "execution_count": null,
   "metadata": {
    "collapsed": true
   },
   "outputs": [],
   "source": [
    "from pyspark.sql.functions import lit\n",
    "\n",
    "\n",
    "\n",
    "def recommendMusic(model, user, nbRecommendations):\n",
    "     # Create a Spark DataFrame with the specified user and all the movies listed in the ratings DataFrame\n",
    "    dataSet = df_ratings.select(\"new_songId\").distinct().withColumn(\"new_userId\", lit(user))\n",
    "\n",
    "    # Create a Spark DataFrame with the movies that have already been rated by this user\n",
    "    musicAlreadyRated = df_ratings.filter(df_ratings.new_userId == user).select(\"new_songId\", \"new_userId\")\n",
    "\n",
    "    # Apply the recommender system to the data set without the already rated movies to predict ratings\n",
    "    predictions = model.transform(dataSet.subtract(musicAlreadyRated)).dropna().orderBy(\"prediction\", ascending=False).limit(nbRecommendations).select(\"new_songId\", \"prediction\")\n",
    "    \n",
    "    # Join with the ratings DataFrame to get the music titles and genres\n",
    "    recommendations = predictions.join(music_data, predictions.new_songId == music_data.new_songId).select(predictions.new_songId, music_data.topTracks_name, music_data.topTracks_artist_name, predictions.prediction).distinct()\n",
    "    recommendations.show(truncate=False)"
   ]
  },
  {
   "cell_type": "code",
   "execution_count": null,
   "metadata": {
    "collapsed": true
   },
   "outputs": [],
   "source": [
    "print (\"Recommendations for user 8:\")\n",
    "recommendMusic(model,1450,5)"
   ]
  },
  {
   "cell_type": "code",
   "execution_count": null,
   "metadata": {
    "collapsed": true
   },
   "outputs": [],
   "source": []
  },
  {
   "cell_type": "markdown",
   "metadata": {},
   "source": []
  },
  {
   "cell_type": "code",
   "execution_count": null,
   "metadata": {
    "collapsed": true
   },
   "outputs": [],
   "source": [
    "df = spark.createDataFrame([(\"A\", 20), (\"B\", 30), (\"D\", 80)],[\"Letter\", \"Number\"])\n",
    "df.show()"
   ]
  },
  {
   "cell_type": "code",
   "execution_count": null,
   "metadata": {
    "collapsed": true
   },
   "outputs": [],
   "source": [
    "f = df.groupBy().sum().collect()\n",
    "f"
   ]
  },
  {
   "cell_type": "code",
   "execution_count": null,
   "metadata": {
    "collapsed": true
   },
   "outputs": [],
   "source": []
  },
  {
   "cell_type": "code",
   "execution_count": null,
   "metadata": {
    "collapsed": true
   },
   "outputs": [],
   "source": []
  },
  {
   "cell_type": "code",
   "execution_count": null,
   "metadata": {
    "collapsed": true
   },
   "outputs": [],
   "source": []
  },
  {
   "cell_type": "code",
   "execution_count": null,
   "metadata": {
    "collapsed": true
   },
   "outputs": [],
   "source": []
  },
  {
   "cell_type": "code",
   "execution_count": null,
   "metadata": {
    "collapsed": true
   },
   "outputs": [],
   "source": []
  },
  {
   "cell_type": "code",
   "execution_count": null,
   "metadata": {
    "collapsed": true
   },
   "outputs": [],
   "source": []
  },
  {
   "cell_type": "code",
   "execution_count": null,
   "metadata": {
    "collapsed": true
   },
   "outputs": [],
   "source": [
    "training.show(2)"
   ]
  },
  {
   "cell_type": "code",
   "execution_count": null,
   "metadata": {
    "collapsed": true
   },
   "outputs": [],
   "source": [
    "training.count()"
   ]
  },
  {
   "cell_type": "code",
   "execution_count": null,
   "metadata": {
    "collapsed": true
   },
   "outputs": [],
   "source": [
    "test.count()"
   ]
  },
  {
   "cell_type": "code",
   "execution_count": null,
   "metadata": {
    "collapsed": true
   },
   "outputs": [],
   "source": [
    "training.filter(training['topTracks_playcount'] > 4).show(10)"
   ]
  },
  {
   "cell_type": "code",
   "execution_count": null,
   "metadata": {
    "collapsed": true
   },
   "outputs": [],
   "source": []
  }
 ],
 "metadata": {
  "kernelspec": {
   "display_name": "Python 3",
   "language": "python",
   "name": "python3"
  },
  "language_info": {
   "codemirror_mode": {
    "name": "ipython",
    "version": 3
   },
   "file_extension": ".py",
   "mimetype": "text/x-python",
   "name": "python",
   "nbconvert_exporter": "python",
   "pygments_lexer": "ipython3",
   "version": "3.6.3"
  }
 },
 "nbformat": 4,
 "nbformat_minor": 2
}
