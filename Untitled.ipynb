{
 "cells": [
  {
   "cell_type": "code",
   "execution_count": null,
   "metadata": {
    "collapsed": true
   },
   "outputs": [],
   "source": [
    "sc"
   ]
  },
  {
   "cell_type": "code",
   "execution_count": null,
   "metadata": {
    "collapsed": true
   },
   "outputs": [],
   "source": [
    "from pyspark.ml.evaluation import RegressionEvaluator\n",
    "from pyspark.ml.recommendation import ALS\n",
    "from pyspark.sql import Row\n",
    "from pyspark.sql.functions import *\n",
    "from pyspark.sql.types import *"
   ]
  },
  {
   "cell_type": "code",
   "execution_count": null,
   "metadata": {
    "collapsed": true
   },
   "outputs": [],
   "source": [
    "%matplotlib inline\n",
    "import matplotlib.pyplot as plt\n",
    "import pandas as pd\n",
    "import numpy as np\n",
    "from time import time"
   ]
  },
  {
   "cell_type": "code",
   "execution_count": null,
   "metadata": {
    "collapsed": true
   },
   "outputs": [],
   "source": [
    "lines = spark.read.csv(\"/home/aleja/Documentos/datasets/meu-lastfm/dataset_lastfm_v3_ConvertIds.csv\", header=\"true\",inferSchema=\"true\").rdd\n",
    "\n",
    "lines.take(2)"
   ]
  },
  {
   "cell_type": "code",
   "execution_count": null,
   "metadata": {
    "collapsed": true
   },
   "outputs": [],
   "source": [
    "#Create dataframe\n",
    "ratings = spark.createDataFrame(lines) \n",
    "#ratings = ratings.withColumn(\"topTracks_playcount\", col(\"topTracks_playcount\").cast('int'))\n",
    "\n",
    "#50% Sample of data \n",
    "df_ratings = ratings.sample(False,fraction=0.5, seed=1)\n",
    "#Drop NaN data \n",
    "df_ratings = df_ratings.na.drop()\n",
    "df_ratings.select('new_userId').count()"
   ]
  },
  {
   "cell_type": "code",
   "execution_count": null,
   "metadata": {
    "collapsed": true
   },
   "outputs": [],
   "source": [
    "df_ratings.show(5)"
   ]
  },
  {
   "cell_type": "code",
   "execution_count": null,
   "metadata": {
    "collapsed": true
   },
   "outputs": [],
   "source": [
    "#changes the names of rows\n",
    "df_ratings =  df_ratings.selectExpr(\"new_userId as userId\",\"name as name\", \"new_songId as songId\",\"track_name as track_name\",\"new_artistId as artistId\", \"artist_name as artist_name\",\"track_playcount as track_playcount\")\n",
    "df_ratings.printSchema()"
   ]
  },
  {
   "cell_type": "code",
   "execution_count": null,
   "metadata": {
    "collapsed": true
   },
   "outputs": [],
   "source": [
    "df_ratings.show(5)"
   ]
  },
  {
   "cell_type": "code",
   "execution_count": null,
   "metadata": {
    "collapsed": true
   },
   "outputs": [],
   "source": [
    "#changes the type of data\n",
    "df_ratings = df_ratings.withColumn(\"userId\", col(\"userId\").cast(\"int\"))\n",
    "df_ratings = df_ratings.withColumn(\"songId\", col(\"songId\").cast(\"int\"))\n",
    "df_ratings = df_ratings.withColumn(\"artistId\", col(\"artistId\").cast(\"int\"))\n",
    "df_ratings = df_ratings.withColumn(\"track_playcount\", col(\"track_playcount\").cast(\"int\"))\n",
    "\n",
    "df_ratings.printSchema()"
   ]
  },
  {
   "cell_type": "code",
   "execution_count": null,
   "metadata": {
    "collapsed": true
   },
   "outputs": [],
   "source": [
    "\n",
    "\n",
    "## How many distinct users in data ?\n",
    "uniqueUsers = df_ratings.select('userId').distinct().count()\n",
    "print(\"Total n. of users: \", uniqueUsers)\n",
    "\n",
    "## How many distinct artists in data ?\n",
    "\n",
    "uniqueArtists  = df_ratings.select(\"artistId\").distinct().count()\n",
    "print(\"Total n. of artists: \", uniqueArtists)\n",
    "\n",
    "## How many distinct music in data ?\n",
    "\n",
    "uniqueSongs  = df_ratings.select(\"songId\").distinct().count()\n",
    "print(\"Total n. of songs: \", uniqueSongs)"
   ]
  },
  {
   "cell_type": "code",
   "execution_count": null,
   "metadata": {
    "collapsed": true
   },
   "outputs": [],
   "source": [
    "raw_plays_df_2more_plays = df_ratings.filter(df_ratings.track_playcount >= 10).distinct()\n",
    "\n",
    "tot_entries_2more = raw_plays_df_2more_plays.count()\n",
    "print('Total enties with two or more plays: {0}'.format(tot_entries_2more))\n",
    "\n",
    "raw_plays_df_2more_plays = raw_plays_df_2more_plays.filter(raw_plays_df_2more_plays.userId < (uniqueUsers)) \\\n",
    "                                                   .select('userId',\"name\", 'songId',\"track_name\",'artistId',\"artist_name\", 'track_playcount').orderBy('track_playcount',ascending=False) \n",
    "raw_plays_df_2more_plays.cache() \n"
   ]
  },
  {
   "cell_type": "code",
   "execution_count": null,
   "metadata": {
    "collapsed": true
   },
   "outputs": [],
   "source": [
    "#from spark_notebook_helpers import prepareSubplot, np, plt, cm\n",
    "import matplotlib.pyplot as plt\n",
    "from matplotlib.ticker import MaxNLocator\n",
    "from collections import namedtuple\n",
    "\n",
    "total_entries = raw_plays_df_2more_plays.count()\n",
    "\n",
    "number_listens = []\n",
    "for i in range(300):\n",
    "    number_listens.append(float(raw_plays_df_2more_plays.filter(raw_plays_df_2more_plays.track_playcount == i+2).count())/total_entries*100)\n",
    "\n",
    "# bar plot\n",
    "#bar_width = 0.7\n",
    "\n",
    "#fig, ax = prepareSubplot(np.arange(1, 10, 1), np.arange(0, 60, 5))\n",
    "#plt.bar(np.linspace(2,11,10), number_listens, width=bar_width, color=cmap(0))\n",
    "#plt.xticks(np.linspace(2,11,10) + bar_width/2.0, np.linspace(2,11,10))\n",
    "#plt.xlabel('Number of Plays')\n",
    "#plt.ylabel('%')\n",
    "#plt.title('Percentage Number of Plays of Songs')\n",
    "#display(fig)\n",
    "\n",
    "\n",
    "y = number_listens\n",
    "N = len(y)\n",
    "x = np.linspace(2,301,300)\n",
    "bar_width = 0.7\n",
    "index = np.arange(N)\n",
    "\n",
    "\n",
    "fig, ax = plt.subplots()\n",
    "rects1 = ax.bar(x,y,bar_width,color='b', label='listen')\n",
    "\n",
    "fig.tight_layout()\n",
    "plt.show()"
   ]
  },
  {
   "cell_type": "code",
   "execution_count": null,
   "metadata": {
    "collapsed": true
   },
   "outputs": [],
   "source": []
  }
 ],
 "metadata": {
  "kernelspec": {
   "display_name": "Python 3",
   "language": "python",
   "name": "python3"
  },
  "language_info": {
   "codemirror_mode": {
    "name": "ipython",
    "version": 3
   },
   "file_extension": ".py",
   "mimetype": "text/x-python",
   "name": "python",
   "nbconvert_exporter": "python",
   "pygments_lexer": "ipython3",
   "version": "3.6.3"
  }
 },
 "nbformat": 4,
 "nbformat_minor": 2
}
